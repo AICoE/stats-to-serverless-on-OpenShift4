{
 "cells": [
  {
   "cell_type": "markdown",
   "metadata": {},
   "source": [
    "# Loading data"
   ]
  },
  {
   "cell_type": "code",
   "execution_count": 1,
   "metadata": {},
   "outputs": [],
   "source": [
    "import numpy as np\n",
    "import pandas as pd\n",
    "df = pd.read_parquet(\"fraud.parquet\")"
   ]
  },
  {
   "cell_type": "markdown",
   "metadata": {},
   "source": [
    "## Cleaning data\n",
    "\n",
    "These data are mostly clean but we need to add a new field for transaction interarrival time.  Unlike the rest of the work in this notebook, we'll do this for *all* our data (i.e., we'll do this before holding out a test set)."
   ]
  },
  {
   "cell_type": "code",
   "execution_count": 2,
   "metadata": {},
   "outputs": [],
   "source": [
    "df = df.sort_values([\"user_id\", \"timestamp\"]).reset_index()\n",
    "del df['index']"
   ]
  },
  {
   "cell_type": "code",
   "execution_count": 3,
   "metadata": {},
   "outputs": [],
   "source": [
    "shifted = df.shift(1)[['user_id', 'timestamp']]\n",
    "\n",
    "df['prev_user_id'] = shifted['user_id']\n",
    "df['prev_timestamp'] = shifted['timestamp']\n",
    "df['interarrival'] = (df['timestamp'] - df['prev_timestamp']).where(df['user_id'] == df['prev_user_id'], np.NaN)\n",
    "\n",
    "del df['prev_user_id']\n",
    "del df['prev_timestamp']"
   ]
  },
  {
   "cell_type": "markdown",
   "metadata": {},
   "source": [
    "We'll also convert user and merchant IDs to strings so that we can hash them later:"
   ]
  },
  {
   "cell_type": "code",
   "execution_count": 4,
   "metadata": {},
   "outputs": [],
   "source": [
    "df[\"user_id\"] = \"user_\" + df[\"user_id\"].astype(str).astype(pd.StringDtype())\n",
    "df[\"merchant_id\"] = \"merchant_\" + df[\"merchant_id\"].astype(str).astype(pd.StringDtype())"
   ]
  },
  {
   "cell_type": "markdown",
   "metadata": {},
   "source": [
    "##  Train/test split\n",
    "\n",
    "We're using time-series data, so we'll split based on time."
   ]
  },
  {
   "cell_type": "code",
   "execution_count": 5,
   "metadata": {},
   "outputs": [],
   "source": [
    "first = df['timestamp'].min()\n",
    "last = df['timestamp'].max()\n",
    "cutoff = first + ((last - first) * 0.7)"
   ]
  },
  {
   "cell_type": "code",
   "execution_count": 6,
   "metadata": {},
   "outputs": [
    {
     "data": {
      "text/plain": [
       "34993345"
      ]
     },
     "execution_count": 6,
     "metadata": {},
     "output_type": "execute_result"
    }
   ],
   "source": [
    "train = df[df['timestamp'] <= cutoff]\n",
    "len(train)"
   ]
  },
  {
   "cell_type": "code",
   "execution_count": 7,
   "metadata": {},
   "outputs": [
    {
     "data": {
      "text/plain": [
       "15006655"
      ]
     },
     "execution_count": 7,
     "metadata": {},
     "output_type": "execute_result"
    }
   ],
   "source": [
    "test = df[df['timestamp'] > cutoff]\n",
    "len(test)"
   ]
  },
  {
   "cell_type": "code",
   "execution_count": 8,
   "metadata": {},
   "outputs": [
    {
     "data": {
      "text/plain": [
       "0.6998669"
      ]
     },
     "execution_count": 8,
     "metadata": {},
     "output_type": "execute_result"
    }
   ],
   "source": [
    "len(train) / (len(train) + len(test))"
   ]
  },
  {
   "cell_type": "markdown",
   "metadata": {},
   "source": [
    "# Encoding categorical features"
   ]
  },
  {
   "cell_type": "code",
   "execution_count": 43,
   "metadata": {},
   "outputs": [],
   "source": [
    "import sklearn\n",
    "from sklearn.pipeline import Pipeline\n",
    "from sklearn import feature_extraction, preprocessing\n",
    "from sklearn.preprocessing import FunctionTransformer\n",
    "from sklearn.compose import ColumnTransformer\n",
    "\n",
    "def mk_hasher(features=16384, values=None):\n",
    "    return sklearn.feature_extraction.FeatureHasher(n_features=features, input_type='string')\n",
    "\n",
    "tt_xform = ('onehot', sklearn.preprocessing.OneHotEncoder(handle_unknown='ignore', categories=[['online','contactless','chip_and_pin','manual','swipe']]), ['trans_type'])\n",
    "mu_xform = ('m_hashing', mk_hasher(2048), 'merchant_id')\n",
    "u_xform = ('u_hashing', mk_hasher(2048), 'user_id')\n",
    "\n",
    "\n",
    "xform_steps = [tt_xform, mu_xform]\n",
    "\n",
    "cat_xform = ColumnTransformer(transformers=xform_steps)\n"
   ]
  },
  {
   "cell_type": "code",
   "execution_count": 38,
   "metadata": {},
   "outputs": [
    {
     "data": {
      "text/plain": [
       "ColumnTransformer(n_jobs=None, remainder='drop', sparse_threshold=0.3,\n",
       "                  transformer_weights=None,\n",
       "                  transformers=[('onehot',\n",
       "                                 OneHotEncoder(categories=[['online',\n",
       "                                                            'contactless',\n",
       "                                                            'chip_and_pin',\n",
       "                                                            'manual',\n",
       "                                                            'swipe']],\n",
       "                                               drop=None,\n",
       "                                               dtype=<class 'numpy.float64'>,\n",
       "                                               handle_unknown='ignore',\n",
       "                                               sparse=True),\n",
       "                                 ['trans_type']),\n",
       "                                ('m_hashing',\n",
       "                                 FeatureHasher(alternate_sign=True,\n",
       "                                               dtype=<cla...\n",
       "                                               n_features=2048),\n",
       "                                 'merchant_id'),\n",
       "                                ('onehot',\n",
       "                                 OneHotEncoder(categories=[['online',\n",
       "                                                            'contactless',\n",
       "                                                            'chip_and_pin',\n",
       "                                                            'manual',\n",
       "                                                            'swipe']],\n",
       "                                               drop=None,\n",
       "                                               dtype=<class 'numpy.float64'>,\n",
       "                                               handle_unknown='ignore',\n",
       "                                               sparse=True),\n",
       "                                 ['trans_type']),\n",
       "                                ('m_hashing',\n",
       "                                 FeatureHasher(alternate_sign=True,\n",
       "                                               dtype=<class 'numpy.float64'>,\n",
       "                                               input_type='string',\n",
       "                                               n_features=2048),\n",
       "                                 'merchant_id')],\n",
       "                  verbose=False)"
      ]
     },
     "execution_count": 38,
     "metadata": {},
     "output_type": "execute_result"
    }
   ],
   "source": [
    "cat_xform"
   ]
  },
  {
   "cell_type": "code",
   "execution_count": 11,
   "metadata": {},
   "outputs": [],
   "source": [
    "smol_train = train.sample(16384).copy()\n"
   ]
  },
  {
   "cell_type": "code",
   "execution_count": 12,
   "metadata": {},
   "outputs": [],
   "source": [
    "smol_train[\"features1\"] = cat_xform.fit_transform(smol_train)"
   ]
  },
  {
   "cell_type": "code",
   "execution_count": 13,
   "metadata": {},
   "outputs": [
    {
     "data": {
      "text/html": [
       "<div>\n",
       "<style scoped>\n",
       "    .dataframe tbody tr th:only-of-type {\n",
       "        vertical-align: middle;\n",
       "    }\n",
       "\n",
       "    .dataframe tbody tr th {\n",
       "        vertical-align: top;\n",
       "    }\n",
       "\n",
       "    .dataframe thead th {\n",
       "        text-align: right;\n",
       "    }\n",
       "</style>\n",
       "<table border=\"1\" class=\"dataframe\">\n",
       "  <thead>\n",
       "    <tr style=\"text-align: right;\">\n",
       "      <th></th>\n",
       "      <th>timestamp</th>\n",
       "      <th>label</th>\n",
       "      <th>user_id</th>\n",
       "      <th>amount</th>\n",
       "      <th>merchant_id</th>\n",
       "      <th>trans_type</th>\n",
       "      <th>foreign</th>\n",
       "      <th>interarrival</th>\n",
       "      <th>features1</th>\n",
       "    </tr>\n",
       "  </thead>\n",
       "  <tbody>\n",
       "    <tr>\n",
       "      <th>2909330</th>\n",
       "      <td>1586630837</td>\n",
       "      <td>legitimate</td>\n",
       "      <td>user_578</td>\n",
       "      <td>19.36</td>\n",
       "      <td>merchant_16627</td>\n",
       "      <td>swipe</td>\n",
       "      <td>False</td>\n",
       "      <td>7907.0</td>\n",
       "      <td>(0, 92)\\t1.0\\n  (0, 179)\\t-1.0\\n  (0, 417)\\t...</td>\n",
       "    </tr>\n",
       "    <tr>\n",
       "      <th>31614200</th>\n",
       "      <td>1594857210</td>\n",
       "      <td>legitimate</td>\n",
       "      <td>user_6325</td>\n",
       "      <td>75.31</td>\n",
       "      <td>merchant_15416</td>\n",
       "      <td>chip_and_pin</td>\n",
       "      <td>False</td>\n",
       "      <td>5342.0</td>\n",
       "      <td>(0, 92)\\t1.0\\n  (0, 179)\\t-1.0\\n  (0, 417)\\t...</td>\n",
       "    </tr>\n",
       "    <tr>\n",
       "      <th>19882432</th>\n",
       "      <td>1608791187</td>\n",
       "      <td>legitimate</td>\n",
       "      <td>user_3975</td>\n",
       "      <td>7.96</td>\n",
       "      <td>merchant_12175</td>\n",
       "      <td>swipe</td>\n",
       "      <td>False</td>\n",
       "      <td>18828.0</td>\n",
       "      <td>(0, 92)\\t1.0\\n  (0, 179)\\t-1.0\\n  (0, 417)\\t...</td>\n",
       "    </tr>\n",
       "    <tr>\n",
       "      <th>21985707</th>\n",
       "      <td>1629031045</td>\n",
       "      <td>legitimate</td>\n",
       "      <td>user_4393</td>\n",
       "      <td>4.13</td>\n",
       "      <td>merchant_12410</td>\n",
       "      <td>swipe</td>\n",
       "      <td>False</td>\n",
       "      <td>6345.0</td>\n",
       "      <td>(0, 92)\\t1.0\\n  (0, 179)\\t-1.0\\n  (0, 417)\\t...</td>\n",
       "    </tr>\n",
       "    <tr>\n",
       "      <th>36816892</th>\n",
       "      <td>1630235399</td>\n",
       "      <td>legitimate</td>\n",
       "      <td>user_7351</td>\n",
       "      <td>11.32</td>\n",
       "      <td>merchant_421</td>\n",
       "      <td>chip_and_pin</td>\n",
       "      <td>False</td>\n",
       "      <td>6159.0</td>\n",
       "      <td>(0, 92)\\t1.0\\n  (0, 179)\\t-1.0\\n  (0, 417)\\t...</td>\n",
       "    </tr>\n",
       "    <tr>\n",
       "      <th>...</th>\n",
       "      <td>...</td>\n",
       "      <td>...</td>\n",
       "      <td>...</td>\n",
       "      <td>...</td>\n",
       "      <td>...</td>\n",
       "      <td>...</td>\n",
       "      <td>...</td>\n",
       "      <td>...</td>\n",
       "      <td>...</td>\n",
       "    </tr>\n",
       "    <tr>\n",
       "      <th>45496927</th>\n",
       "      <td>1630024202</td>\n",
       "      <td>legitimate</td>\n",
       "      <td>user_9088</td>\n",
       "      <td>6.11</td>\n",
       "      <td>merchant_11402</td>\n",
       "      <td>swipe</td>\n",
       "      <td>False</td>\n",
       "      <td>5839.0</td>\n",
       "      <td>(0, 92)\\t1.0\\n  (0, 179)\\t-1.0\\n  (0, 417)\\t...</td>\n",
       "    </tr>\n",
       "    <tr>\n",
       "      <th>36181450</th>\n",
       "      <td>1591541600</td>\n",
       "      <td>legitimate</td>\n",
       "      <td>user_7230</td>\n",
       "      <td>10.78</td>\n",
       "      <td>merchant_4384</td>\n",
       "      <td>swipe</td>\n",
       "      <td>False</td>\n",
       "      <td>5275.0</td>\n",
       "      <td>(0, 92)\\t1.0\\n  (0, 179)\\t-1.0\\n  (0, 417)\\t...</td>\n",
       "    </tr>\n",
       "    <tr>\n",
       "      <th>1061558</th>\n",
       "      <td>1625938321</td>\n",
       "      <td>legitimate</td>\n",
       "      <td>user_209</td>\n",
       "      <td>24.53</td>\n",
       "      <td>merchant_5857</td>\n",
       "      <td>online</td>\n",
       "      <td>False</td>\n",
       "      <td>41744.0</td>\n",
       "      <td>(0, 92)\\t1.0\\n  (0, 179)\\t-1.0\\n  (0, 417)\\t...</td>\n",
       "    </tr>\n",
       "    <tr>\n",
       "      <th>43396518</th>\n",
       "      <td>1615392221</td>\n",
       "      <td>legitimate</td>\n",
       "      <td>user_8668</td>\n",
       "      <td>8.18</td>\n",
       "      <td>merchant_18619</td>\n",
       "      <td>swipe</td>\n",
       "      <td>False</td>\n",
       "      <td>5938.0</td>\n",
       "      <td>(0, 92)\\t1.0\\n  (0, 179)\\t-1.0\\n  (0, 417)\\t...</td>\n",
       "    </tr>\n",
       "    <tr>\n",
       "      <th>3392502</th>\n",
       "      <td>1631256606</td>\n",
       "      <td>legitimate</td>\n",
       "      <td>user_679</td>\n",
       "      <td>3.64</td>\n",
       "      <td>merchant_9466</td>\n",
       "      <td>swipe</td>\n",
       "      <td>False</td>\n",
       "      <td>7470.0</td>\n",
       "      <td>(0, 92)\\t1.0\\n  (0, 179)\\t-1.0\\n  (0, 417)\\t...</td>\n",
       "    </tr>\n",
       "  </tbody>\n",
       "</table>\n",
       "<p>16384 rows × 9 columns</p>\n",
       "</div>"
      ],
      "text/plain": [
       "           timestamp       label    user_id  amount     merchant_id  \\\n",
       "2909330   1586630837  legitimate   user_578   19.36  merchant_16627   \n",
       "31614200  1594857210  legitimate  user_6325   75.31  merchant_15416   \n",
       "19882432  1608791187  legitimate  user_3975    7.96  merchant_12175   \n",
       "21985707  1629031045  legitimate  user_4393    4.13  merchant_12410   \n",
       "36816892  1630235399  legitimate  user_7351   11.32    merchant_421   \n",
       "...              ...         ...        ...     ...             ...   \n",
       "45496927  1630024202  legitimate  user_9088    6.11  merchant_11402   \n",
       "36181450  1591541600  legitimate  user_7230   10.78   merchant_4384   \n",
       "1061558   1625938321  legitimate   user_209   24.53   merchant_5857   \n",
       "43396518  1615392221  legitimate  user_8668    8.18  merchant_18619   \n",
       "3392502   1631256606  legitimate   user_679    3.64   merchant_9466   \n",
       "\n",
       "            trans_type  foreign  interarrival  \\\n",
       "2909330          swipe    False        7907.0   \n",
       "31614200  chip_and_pin    False        5342.0   \n",
       "19882432         swipe    False       18828.0   \n",
       "21985707         swipe    False        6345.0   \n",
       "36816892  chip_and_pin    False        6159.0   \n",
       "...                ...      ...           ...   \n",
       "45496927         swipe    False        5839.0   \n",
       "36181450         swipe    False        5275.0   \n",
       "1061558         online    False       41744.0   \n",
       "43396518         swipe    False        5938.0   \n",
       "3392502          swipe    False        7470.0   \n",
       "\n",
       "                                                  features1  \n",
       "2909330     (0, 92)\\t1.0\\n  (0, 179)\\t-1.0\\n  (0, 417)\\t...  \n",
       "31614200    (0, 92)\\t1.0\\n  (0, 179)\\t-1.0\\n  (0, 417)\\t...  \n",
       "19882432    (0, 92)\\t1.0\\n  (0, 179)\\t-1.0\\n  (0, 417)\\t...  \n",
       "21985707    (0, 92)\\t1.0\\n  (0, 179)\\t-1.0\\n  (0, 417)\\t...  \n",
       "36816892    (0, 92)\\t1.0\\n  (0, 179)\\t-1.0\\n  (0, 417)\\t...  \n",
       "...                                                     ...  \n",
       "45496927    (0, 92)\\t1.0\\n  (0, 179)\\t-1.0\\n  (0, 417)\\t...  \n",
       "36181450    (0, 92)\\t1.0\\n  (0, 179)\\t-1.0\\n  (0, 417)\\t...  \n",
       "1061558     (0, 92)\\t1.0\\n  (0, 179)\\t-1.0\\n  (0, 417)\\t...  \n",
       "43396518    (0, 92)\\t1.0\\n  (0, 179)\\t-1.0\\n  (0, 417)\\t...  \n",
       "3392502     (0, 92)\\t1.0\\n  (0, 179)\\t-1.0\\n  (0, 417)\\t...  \n",
       "\n",
       "[16384 rows x 9 columns]"
      ]
     },
     "execution_count": 13,
     "metadata": {},
     "output_type": "execute_result"
    }
   ],
   "source": [
    "smol_train"
   ]
  },
  {
   "cell_type": "code",
   "execution_count": 55,
   "metadata": {},
   "outputs": [],
   "source": [
    "smol_train = train.sample(65536).copy()\n",
    "\n",
    "\n",
    "fh = sklearn.feature_extraction.FeatureHasher(n_features=1024, input_type='string')\n",
    "smol_train[\"mvecs\"] = fh.fit_transform(smol_train[\"merchant_id\"].values)"
   ]
  },
  {
   "cell_type": "code",
   "execution_count": 15,
   "metadata": {},
   "outputs": [
    {
     "data": {
      "text/plain": [
       "25617143      (0, 92)\\t1.0\\n  (0, 179)\\t-1.0\\n  (0, 192)\\t...\n",
       "11956845      (0, 92)\\t1.0\\n  (0, 179)\\t-1.0\\n  (0, 192)\\t...\n",
       "25237130      (0, 92)\\t1.0\\n  (0, 179)\\t-1.0\\n  (0, 192)\\t...\n",
       "29589058      (0, 92)\\t1.0\\n  (0, 179)\\t-1.0\\n  (0, 192)\\t...\n",
       "1177990       (0, 92)\\t1.0\\n  (0, 179)\\t-1.0\\n  (0, 192)\\t...\n",
       "                                  ...                        \n",
       "16228005      (0, 92)\\t1.0\\n  (0, 179)\\t-1.0\\n  (0, 192)\\t...\n",
       "36890252      (0, 92)\\t1.0\\n  (0, 179)\\t-1.0\\n  (0, 192)\\t...\n",
       "4163968       (0, 92)\\t1.0\\n  (0, 179)\\t-1.0\\n  (0, 192)\\t...\n",
       "5097287       (0, 92)\\t1.0\\n  (0, 179)\\t-1.0\\n  (0, 192)\\t...\n",
       "3204713       (0, 92)\\t1.0\\n  (0, 179)\\t-1.0\\n  (0, 192)\\t...\n",
       "Name: mvecs, Length: 16384, dtype: object"
      ]
     },
     "execution_count": 15,
     "metadata": {},
     "output_type": "execute_result"
    }
   ],
   "source": [
    "smol_train.mvecs\n",
    "\n",
    "\n"
   ]
  },
  {
   "cell_type": "code",
   "execution_count": 16,
   "metadata": {},
   "outputs": [
    {
     "data": {
      "text/plain": [
       "timestamp         int64\n",
       "label            object\n",
       "user_id          string\n",
       "amount          float64\n",
       "merchant_id      string\n",
       "trans_type       object\n",
       "foreign            bool\n",
       "interarrival    float64\n",
       "mvecs            object\n",
       "dtype: object"
      ]
     },
     "execution_count": 16,
     "metadata": {},
     "output_type": "execute_result"
    }
   ],
   "source": [
    "smol_train.dtypes"
   ]
  },
  {
   "cell_type": "code",
   "execution_count": 18,
   "metadata": {},
   "outputs": [],
   "source": [
    "svecs = cat_xform.fit_transform(smol_train)"
   ]
  },
  {
   "cell_type": "markdown",
   "metadata": {},
   "source": [
    "# Encoding other features\n",
    "\n",
    "### FIXME:  \n",
    "\n",
    "- `RobustScaler` for amounts\n",
    "- something circular with timestamps for each user\n",
    "- oversampling (for training)\n"
   ]
  },
  {
   "cell_type": "code",
   "execution_count": 56,
   "metadata": {},
   "outputs": [],
   "source": [
    "from sklearn.preprocessing import RobustScaler\n",
    "from sklearn.impute import SimpleImputer\n",
    "\n",
    "imputer = ('median_imputer', SimpleImputer(), ['interarrival'])\n",
    "ia_scaler = ('interarrival_scaler', RobustScaler(), ['interarrival'])\n",
    "amount_scaler = ('amount_scaler', RobustScaler(), ['amount'])\n",
    "\n",
    "scale_steps = [imputer, ia_scaler, amount_scaler]\n",
    "all_xforms = ColumnTransformer(transformers=(scale_steps + xform_steps))"
   ]
  },
  {
   "cell_type": "code",
   "execution_count": 70,
   "metadata": {},
   "outputs": [
    {
     "data": {
      "text/plain": [
       "1048576"
      ]
     },
     "execution_count": 70,
     "metadata": {},
     "output_type": "execute_result"
    }
   ],
   "source": [
    "1 << 20"
   ]
  },
  {
   "cell_type": "code",
   "execution_count": 90,
   "metadata": {},
   "outputs": [],
   "source": [
    "smol_train = train.dropna().sample(1 << 21).copy()\n",
    "# frauds = smol_train[smol_train[\"label\"] == \"fraud\"].sample(n=len(smol_train), replace=True)"
   ]
  },
  {
   "cell_type": "code",
   "execution_count": 72,
   "metadata": {},
   "outputs": [],
   "source": [
    "# smol_train = pd.concat([smol_train, frauds])"
   ]
  },
  {
   "cell_type": "code",
   "execution_count": 91,
   "metadata": {},
   "outputs": [],
   "source": [
    "smol_train[\"weights\"] = 3"
   ]
  },
  {
   "cell_type": "code",
   "execution_count": 92,
   "metadata": {},
   "outputs": [],
   "source": [
    "smol_train.loc[smol_train[\"label\"] == \"fraud\", \"weights\"] = 97"
   ]
  },
  {
   "cell_type": "code",
   "execution_count": 93,
   "metadata": {},
   "outputs": [
    {
     "data": {
      "text/plain": [
       "LogisticRegression(C=1.0, class_weight=None, dual=False, fit_intercept=True,\n",
       "                   intercept_scaling=1, l1_ratio=None, max_iter=500,\n",
       "                   multi_class='auto', n_jobs=None, penalty='l2',\n",
       "                   random_state=None, solver='lbfgs', tol=0.0001, verbose=0,\n",
       "                   warm_start=False)"
      ]
     },
     "execution_count": 93,
     "metadata": {},
     "output_type": "execute_result"
    }
   ],
   "source": [
    "from sklearn.linear_model import LogisticRegression\n",
    "lr = LogisticRegression(max_iter=500)\n",
    "\n",
    "svecs = all_xforms.fit_transform(smol_train)\n",
    "lr.fit(svecs, smol_train[\"label\"], sample_weight=smol_train[\"weights\"])"
   ]
  },
  {
   "cell_type": "code",
   "execution_count": 94,
   "metadata": {},
   "outputs": [],
   "source": [
    "smol_test = test.dropna().sample(1000000)\n",
    "predictions = lr.predict(all_xforms.fit_transform(smol_test))"
   ]
  },
  {
   "cell_type": "code",
   "execution_count": 95,
   "metadata": {},
   "outputs": [
    {
     "name": "stdout",
     "output_type": "stream",
     "text": [
      "              precision    recall  f1-score   support\n",
      "\n",
      "       fraud       0.39      0.91      0.55     19016\n",
      "  legitimate       1.00      0.97      0.99    980984\n",
      "\n",
      "    accuracy                           0.97   1000000\n",
      "   macro avg       0.69      0.94      0.77   1000000\n",
      "weighted avg       0.99      0.97      0.98   1000000\n",
      "\n"
     ]
    }
   ],
   "source": [
    "from sklearn.metrics import classification_report\n",
    "print(classification_report(smol_test.label.values, predictions))"
   ]
  },
  {
   "cell_type": "code",
   "execution_count": 96,
   "metadata": {},
   "outputs": [
    {
     "data": {
      "text/plain": [
       "0.971434"
      ]
     },
     "execution_count": 96,
     "metadata": {},
     "output_type": "execute_result"
    }
   ],
   "source": [
    "lr.score(all_xforms.fit_transform(smol_test), smol_test.label.values)"
   ]
  },
  {
   "cell_type": "code",
   "execution_count": 99,
   "metadata": {},
   "outputs": [
    {
     "data": {
      "text/plain": [
       "RandomForestClassifier(bootstrap=True, ccp_alpha=0.0,\n",
       "                       class_weight='balanced_subsample', criterion='gini',\n",
       "                       max_depth=None, max_features='auto', max_leaf_nodes=None,\n",
       "                       max_samples=None, min_impurity_decrease=0.0,\n",
       "                       min_impurity_split=None, min_samples_leaf=1,\n",
       "                       min_samples_split=2, min_weight_fraction_leaf=0.0,\n",
       "                       n_estimators=8, n_jobs=None, oob_score=False,\n",
       "                       random_state=404, verbose=0, warm_start=False)"
      ]
     },
     "execution_count": 99,
     "metadata": {},
     "output_type": "execute_result"
    }
   ],
   "source": [
    "from sklearn.ensemble import RandomForestClassifier\n",
    "from sklearn import model_selection\n",
    "\n",
    "rfc = RandomForestClassifier(n_estimators=8, random_state=404, class_weight=\"balanced_subsample\")\n",
    "rfc.fit(svecs, smol_train[\"label\"])"
   ]
  },
  {
   "cell_type": "code",
   "execution_count": 100,
   "metadata": {},
   "outputs": [],
   "source": [
    "smol_test = test.dropna().sample(1000000)\n",
    "rf_predictions = rfc.predict(all_xforms.fit_transform(smol_test))"
   ]
  },
  {
   "cell_type": "code",
   "execution_count": 101,
   "metadata": {},
   "outputs": [
    {
     "name": "stdout",
     "output_type": "stream",
     "text": [
      "              precision    recall  f1-score   support\n",
      "\n",
      "       fraud       0.96      0.92      0.94     19031\n",
      "  legitimate       1.00      1.00      1.00    980969\n",
      "\n",
      "    accuracy                           1.00   1000000\n",
      "   macro avg       0.98      0.96      0.97   1000000\n",
      "weighted avg       1.00      1.00      1.00   1000000\n",
      "\n"
     ]
    }
   ],
   "source": [
    "print(classification_report(smol_test.label.values, rf_predictions))"
   ]
  },
  {
   "cell_type": "code",
   "execution_count": 102,
   "metadata": {},
   "outputs": [
    {
     "data": {
      "text/plain": [
       "0.997791"
      ]
     },
     "execution_count": 102,
     "metadata": {},
     "output_type": "execute_result"
    }
   ],
   "source": [
    "rfc.score(all_xforms.fit_transform(smol_test), smol_test.label.values)"
   ]
  },
  {
   "cell_type": "code",
   "execution_count": 108,
   "metadata": {},
   "outputs": [
    {
     "data": {
      "text/plain": [
       "RandomForestClassifier(bootstrap=True, ccp_alpha=0.0,\n",
       "                       class_weight='balanced_subsample', criterion='gini',\n",
       "                       max_depth=3, max_features='auto', max_leaf_nodes=None,\n",
       "                       max_samples=None, min_impurity_decrease=0.0,\n",
       "                       min_impurity_split=None, min_samples_leaf=1,\n",
       "                       min_samples_split=2, min_weight_fraction_leaf=0.0,\n",
       "                       n_estimators=4, n_jobs=None, oob_score=False,\n",
       "                       random_state=404, verbose=0, warm_start=False)"
      ]
     },
     "execution_count": 108,
     "metadata": {},
     "output_type": "execute_result"
    }
   ],
   "source": [
    "rfc2 = RandomForestClassifier(n_estimators=4, max_depth=3, random_state=404, class_weight=\"balanced_subsample\")\n",
    "rfc2.fit(svecs, smol_train[\"label\"])"
   ]
  },
  {
   "cell_type": "code",
   "execution_count": 109,
   "metadata": {},
   "outputs": [
    {
     "name": "stdout",
     "output_type": "stream",
     "text": [
      "              precision    recall  f1-score   support\n",
      "\n",
      "       fraud       0.92      0.93      0.93     19031\n",
      "  legitimate       1.00      1.00      1.00    980969\n",
      "\n",
      "    accuracy                           1.00   1000000\n",
      "   macro avg       0.96      0.96      0.96   1000000\n",
      "weighted avg       1.00      1.00      1.00   1000000\n",
      "\n"
     ]
    }
   ],
   "source": [
    "rf_predictions2 = rfc2.predict(all_xforms.fit_transform(smol_test))\n",
    "print(classification_report(smol_test.label.values, rf_predictions2))"
   ]
  },
  {
   "cell_type": "code",
   "execution_count": 110,
   "metadata": {},
   "outputs": [
    {
     "name": "stdout",
     "output_type": "stream",
     "text": [
      "              precision    recall  f1-score   support\n",
      "\n",
      "       fraud       0.92      0.93      0.93     38189\n",
      "  legitimate       1.00      1.00      1.00   2058963\n",
      "\n",
      "    accuracy                           1.00   2097152\n",
      "   macro avg       0.96      0.96      0.96   2097152\n",
      "weighted avg       1.00      1.00      1.00   2097152\n",
      "\n"
     ]
    }
   ],
   "source": [
    "rftrain = rfc2.predict(all_xforms.fit_transform(smol_train))\n",
    "print(classification_report(smol_train.label.values, rftrain))"
   ]
  },
  {
   "cell_type": "code",
   "execution_count": 107,
   "metadata": {},
   "outputs": [
    {
     "name": "stdout",
     "output_type": "stream",
     "text": [
      "              precision    recall  f1-score   support\n",
      "\n",
      "       fraud       1.00      0.99      0.99     38189\n",
      "  legitimate       1.00      1.00      1.00   2058963\n",
      "\n",
      "    accuracy                           1.00   2097152\n",
      "   macro avg       1.00      1.00      1.00   2097152\n",
      "weighted avg       1.00      1.00      1.00   2097152\n",
      "\n"
     ]
    }
   ],
   "source": [
    "rftrain = rfc.predict(all_xforms.fit_transform(smol_train))\n",
    "print(classification_report(smol_train.label.values, rftrain))"
   ]
  },
  {
   "cell_type": "code",
   "execution_count": 111,
   "metadata": {},
   "outputs": [
    {
     "data": {
      "text/plain": [
       "RandomForestClassifier(bootstrap=True, ccp_alpha=0.0,\n",
       "                       class_weight='balanced_subsample', criterion='gini',\n",
       "                       max_depth=None, max_features='auto', max_leaf_nodes=None,\n",
       "                       max_samples=None, min_impurity_decrease=0.0,\n",
       "                       min_impurity_split=None, min_samples_leaf=1,\n",
       "                       min_samples_split=2, min_weight_fraction_leaf=0.0,\n",
       "                       n_estimators=8, n_jobs=None, oob_score=False,\n",
       "                       random_state=404, verbose=0, warm_start=False)"
      ]
     },
     "execution_count": 111,
     "metadata": {},
     "output_type": "execute_result"
    }
   ],
   "source": [
    "rfc"
   ]
  },
  {
   "cell_type": "markdown",
   "metadata": {},
   "source": [
    "# Keep this next bit\n",
    "\n"
   ]
  },
  {
   "cell_type": "code",
   "execution_count": 112,
   "metadata": {},
   "outputs": [
    {
     "ename": "ModuleNotFoundError",
     "evalue": "No module named 'cloudpickle'",
     "output_type": "error",
     "traceback": [
      "\u001b[0;31m---------------------------------------------------------------------------\u001b[0m",
      "\u001b[0;31mModuleNotFoundError\u001b[0m                       Traceback (most recent call last)",
      "\u001b[0;32m<ipython-input-112-95f555f5ba18>\u001b[0m in \u001b[0;36m<module>\u001b[0;34m\u001b[0m\n\u001b[1;32m      5\u001b[0m ])\n\u001b[1;32m      6\u001b[0m \u001b[0;34m\u001b[0m\u001b[0m\n\u001b[0;32m----> 7\u001b[0;31m \u001b[0;32mfrom\u001b[0m \u001b[0mmlworkflows\u001b[0m \u001b[0;32mimport\u001b[0m \u001b[0mutil\u001b[0m\u001b[0;34m\u001b[0m\u001b[0;34m\u001b[0m\u001b[0m\n\u001b[0m\u001b[1;32m      8\u001b[0m \u001b[0mutil\u001b[0m\u001b[0;34m.\u001b[0m\u001b[0mserialize_to\u001b[0m\u001b[0;34m(\u001b[0m\u001b[0mfeat_pipeline\u001b[0m\u001b[0;34m,\u001b[0m \u001b[0;34m\"feature_pipeline.sav\"\u001b[0m\u001b[0;34m)\u001b[0m\u001b[0;34m\u001b[0m\u001b[0;34m\u001b[0m\u001b[0m\n",
      "\u001b[0;32m~/Documents/src/fraud-data-generator/mlworkflows/util.py\u001b[0m in \u001b[0;36m<module>\u001b[0;34m\u001b[0m\n\u001b[1;32m      2\u001b[0m \u001b[0;34m\u001b[0m\u001b[0m\n\u001b[1;32m      3\u001b[0m \u001b[0;32mimport\u001b[0m \u001b[0mos\u001b[0m\u001b[0;34m\u001b[0m\u001b[0;34m\u001b[0m\u001b[0m\n\u001b[0;32m----> 4\u001b[0;31m \u001b[0;32mimport\u001b[0m \u001b[0mcloudpickle\u001b[0m \u001b[0;32mas\u001b[0m \u001b[0mcp\u001b[0m\u001b[0;34m\u001b[0m\u001b[0;34m\u001b[0m\u001b[0m\n\u001b[0m\u001b[1;32m      5\u001b[0m \u001b[0;34m\u001b[0m\u001b[0m\n\u001b[1;32m      6\u001b[0m \u001b[0;32mdef\u001b[0m \u001b[0mserialize_to\u001b[0m\u001b[0;34m(\u001b[0m\u001b[0mobj\u001b[0m\u001b[0;34m,\u001b[0m \u001b[0mdefault_filename\u001b[0m\u001b[0;34m)\u001b[0m\u001b[0;34m:\u001b[0m\u001b[0;34m\u001b[0m\u001b[0;34m\u001b[0m\u001b[0m\n",
      "\u001b[0;31mModuleNotFoundError\u001b[0m: No module named 'cloudpickle'"
     ]
    }
   ],
   "source": [
    "from sklearn.pipeline import Pipeline\n",
    "\n",
    "feat_pipeline = Pipeline([\n",
    "    ('feature_extraction',all_xforms)\n",
    "])\n",
    "\n",
    "from mlworkflows import util\n",
    "util.serialize_to(feat_pipeline, \"feature_pipeline.sav\")"
   ]
  },
  {
   "cell_type": "code",
   "execution_count": null,
   "metadata": {},
   "outputs": [],
   "source": []
  }
 ],
 "metadata": {
  "kernelspec": {
   "display_name": "Python 3",
   "language": "python",
   "name": "python3"
  },
  "language_info": {
   "codemirror_mode": {
    "name": "ipython",
    "version": 3
   },
   "file_extension": ".py",
   "mimetype": "text/x-python",
   "name": "python",
   "nbconvert_exporter": "python",
   "pygments_lexer": "ipython3",
   "version": "3.7.6"
  }
 },
 "nbformat": 4,
 "nbformat_minor": 4
}
