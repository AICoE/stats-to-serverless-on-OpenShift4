{
 "cells": [
  {
   "cell_type": "markdown",
   "metadata": {},
   "source": [
    "# Generating synthetic payments data\n",
    "\n",
    "In this notebook, we'll build up a very simple simulator to generate payments data corresponding to legitimate and fraudulent transactions.  (There are many ways you could improve this generator and we'll call some of them out.)  We'll start by building up some functionality to run simulations in general.\n",
    "\n",
    "## An (extremely) basic discrete-event simulation framework\n",
    "\n",
    "The next function is all you need to run simple discrete-event simulations.  Here's how to use it:\n",
    "\n",
    "- you'll define several streams of events, each of which is modeled by a Python generator,\n",
    "- each event stream generator will `yield` a tuple consisting of *an offset* (the amount of time that has passed since the last event of that type) and *a result* (an arbitrary Python value associated with the event),\n",
    "- the generator produced by the `simulate` function will yield the next event from all event streams indefinitely."
   ]
  },
  {
   "cell_type": "code",
   "execution_count": 1,
   "metadata": {},
   "outputs": [],
   "source": [
    "import heapq\n",
    "\n",
    "def simulate(event_generators, initial_time=0):\n",
    "    pq = []\n",
    "    for event in event_generators:\n",
    "        offset, result = next(event)\n",
    "        heapq.heappush(pq, (offset + initial_time, result, event))\n",
    "    \n",
    "    while True:\n",
    "        timestamp, result, event = heapq.heappop(pq)\n",
    "        offset, next_result = next(event)\n",
    "        heapq.heappush(pq, (timestamp + offset, next_result, event))\n",
    "        yield (timestamp, result)"
   ]
  },
  {
   "cell_type": "markdown",
   "metadata": {},
   "source": [
    "It may be easier to see how this works with an example.  In the next three cells, we \n",
    "\n",
    "1. define a generator for event streams, which samples interarrival times from a Poisson distribution and returns a predefined string as the result at each event,\n",
    "2. set up a simulation with four streams, each of which has a different distribution of interarrival times and value, and\n",
    "3. take the first twenty events from the simulation"
   ]
  },
  {
   "cell_type": "code",
   "execution_count": 2,
   "metadata": {},
   "outputs": [],
   "source": [
    "from scipy import stats\n",
    "\n",
    "def bedrockstream(mu, name):\n",
    "    while True:\n",
    "        offset, = stats.poisson.rvs(mu, size=1)\n",
    "        yield (offset, name)"
   ]
  },
  {
   "cell_type": "code",
   "execution_count": 3,
   "metadata": {},
   "outputs": [],
   "source": [
    "sim = simulate([bedrockstream(10, \"fred\"), \n",
    "                bedrockstream(12, \"betty\"), \n",
    "                bedrockstream(20, \"wilma\"), \n",
    "                bedrockstream(35, \"barney\")])"
   ]
  },
  {
   "cell_type": "code",
   "execution_count": 4,
   "metadata": {
    "scrolled": true
   },
   "outputs": [
    {
     "name": "stdout",
     "output_type": "stream",
     "text": [
      "(11, 'fred')\n",
      "(15, 'betty')\n",
      "(24, 'fred')\n",
      "(24, 'wilma')\n",
      "(30, 'betty')\n",
      "(37, 'fred')\n",
      "(39, 'barney')\n",
      "(42, 'betty')\n",
      "(47, 'wilma')\n",
      "(48, 'fred')\n",
      "(54, 'betty')\n",
      "(61, 'fred')\n",
      "(62, 'wilma')\n",
      "(67, 'betty')\n",
      "(67, 'fred')\n",
      "(75, 'barney')\n",
      "(77, 'fred')\n",
      "(84, 'betty')\n",
      "(85, 'fred')\n",
      "(86, 'wilma')\n"
     ]
    }
   ],
   "source": [
    "for i in range(20):\n",
    "    print(next(sim))"
   ]
  },
  {
   "cell_type": "markdown",
   "metadata": {},
   "source": [
    "## Modeling transactions\n",
    "\n",
    "The first problem we have to do is to decide what data we'll generate for each transaction.  Some interesting possibilities include:\n",
    "\n",
    "- user ID\n",
    "- merchant ID\n",
    "- merchant type\n",
    "- transaction amount (assuming a single currency)\n",
    "- card entry mode (e.g., contactless, chip and pin, swipe, card manually keyed, or online transaction)\n",
    "- foreign transaction (whether or not the user's home country matches the country in which the transaction is taking place)\n",
    "\n",
    "We'll also generate a label for each transaction (`legitimate` or `fraud`).  We'll start with a very basic user event stream generator:  all of the transactions we generate will be legitimate, and we won't do anything particularly interesting with most of the fields."
   ]
  },
  {
   "cell_type": "code",
   "execution_count": 5,
   "metadata": {},
   "outputs": [],
   "source": [
    "import numpy as np\n",
    "MERCHANT_COUNT = 20000\n",
    "\n",
    "# a small percentage of merchants account for most transactions\n",
    "COMMON_MERCHANT_COUNT = MERCHANT_COUNT // 21\n",
    "\n",
    "common_merchants = np.random.choice(MERCHANT_COUNT, \n",
    "                                    size=COMMON_MERCHANT_COUNT, \n",
    "                                    replace=True)\n",
    "\n",
    "def basic_user_stream(user_id, mu):\n",
    "    favorite_merchants = np.random.choice(common_merchants,\n",
    "                                         size=len(common_merchants) // 5)\n",
    "    while True:\n",
    "        amount = 100.00\n",
    "        entry = \"chip_and_pin\"\n",
    "        foreign = False\n",
    "        \n",
    "        merchant_id, = np.random.choice(favorite_merchants, size=1)\n",
    "        offset, = stats.poisson.rvs(mu, size=1)\n",
    "        result = {\n",
    "            \"user_id\": user_id,\n",
    "            \"amount\": amount,\n",
    "            \"merchant_id\": merchant_id,\n",
    "            \"entry\": entry,\n",
    "            \"foreign\": foreign\n",
    "        }\n",
    "        yield (offset, (\"legitimate\", *result.values()))"
   ]
  },
  {
   "cell_type": "code",
   "execution_count": 6,
   "metadata": {},
   "outputs": [],
   "source": [
    "sim = simulate([basic_user_stream(1, 700), basic_user_stream(2, 105), basic_user_stream(3, 40)])"
   ]
  },
  {
   "cell_type": "code",
   "execution_count": 7,
   "metadata": {},
   "outputs": [
    {
     "name": "stdout",
     "output_type": "stream",
     "text": [
      "(38, ('legitimate', 3, 100.0, 15876, 'chip_and_pin', False))\n",
      "(88, ('legitimate', 3, 100.0, 4125, 'chip_and_pin', False))\n",
      "(112, ('legitimate', 2, 100.0, 2122, 'chip_and_pin', False))\n",
      "(128, ('legitimate', 3, 100.0, 10612, 'chip_and_pin', False))\n",
      "(160, ('legitimate', 3, 100.0, 1995, 'chip_and_pin', False))\n",
      "(200, ('legitimate', 3, 100.0, 8890, 'chip_and_pin', False))\n",
      "(227, ('legitimate', 2, 100.0, 8368, 'chip_and_pin', False))\n",
      "(244, ('legitimate', 3, 100.0, 3238, 'chip_and_pin', False))\n",
      "(285, ('legitimate', 3, 100.0, 1413, 'chip_and_pin', False))\n",
      "(319, ('legitimate', 2, 100.0, 5214, 'chip_and_pin', False))\n",
      "(326, ('legitimate', 3, 100.0, 17356, 'chip_and_pin', False))\n",
      "(368, ('legitimate', 3, 100.0, 341, 'chip_and_pin', False))\n",
      "(411, ('legitimate', 3, 100.0, 14529, 'chip_and_pin', False))\n",
      "(415, ('legitimate', 2, 100.0, 4723, 'chip_and_pin', False))\n",
      "(464, ('legitimate', 3, 100.0, 1136, 'chip_and_pin', False))\n",
      "(495, ('legitimate', 3, 100.0, 7437, 'chip_and_pin', False))\n",
      "(508, ('legitimate', 2, 100.0, 12414, 'chip_and_pin', False))\n",
      "(528, ('legitimate', 3, 100.0, 13282, 'chip_and_pin', False))\n",
      "(573, ('legitimate', 3, 100.0, 7919, 'chip_and_pin', False))\n",
      "(598, ('legitimate', 2, 100.0, 14296, 'chip_and_pin', False))\n"
     ]
    }
   ],
   "source": [
    "for i in range(20):\n",
    "    print(next(sim))"
   ]
  },
  {
   "cell_type": "markdown",
   "metadata": {},
   "source": [
    "## Exercise:  some quick improvements\n",
    "\n",
    "1.  Users don't always just buy things from a few favorite merchants.  Change `basic_user_stream` so that they occasionally buy from any merchant.\n",
    "2.  Most people buy many inexpensive things and relatively few expensive things.  Use this insight to generate (more) realistic transaction amounts.\n",
    "3.  Some small percentage of online sales will be foreign transactions.  When a user is traveling abroad, nearly all of his or her transactions will be foreign transactions.  Add some state to `basic_user_stream` to model occasional international travel."
   ]
  },
  {
   "cell_type": "markdown",
   "metadata": {},
   "source": [
    "## Building a better transaction stream\n",
    "\n",
    "We'll start by building a generator to build a mixture model we can use to make several kinds of transactions:  small, medium, and large."
   ]
  },
  {
   "cell_type": "code",
   "execution_count": 8,
   "metadata": {},
   "outputs": [],
   "source": [
    "def transaction_amounts(means, percentages, distribution=None):\n",
    "    size = 256\n",
    "    \n",
    "    if distribution is None:\n",
    "        distribution = lambda m, sz: stats.gamma.rvs(a=1.1, scale=min(m, 750), loc=m, size=sz)\n",
    "    \n",
    "    while True:\n",
    "        streams = [distribution(m * 100, size) for m in means]\n",
    "        stream = np.floor(np.choose(np.random.choice(len(means), p=percentages, size=size), streams)) / 100\n",
    "        \n",
    "        yield from stream"
   ]
  },
  {
   "cell_type": "code",
   "execution_count": 9,
   "metadata": {},
   "outputs": [
    {
     "data": {
      "text/plain": [
       "array([1., 2., 3.])"
      ]
     },
     "execution_count": 9,
     "metadata": {},
     "output_type": "execute_result"
    }
   ],
   "source": [
    "a = np.array([1.1,2.1,3.5])\n",
    "np.floor(a)"
   ]
  },
  {
   "cell_type": "markdown",
   "metadata": {},
   "source": [
    "Let's plot a histogram of some simulated transaction amounts sampled from three distributions with means corresponding to three kinds of purchases:  a latte, take-out for lunch, and a pair of Levi's."
   ]
  },
  {
   "cell_type": "code",
   "execution_count": 10,
   "metadata": {},
   "outputs": [
    {
     "data": {
      "application/javascript": [
       "const spec = {\"config\": {\"view\": {\"width\": 400, \"height\": 300}, \"mark\": {\"tooltip\": null}}, \"data\": {\"url\": \"altair-data-108b65b5d7de535b2ff2303c7b59cf51.json\", \"format\": {\"type\": \"json\"}}, \"mark\": \"bar\", \"encoding\": {\"x\": {\"type\": \"quantitative\", \"bin\": {\"maxbins\": 100}, \"field\": \"amounts\"}, \"y\": {\"type\": \"quantitative\", \"aggregate\": \"count\"}}, \"$schema\": \"https://vega.github.io/schema/vega-lite/v3.4.0.json\"};\n",
       "const opt = {};\n",
       "const type = \"vega-lite\";\n",
       "const id = \"ec4fb056-2e03-472a-a0a3-0133dc756a71\";\n",
       "\n",
       "const output_area = this;\n",
       "\n",
       "require([\"nbextensions/jupyter-vega/index\"], function(vega) {\n",
       "  const target = document.createElement(\"div\");\n",
       "  target.id = id;\n",
       "  target.className = \"vega-embed\";\n",
       "\n",
       "  const style = document.createElement(\"style\");\n",
       "  style.textContent = [\n",
       "    \".vega-embed .error p {\",\n",
       "    \"  color: firebrick;\",\n",
       "    \"  font-size: 14px;\",\n",
       "    \"}\",\n",
       "  ].join(\"\\\\n\");\n",
       "\n",
       "  // element is a jQuery wrapped DOM element inside the output area\n",
       "  // see http://ipython.readthedocs.io/en/stable/api/generated/\\\n",
       "  // IPython.display.html#IPython.display.Javascript.__init__\n",
       "  element[0].appendChild(target);\n",
       "  element[0].appendChild(style);\n",
       "\n",
       "  vega.render(\"#\" + id, spec, type, opt, output_area);\n",
       "}, function (err) {\n",
       "  if (err.requireType !== \"scripterror\") {\n",
       "    throw(err);\n",
       "  }\n",
       "});\n"
      ],
      "text/plain": [
       "<vega.vegalite.VegaLite at 0x7f9a707a03c8>"
      ]
     },
     "metadata": {
      "jupyter-vega": "#ec4fb056-2e03-472a-a0a3-0133dc756a71"
     },
     "output_type": "display_data"
    },
    {
     "data": {
      "text/plain": []
     },
     "execution_count": 10,
     "metadata": {},
     "output_type": "execute_result"
    },
    {
     "data": {
      "image/png": "[encoded data removed]"
     },
     "metadata": {
      "jupyter-vega": "#ec4fb056-2e03-472a-a0a3-0133dc756a71"
     },
     "output_type": "display_data"
    }
   ],
   "source": [
    "import pandas as pd\n",
    "\n",
    "import altair as alt\n",
    "alt.renderers.enable('notebook')\n",
    "alt.data_transformers.enable('json')\n",
    "\n",
    "amt = transaction_amounts([5, 15, 50], [0.5, 0.35, 0.15])\n",
    "amounts = [next(amt) for i in range(80000)]\n",
    "\n",
    "source = pd.DataFrame({\"amounts\": amounts})\n",
    "\n",
    "alt.Chart(source).mark_bar().encode(\n",
    "    alt.X(\"amounts\", bin=alt.Bin(maxbins=100)),\n",
    "    y='count()'\n",
    ")"
   ]
  },
  {
   "cell_type": "markdown",
   "metadata": {},
   "source": [
    "We can also plot a broader distribution of transactions:"
   ]
  },
  {
   "cell_type": "code",
   "execution_count": 11,
   "metadata": {},
   "outputs": [
    {
     "data": {
      "application/javascript": [
       "const spec = {\"config\": {\"view\": {\"width\": 400, \"height\": 300}, \"mark\": {\"tooltip\": null}}, \"data\": {\"url\": \"altair-data-85521d63b92b74d6167f1dc50b7e9a44.json\", \"format\": {\"type\": \"json\"}}, \"mark\": \"bar\", \"encoding\": {\"x\": {\"type\": \"quantitative\", \"bin\": {\"maxbins\": 100}, \"field\": \"amounts\"}, \"y\": {\"type\": \"quantitative\", \"aggregate\": \"count\"}}, \"$schema\": \"https://vega.github.io/schema/vega-lite/v3.4.0.json\"};\n",
       "const opt = {};\n",
       "const type = \"vega-lite\";\n",
       "const id = \"0760483a-928f-4529-b085-aea94d75076e\";\n",
       "\n",
       "const output_area = this;\n",
       "\n",
       "require([\"nbextensions/jupyter-vega/index\"], function(vega) {\n",
       "  const target = document.createElement(\"div\");\n",
       "  target.id = id;\n",
       "  target.className = \"vega-embed\";\n",
       "\n",
       "  const style = document.createElement(\"style\");\n",
       "  style.textContent = [\n",
       "    \".vega-embed .error p {\",\n",
       "    \"  color: firebrick;\",\n",
       "    \"  font-size: 14px;\",\n",
       "    \"}\",\n",
       "  ].join(\"\\\\n\");\n",
       "\n",
       "  // element is a jQuery wrapped DOM element inside the output area\n",
       "  // see http://ipython.readthedocs.io/en/stable/api/generated/\\\n",
       "  // IPython.display.html#IPython.display.Javascript.__init__\n",
       "  element[0].appendChild(target);\n",
       "  element[0].appendChild(style);\n",
       "\n",
       "  vega.render(\"#\" + id, spec, type, opt, output_area);\n",
       "}, function (err) {\n",
       "  if (err.requireType !== \"scripterror\") {\n",
       "    throw(err);\n",
       "  }\n",
       "});\n"
      ],
      "text/plain": [
       "<vega.vegalite.VegaLite at 0x7f9a30671860>"
      ]
     },
     "metadata": {
      "jupyter-vega": "#0760483a-928f-4529-b085-aea94d75076e"
     },
     "output_type": "display_data"
    },
    {
     "data": {
      "text/plain": []
     },
     "execution_count": 11,
     "metadata": {},
     "output_type": "execute_result"
    },
    {
     "data": {
      "image/png": "[encoded data removed]"
     },
     "metadata": {
      "jupyter-vega": "#0760483a-928f-4529-b085-aea94d75076e"
     },
     "output_type": "display_data"
    }
   ],
   "source": [
    "amt = transaction_amounts([5, 10, 15, 20, 50, 100], \n",
    "                          [0.35, 0.25, 0.15, 0.1, 0.1, 0.05])\n",
    "amounts = [next(amt) for i in range(40000)]\n",
    "\n",
    "source = pd.DataFrame({\"amounts\": amounts})\n",
    "\n",
    "alt.Chart(source).mark_bar().encode(\n",
    "    alt.X(\"amounts\", bin=alt.Bin(maxbins=100)),\n",
    "    y='count()',\n",
    ")"
   ]
  },
  {
   "cell_type": "markdown",
   "metadata": {},
   "source": [
    "Next up, we'll make a generator to create the entry types:"
   ]
  },
  {
   "cell_type": "code",
   "execution_count": 12,
   "metadata": {},
   "outputs": [],
   "source": [
    "def legitimate_entry_types():\n",
    "    size = 256\n",
    "    \n",
    "    entry_types = [\"contactless\", \"chip_and_pin\", \"swipe\", \"manual\", \"online\"]\n",
    "    entry_probs = [0.25,0.2,0.15,0.05,0.35]\n",
    "\n",
    "    while True:\n",
    "        stream = [entry_types[i] for i in np.random.choice(len(entry_types), p=entry_probs, size=size)]\n",
    "        yield from stream"
   ]
  },
  {
   "cell_type": "markdown",
   "metadata": {},
   "source": [
    "...and one for selecting merchants (primarily a user's favorite merchants):"
   ]
  },
  {
   "cell_type": "code",
   "execution_count": 13,
   "metadata": {},
   "outputs": [],
   "source": [
    "def merchant_stream(common_merchants, all_merchants, fav_percentage=0.2, probs=[0.6,0.37,0.03]):\n",
    "    favorite_merchants = np.random.choice(common_merchants,\n",
    "                                          size=int(len(common_merchants) * fav_percentage))\n",
    "    merchants = [favorite_merchants, common_merchants, all_merchants]\n",
    "    while True:\n",
    "        pool = merchants[np.random.choice(len(merchants), p=probs)]\n",
    "        yield int(np.random.choice(pool))"
   ]
  },
  {
   "cell_type": "markdown",
   "metadata": {},
   "source": [
    "We can combine all of these to generate a stream of legitimate activity for a single user:"
   ]
  },
  {
   "cell_type": "code",
   "execution_count": 14,
   "metadata": {},
   "outputs": [],
   "source": [
    "def legitimate_user_stream(user_id, transactions_per_day=12, amount_means=[20,100,500], amount_probs=[0.9,0.075,0.025]):\n",
    "    amounts = transaction_amounts(amount_means, amount_probs)\n",
    "    entry_types = legitimate_entry_types()\n",
    "    merchants = merchant_stream(common_merchants, np.arange(MERCHANT_COUNT))\n",
    "    \n",
    "    SECONDS_PER_DAY = 86400\n",
    "    loc = SECONDS_PER_DAY // transactions_per_day\n",
    "    p = 1 / (loc / 10)\n",
    "    \n",
    "    while True:\n",
    "        amount = next(amounts)\n",
    "        entry = next(entry_types)\n",
    "        foreign = entry == \"online\" and np.random.choice([True, False], p=[0.4, 0.6])\n",
    "        \n",
    "        merchant_id = next(merchants)\n",
    "        offset, = stats.geom.rvs(p=p, loc=loc, size=1)\n",
    "        result = {\n",
    "            \"user_id\": user_id,\n",
    "            \"amount\": amount,\n",
    "            \"merchant_id\": merchant_id,\n",
    "            \"entry\": entry,\n",
    "            \"foreign\": foreign\n",
    "        }\n",
    "        yield (offset, (\"legitimate\", *result.values()))"
   ]
  },
  {
   "cell_type": "code",
   "execution_count": 15,
   "metadata": {
    "scrolled": false
   },
   "outputs": [
    {
     "name": "stdout",
     "output_type": "stream",
     "text": [
      "(7693, ('legitimate', 1, 20.51, 18442, 'chip_and_pin', False))\n",
      "(7909, ('legitimate', 2, 100.32, 10662, 'chip_and_pin', False))\n",
      "(8739, ('legitimate', 3, 115.06, 11887, 'chip_and_pin', False))\n",
      "(15150, ('legitimate', 2, 31.83, 7271, 'contactless', False))\n",
      "(15936, ('legitimate', 1, 22.67, 7992, 'chip_and_pin', False))\n",
      "(15994, ('legitimate', 3, 45.57, 10241, 'online', False))\n",
      "(23139, ('legitimate', 2, 23.76, 16514, 'contactless', False))\n",
      "(23855, ('legitimate', 3, 23.1, 868, 'swipe', False))\n",
      "(24379, ('legitimate', 1, 28.28, 16990, 'online', True))\n",
      "(31089, ('legitimate', 2, 100.76, 16920, 'contactless', False))\n",
      "(31272, ('legitimate', 3, 25.16, 17453, 'online', True))\n",
      "(33018, ('legitimate', 1, 28.02, 14645, 'manual', False))\n",
      "(38927, ('legitimate', 2, 504.02, 11670, 'online', True))\n",
      "(39925, ('legitimate', 3, 22.71, 11301, 'online', True))\n",
      "(40512, ('legitimate', 1, 24.83, 13678, 'contactless', False))\n",
      "(46186, ('legitimate', 2, 29.33, 1995, 'swipe', False))\n",
      "(47350, ('legitimate', 3, 21.52, 3967, 'chip_and_pin', False))\n",
      "(48760, ('legitimate', 1, 103.85, 13991, 'contactless', False))\n",
      "(54050, ('legitimate', 2, 28.13, 200, 'contactless', False))\n",
      "(55297, ('legitimate', 3, 30.35, 5764, 'swipe', False))\n",
      "(56636, ('legitimate', 1, 26.93, 19079, 'contactless', False))\n",
      "(61532, ('legitimate', 2, 22.6, 6448, 'contactless', False))\n",
      "(62924, ('legitimate', 3, 31.04, 15560, 'online', False))\n",
      "(64947, ('legitimate', 1, 20.21, 17698, 'contactless', False))\n",
      "(69771, ('legitimate', 2, 26.52, 9036, 'chip_and_pin', False))\n",
      "(70694, ('legitimate', 3, 26.88, 2751, 'swipe', False))\n",
      "(72237, ('legitimate', 1, 23.93, 11510, 'swipe', False))\n",
      "(77034, ('legitimate', 2, 26.02, 18047, 'swipe', False))\n",
      "(78130, ('legitimate', 3, 40.28, 14026, 'contactless', False))\n",
      "(80798, ('legitimate', 1, 26.06, 13991, 'chip_and_pin', False))\n",
      "(84311, ('legitimate', 2, 34.04, 1444, 'chip_and_pin', False))\n",
      "(86896, ('legitimate', 3, 28.96, 7460, 'chip_and_pin', False))\n",
      "(88682, ('legitimate', 1, 29.3, 7937, 'online', False))\n",
      "(93596, ('legitimate', 2, 22.53, 11527, 'chip_and_pin', False))\n",
      "(95655, ('legitimate', 3, 46.46, 3494, 'contactless', False))\n",
      "(96685, ('legitimate', 1, 24.52, 13569, 'online', True))\n",
      "(101198, ('legitimate', 2, 23.56, 720, 'chip_and_pin', False))\n",
      "(103532, ('legitimate', 3, 22.37, 12170, 'chip_and_pin', False))\n",
      "(104545, ('legitimate', 1, 21.67, 6583, 'online', True))\n",
      "(108686, ('legitimate', 2, 40.36, 11380, 'online', False))\n",
      "(110936, ('legitimate', 3, 31.44, 4351, 'online', True))\n",
      "(112888, ('legitimate', 1, 25.72, 13004, 'swipe', False))\n",
      "(116552, ('legitimate', 2, 23.61, 4430, 'chip_and_pin', False))\n",
      "(118828, ('legitimate', 3, 32.34, 2594, 'chip_and_pin', False))\n",
      "(120729, ('legitimate', 1, 100.54, 12116, 'swipe', False))\n",
      "(124739, ('legitimate', 2, 22.29, 1393, 'contactless', False))\n",
      "(126806, ('legitimate', 3, 103.54, 511, 'swipe', False))\n",
      "(128001, ('legitimate', 1, 116.59, 1107, 'swipe', False))\n",
      "(131960, ('legitimate', 2, 29.55, 11466, 'chip_and_pin', False))\n",
      "(135247, ('legitimate', 1, 43.19, 7521, 'contactless', False))\n",
      "(135588, ('legitimate', 3, 32.31, 15331, 'contactless', False))\n",
      "(139390, ('legitimate', 2, 30.79, 6039, 'swipe', False))\n",
      "(143413, ('legitimate', 3, 40.34, 142, 'online', False))\n",
      "(143893, ('legitimate', 1, 28.73, 11136, 'chip_and_pin', False))\n",
      "(147363, ('legitimate', 2, 24.2, 2807, 'contactless', False))\n",
      "(151418, ('legitimate', 3, 23.22, 4723, 'online', True))\n",
      "(151603, ('legitimate', 1, 21.29, 11130, 'online', True))\n",
      "(155875, ('legitimate', 2, 41.7, 13428, 'chip_and_pin', False))\n",
      "(159299, ('legitimate', 3, 21.93, 6882, 'contactless', False))\n",
      "(163023, ('legitimate', 1, 23.05, 2730, 'online', True))\n",
      "(166760, ('legitimate', 2, 21.5, 19453, 'online', False))\n",
      "(167051, ('legitimate', 3, 34.85, 1083, 'contactless', False))\n",
      "(170528, ('legitimate', 1, 21.9, 8559, 'manual', False))\n",
      "(174669, ('legitimate', 2, 22.76, 15702, 'online', True))\n",
      "(175530, ('legitimate', 3, 27.59, 15192, 'online', False))\n",
      "(178217, ('legitimate', 1, 31.82, 10663, 'contactless', False))\n",
      "(183762, ('legitimate', 2, 22.66, 1901, 'online', True))\n",
      "(184533, ('legitimate', 3, 25.67, 3494, 'online', False))\n",
      "(186130, ('legitimate', 1, 39.56, 6573, 'online', False))\n",
      "(191769, ('legitimate', 3, 28.84, 2437, 'swipe', False))\n",
      "(192530, ('legitimate', 2, 20.7, 5973, 'online', False))\n",
      "(194130, ('legitimate', 1, 32.96, 2877, 'contactless', False))\n",
      "(199334, ('legitimate', 3, 20.43, 14712, 'online', False))\n",
      "(199825, ('legitimate', 2, 26.21, 6448, 'swipe', False))\n",
      "(202741, ('legitimate', 1, 23.43, 10574, 'chip_and_pin', False))\n",
      "(207051, ('legitimate', 2, 21.03, 7671, 'chip_and_pin', False))\n",
      "(210096, ('legitimate', 3, 21.13, 2437, 'online', True))\n",
      "(210454, ('legitimate', 1, 26.6, 2729, 'contactless', False))\n",
      "(214439, ('legitimate', 2, 21.67, 15449, 'swipe', False))\n",
      "(217301, ('legitimate', 3, 28.24, 3827, 'online', True))\n",
      "(218117, ('legitimate', 1, 21.74, 8890, 'online', False))\n",
      "(222173, ('legitimate', 2, 21.6, 3791, 'chip_and_pin', False))\n",
      "(224955, ('legitimate', 3, 24.59, 10940, 'online', True))\n",
      "(225354, ('legitimate', 1, 25.87, 6781, 'online', True))\n",
      "(229716, ('legitimate', 2, 33.44, 1266, 'contactless', False))\n",
      "(232329, ('legitimate', 3, 29.38, 2902, 'swipe', False))\n",
      "(232878, ('legitimate', 1, 22.51, 19425, 'contactless', False))\n",
      "(236931, ('legitimate', 2, 32.89, 15547, 'online', False))\n",
      "(239849, ('legitimate', 3, 516.54, 15504, 'manual', False))\n",
      "(240377, ('legitimate', 1, 27.53, 7275, 'swipe', False))\n",
      "(246380, ('legitimate', 2, 26.4, 4815, 'chip_and_pin', False))\n",
      "(247934, ('legitimate', 3, 25.51, 8150, 'online', True))\n",
      "(248567, ('legitimate', 1, 22.03, 15727, 'chip_and_pin', False))\n",
      "(254194, ('legitimate', 2, 27.88, 9750, 'swipe', False))\n",
      "(255917, ('legitimate', 1, 26.99, 4388, 'contactless', False))\n",
      "(256177, ('legitimate', 3, 36.74, 5342, 'online', False))\n",
      "(261424, ('legitimate', 2, 29.08, 12975, 'chip_and_pin', False))\n",
      "(263253, ('legitimate', 1, 22.49, 14328, 'contactless', False))\n",
      "(264546, ('legitimate', 3, 21.99, 14187, 'online', False))\n",
      "(270527, ('legitimate', 2, 23.94, 3404, 'contactless', False))\n",
      "(271165, ('legitimate', 1, 102.08, 11221, 'chip_and_pin', False))\n",
      "(271870, ('legitimate', 3, 24.32, 1995, 'online', False))\n",
      "(278693, ('legitimate', 1, 29.82, 1929, 'chip_and_pin', False))\n",
      "(279916, ('legitimate', 2, 110.89, 15736, 'online', True))\n",
      "(279938, ('legitimate', 3, 38.9, 8406, 'contactless', False))\n",
      "(286595, ('legitimate', 1, 22.82, 12504, 'contactless', False))\n",
      "(288030, ('legitimate', 3, 36.23, 8368, 'contactless', False))\n",
      "(289230, ('legitimate', 2, 502.02, 343, 'chip_and_pin', False))\n",
      "(294179, ('legitimate', 1, 22.73, 10132, 'contactless', False))\n",
      "(295832, ('legitimate', 3, 26.98, 15546, 'chip_and_pin', False))\n",
      "(296749, ('legitimate', 2, 21.26, 8531, 'contactless', False))\n",
      "(301416, ('legitimate', 1, 37.73, 9832, 'chip_and_pin', False))\n",
      "(303379, ('legitimate', 3, 48.3, 8312, 'chip_and_pin', False))\n",
      "(304424, ('legitimate', 2, 27.62, 18666, 'contactless', False))\n",
      "(308843, ('legitimate', 1, 20.42, 9832, 'online', False))\n",
      "(311719, ('legitimate', 3, 29.12, 18931, 'chip_and_pin', False))\n",
      "(313148, ('legitimate', 2, 23.65, 720, 'swipe', False))\n",
      "(316070, ('legitimate', 1, 33.66, 14595, 'online', False))\n",
      "(319414, ('legitimate', 3, 25.65, 7992, 'online', False))\n",
      "(322953, ('legitimate', 2, 20.19, 19852, 'contactless', False))\n",
      "(323399, ('legitimate', 1, 22.27, 11510, 'online', False))\n",
      "(327151, ('legitimate', 3, 23.48, 15941, 'chip_and_pin', False))\n",
      "(330329, ('legitimate', 2, 34.98, 17796, 'contactless', False))\n",
      "(332650, ('legitimate', 1, 25.06, 3474, 'online', False))\n",
      "(335342, ('legitimate', 3, 26.05, 18859, 'online', False))\n",
      "(337631, ('legitimate', 2, 21.08, 11552, 'contactless', False))\n",
      "(339889, ('legitimate', 1, 32.43, 9662, 'online', False))\n",
      "(343086, ('legitimate', 3, 25.13, 12898, 'online', False))\n",
      "(345323, ('legitimate', 2, 24.04, 565, 'contactless', False))\n",
      "(347296, ('legitimate', 1, 104.19, 5906, 'online', False))\n",
      "(350339, ('legitimate', 3, 34.62, 847, 'online', True))\n",
      "(352777, ('legitimate', 2, 40.78, 16211, 'online', True))\n",
      "(355129, ('legitimate', 1, 26.86, 18931, 'swipe', False))\n",
      "(357733, ('legitimate', 3, 21.91, 12756, 'online', True))\n",
      "(360642, ('legitimate', 2, 510.95, 2856, 'online', True))\n",
      "(363548, ('legitimate', 1, 20.91, 9486, 'online', True))\n",
      "(365892, ('legitimate', 3, 24.94, 19986, 'swipe', False))\n",
      "(369082, ('legitimate', 2, 25.06, 19486, 'contactless', False))\n",
      "(371722, ('legitimate', 1, 21.0, 12170, 'contactless', False))\n",
      "(373194, ('legitimate', 3, 20.12, 8761, 'contactless', False))\n",
      "(376655, ('legitimate', 2, 23.62, 19453, 'online', False))\n",
      "(380214, ('legitimate', 1, 23.54, 5751, 'online', False))\n",
      "(383406, ('legitimate', 3, 33.26, 16852, 'manual', False))\n",
      "(384166, ('legitimate', 2, 27.8, 17796, 'contactless', False))\n",
      "(387945, ('legitimate', 1, 48.03, 12116, 'contactless', False))\n",
      "(390752, ('legitimate', 3, 20.95, 7992, 'online', False))\n",
      "(391733, ('legitimate', 2, 33.3, 18666, 'swipe', False))\n",
      "(395223, ('legitimate', 1, 22.06, 4457, 'contactless', False))\n",
      "(398044, ('legitimate', 3, 26.34, 4322, 'online', True))\n",
      "(399311, ('legitimate', 2, 22.92, 17053, 'online', False))\n",
      "(403853, ('legitimate', 1, 25.58, 6090, 'online', True))\n",
      "(406928, ('legitimate', 2, 23.53, 9202, 'swipe', False))\n",
      "(408030, ('legitimate', 3, 22.65, 3763, 'online', False))\n",
      "(411101, ('legitimate', 1, 37.45, 15876, 'online', True))\n",
      "(414351, ('legitimate', 2, 45.09, 11365, 'chip_and_pin', False))\n",
      "(416725, ('legitimate', 3, 36.38, 10612, 'contactless', False))\n",
      "(420450, ('legitimate', 1, 27.95, 9154, 'online', False))\n",
      "(423980, ('legitimate', 2, 33.73, 14100, 'contactless', False))\n",
      "(424888, ('legitimate', 3, 24.58, 16377, 'swipe', False))\n",
      "(427808, ('legitimate', 1, 36.51, 5209, 'online', True))\n",
      "(431601, ('legitimate', 2, 24.88, 432, 'contactless', False))\n",
      "(433296, ('legitimate', 3, 29.1, 17307, 'online', False))\n",
      "(435601, ('legitimate', 1, 22.61, 17053, 'online', False))\n",
      "(439390, ('legitimate', 2, 29.71, 720, 'contactless', False))\n",
      "(440869, ('legitimate', 3, 29.02, 8697, 'chip_and_pin', False))\n",
      "(443599, ('legitimate', 1, 32.1, 847, 'chip_and_pin', False))\n",
      "(448218, ('legitimate', 3, 33.59, 9820, 'online', False))\n",
      "(448431, ('legitimate', 2, 25.22, 15651, 'online', True))\n",
      "(451008, ('legitimate', 1, 21.34, 13327, 'chip_and_pin', False))\n",
      "(456280, ('legitimate', 2, 32.91, 17193, 'online', False))\n",
      "(456658, ('legitimate', 3, 33.24, 10836, 'online', True))\n",
      "(459152, ('legitimate', 1, 24.16, 17102, 'online', False))\n",
      "(463918, ('legitimate', 3, 22.54, 5783, 'chip_and_pin', False))\n",
      "(465089, ('legitimate', 2, 24.61, 2807, 'chip_and_pin', False))\n",
      "(467349, ('legitimate', 1, 41.29, 13004, 'online', False))\n",
      "(472083, ('legitimate', 3, 29.94, 16211, 'chip_and_pin', False))\n",
      "(472379, ('legitimate', 2, 22.62, 4873, 'online', False))\n",
      "(474770, ('legitimate', 1, 22.14, 12116, 'online', False))\n",
      "(479979, ('legitimate', 3, 33.1, 11887, 'swipe', False))\n",
      "(481032, ('legitimate', 2, 29.26, 15663, 'contactless', False))\n",
      "(483762, ('legitimate', 1, 20.22, 5355, 'online', False))\n",
      "(488020, ('legitimate', 3, 37.62, 16377, 'swipe', False))\n",
      "(488979, ('legitimate', 2, 32.06, 19322, 'online', False))\n",
      "(490995, ('legitimate', 1, 24.87, 11131, 'chip_and_pin', False))\n",
      "(495335, ('legitimate', 3, 40.73, 13371, 'contactless', False))\n",
      "(496653, ('legitimate', 2, 31.81, 17469, 'online', False))\n",
      "(499264, ('legitimate', 1, 21.87, 10268, 'online', False))\n",
      "(502596, ('legitimate', 3, 29.68, 1083, 'chip_and_pin', False))\n",
      "(504336, ('legitimate', 2, 25.66, 17091, 'contactless', False))\n",
      "(506828, ('legitimate', 1, 35.67, 8767, 'online', False))\n",
      "(510023, ('legitimate', 3, 26.55, 3943, 'chip_and_pin', False))\n",
      "(512758, ('legitimate', 2, 40.91, 17213, 'online', True))\n",
      "(515809, ('legitimate', 1, 24.86, 11038, 'chip_and_pin', False))\n",
      "(517729, ('legitimate', 3, 22.16, 14610, 'swipe', False))\n",
      "(520105, ('legitimate', 2, 21.08, 12488, 'online', False))\n",
      "(523124, ('legitimate', 1, 35.32, 13483, 'contactless', False))\n",
      "(525823, ('legitimate', 3, 28.46, 13643, 'chip_and_pin', False))\n",
      "(528410, ('legitimate', 2, 20.56, 5516, 'chip_and_pin', False))\n",
      "(530861, ('legitimate', 1, 25.3, 12867, 'contactless', False))\n",
      "(533504, ('legitimate', 3, 23.47, 19548, 'chip_and_pin', False))\n"
     ]
    }
   ],
   "source": [
    "sim = simulate([legitimate_user_stream(1), \n",
    "                legitimate_user_stream(2), \n",
    "                legitimate_user_stream(3)])\n",
    "\n",
    "for i in range(200):\n",
    "    print(next(sim))"
   ]
  },
  {
   "cell_type": "markdown",
   "metadata": {},
   "source": [
    "## Simulating fraud\n",
    "\n",
    "We'll start with some basic assumptions:  \n",
    "\n",
    "1. fraudulent transactions are equally likely to happen at any arbitrary merchant,\n",
    "2. fraudulent transactions are typically for small dollar amounts,\n",
    "3. fraudulent transactions are rare overall, but when they occur, several will occur close together,\n",
    "4. fraudulent transactions are far more likely to be certain entry types (manual or online) or foreign transactions, and\n",
    "5. fraudulent transactions occur without regard for the user's typical schedule.\n",
    "\n",
    "These will guide our design of a fraudulent transaction generator.  We'll simulate parallel and independent streams of legitimate and fraudulent transactions for each user."
   ]
  },
  {
   "cell_type": "code",
   "execution_count": 16,
   "metadata": {},
   "outputs": [],
   "source": [
    "def fraud_entry_types():\n",
    "    size = 256\n",
    "    \n",
    "    entry_types = [\"contactless\", \"chip_and_pin\", \"swipe\", \"manual\", \"online\"]\n",
    "    entry_probs = [0.05,0.05,0.05,0.35,0.5]\n",
    "\n",
    "    while True:\n",
    "        stream = [entry_types[i] for i in np.random.choice(len(entry_types), p=entry_probs, size=size)]\n",
    "        yield from stream\n",
    "\n",
    "def fraudulent_user_stream(user_id, transactions_per_day = 12, transactions_per_burst=10, amount_means=[5,10,20], amount_probs=[0.2, 0.2, 0.6]):\n",
    "    amounts = transaction_amounts(amount_means, amount_probs)\n",
    "    entry_types = fraud_entry_types()\n",
    "    \n",
    "    SECONDS_PER_DAY = 86400\n",
    "    loc = SECONDS_PER_DAY // (transactions_per_day * transactions_per_burst)\n",
    "    p = 1 / 10\n",
    "\n",
    "    while True:\n",
    "        # consider also np.floor(stats.gamma.rvs(a=6.4, loc=SECONDS_PER_DAY * 90, scale=SECONDS_PER_DAY, size=1))\n",
    "        fraud_delay, = np.floor(stats.foldnorm.rvs(c=1.8, loc=SECONDS_PER_DAY * 30, scale=1 << 20, size=1))\n",
    "        fraud_delay = int(fraud_delay)\n",
    "        \n",
    "        fraud_count = stats.poisson.rvs(mu=transactions_per_burst)\n",
    "        \n",
    "        ams = [next(amounts) for _ in range(fraud_count)]\n",
    "        ens = [next(entry_types) for _ in range(fraud_count)]\n",
    "        fs = np.random.choice([True, False], p=[0.3, 0.7], size=fraud_count)\n",
    "        \n",
    "        m_ids = np.random.choice(MERCHANT_COUNT, size=fraud_count)\n",
    "        offsets = stats.geom.rvs(p=p, loc=loc, size=fraud_count)\n",
    "        offsets[0] += fraud_delay\n",
    "        \n",
    "        for offset, amount, merchant_id, entry, foreign in zip(offsets, ams, m_ids, ens, fs):\n",
    "            result = {\n",
    "                \"user_id\": user_id,\n",
    "                \"amount\": amount,\n",
    "                \"merchant_id\": merchant_id,\n",
    "                \"entry\": entry,\n",
    "                \"foreign\": foreign\n",
    "            }\n",
    "            yield (offset, (\"fraud\", *result.values()))"
   ]
  },
  {
   "cell_type": "markdown",
   "metadata": {},
   "source": [
    "Let's sanity-check the output of our fraudulent transaction generator."
   ]
  },
  {
   "cell_type": "code",
   "execution_count": 17,
   "metadata": {},
   "outputs": [
    {
     "name": "stdout",
     "output_type": "stream",
     "text": [
      "(3981030, ('fraud', 1, 16.71, 4258, 'manual', True))\n",
      "(3981767, ('fraud', 1, 10.21, 7555, 'online', False))\n",
      "(3982509, ('fraud', 1, 5.81, 9373, 'online', False))\n",
      "(3983230, ('fraud', 1, 32.19, 3107, 'online', False))\n",
      "(3983956, ('fraud', 1, 23.64, 14813, 'chip_and_pin', False))\n",
      "(3984706, ('fraud', 1, 13.65, 16144, 'online', False))\n",
      "(3985440, ('fraud', 1, 19.6, 17287, 'online', True))\n",
      "(3986161, ('fraud', 1, 21.55, 18216, 'online', False))\n",
      "(3986884, ('fraud', 1, 24.94, 4410, 'manual', True))\n",
      "(3987610, ('fraud', 1, 8.17, 1609, 'online', False))\n",
      "(3988331, ('fraud', 1, 28.8, 7461, 'online', False))\n",
      "(3989055, ('fraud', 1, 10.12, 8032, 'manual', False))\n",
      "(5144436, ('fraud', 3, 5.59, 3429, 'manual', False))\n",
      "(5145171, ('fraud', 3, 26.99, 9807, 'online', True))\n",
      "(5145897, ('fraud', 3, 36.11, 828, 'online', True))\n",
      "(5146635, ('fraud', 3, 12.52, 378, 'contactless', True))\n",
      "(5147382, ('fraud', 3, 11.82, 1183, 'manual', False))\n",
      "(5148114, ('fraud', 3, 22.65, 5551, 'online', True))\n",
      "(5148878, ('fraud', 3, 19.24, 19604, 'chip_and_pin', False))\n",
      "(5149600, ('fraud', 3, 21.32, 5453, 'online', False))\n",
      "(5150321, ('fraud', 3, 10.34, 17438, 'online', False))\n",
      "(5151071, ('fraud', 3, 24.12, 15637, 'online', True))\n",
      "(5151796, ('fraud', 3, 20.24, 5848, 'online', True))\n",
      "(7112334, ('fraud', 2, 13.76, 12060, 'manual', True))\n",
      "(7113057, ('fraud', 2, 22.2, 9416, 'online', False))\n",
      "(7113778, ('fraud', 2, 24.17, 17903, 'online', False))\n",
      "(7114499, ('fraud', 2, 10.4, 15275, 'online', False))\n",
      "(7115226, ('fraud', 2, 24.21, 14641, 'online', False))\n",
      "(7115949, ('fraud', 2, 22.04, 13138, 'online', False))\n",
      "(7116674, ('fraud', 2, 35.72, 17922, 'online', False))\n",
      "(7117398, ('fraud', 2, 26.23, 13555, 'manual', False))\n",
      "(7118119, ('fraud', 2, 23.38, 7794, 'online', True))\n",
      "(7118854, ('fraud', 2, 29.04, 9921, 'manual', True))\n",
      "(7119577, ('fraud', 2, 11.63, 17288, 'online', True))\n",
      "(8683095, ('fraud', 1, 19.52, 19977, 'chip_and_pin', False))\n",
      "(8683821, ('fraud', 1, 14.32, 8952, 'online', False))\n",
      "(8684553, ('fraud', 1, 10.15, 7232, 'online', False))\n",
      "(8685274, ('fraud', 1, 31.88, 16696, 'manual', False))\n",
      "(8686006, ('fraud', 1, 41.91, 1202, 'chip_and_pin', False))\n",
      "(8686743, ('fraud', 1, 31.41, 18821, 'manual', True))\n",
      "(8687476, ('fraud', 1, 20.27, 2534, 'manual', False))\n",
      "(8688202, ('fraud', 1, 25.36, 19779, 'online', False))\n",
      "(8688924, ('fraud', 1, 30.82, 12856, 'manual', True))\n",
      "(8689649, ('fraud', 1, 21.16, 12499, 'manual', False))\n",
      "(8690372, ('fraud', 1, 55.67, 13378, 'swipe', False))\n",
      "(8691105, ('fraud', 1, 23.95, 6532, 'manual', False))\n",
      "(10205295, ('fraud', 3, 43.07, 3818, 'online', False))\n",
      "(10206033, ('fraud', 3, 16.56, 1981, 'online', False))\n",
      "(10206762, ('fraud', 3, 17.0, 17962, 'manual', False))\n",
      "(10207487, ('fraud', 3, 35.68, 12506, 'online', False))\n"
     ]
    }
   ],
   "source": [
    "sim = simulate([fraudulent_user_stream(1), \n",
    "                fraudulent_user_stream(2), \n",
    "                fraudulent_user_stream(3)])\n",
    "\n",
    "for i in range(50):\n",
    "    print(next(sim))"
   ]
  },
  {
   "cell_type": "code",
   "execution_count": 18,
   "metadata": {},
   "outputs": [
    {
     "name": "stdout",
     "output_type": "stream",
     "text": [
      "1.70% of transactions were fraudulent\n"
     ]
    }
   ],
   "source": [
    "sim = simulate([legitimate_user_stream(1), \n",
    "                legitimate_user_stream(2), \n",
    "                legitimate_user_stream(3),\n",
    "                fraudulent_user_stream(1), \n",
    "                fraudulent_user_stream(2), \n",
    "                fraudulent_user_stream(3)])\n",
    "count = 0\n",
    "STEPS = 50000\n",
    "\n",
    "for i in range(STEPS):\n",
    "    result = next(sim)\n",
    "    if result[1][0] == 'fraud':\n",
    "        count += 1\n",
    "\n",
    "print(\"%.02f%% of transactions were fraudulent\" % (count / STEPS * 100))"
   ]
  },
  {
   "cell_type": "code",
   "execution_count": null,
   "metadata": {},
   "outputs": [],
   "source": []
  }
 ],
 "metadata": {
  "kernelspec": {
   "display_name": "Python 3",
   "language": "python",
   "name": "python3"
  },
  "language_info": {
   "codemirror_mode": {
    "name": "ipython",
    "version": 3
   },
   "file_extension": ".py",
   "mimetype": "text/x-python",
   "name": "python",
   "nbconvert_exporter": "python",
   "pygments_lexer": "ipython3",
   "version": "3.7.3"
  }
 },
 "nbformat": 4,
 "nbformat_minor": 2
}
