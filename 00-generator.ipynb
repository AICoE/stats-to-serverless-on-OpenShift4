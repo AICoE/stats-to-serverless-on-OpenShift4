{
 "cells": [
  {
   "cell_type": "markdown",
   "metadata": {},
   "source": [
    "# Generating synthetic payments data\n",
    "\n",
    "In this notebook, we'll build up a very simple simulator to generate payments data corresponding to legitimate and fraudulent transactions.  (There are many ways you could improve this generator and we'll call some of them out.)  We'll start by building up some functionality to run simulations in general.\n",
    "\n",
    "## An (extremely) basic discrete-event simulation framework\n",
    "\n",
    "The next function is all you need to run simple discrete-event simulations.  Here's how to use it:\n",
    "\n",
    "- you'll define several streams of events, each of which is modeled by a Python generator,\n",
    "- each event stream generator will `yield` a tuple consisting of *an offset* (the amount of time that has passed since the last event of that type) and *a result* (an arbitrary Python value associated with the event),\n",
    "- the generator produced by the `simulate` function will yield the next event from all event streams indefinitely."
   ]
  },
  {
   "cell_type": "code",
   "execution_count": 1,
   "metadata": {},
   "outputs": [],
   "source": [
    "import heapq\n",
    "\n",
    "def simulate(event_generators):\n",
    "    pq = []\n",
    "    for event in event_generators:\n",
    "        offset, result = next(event)\n",
    "        heapq.heappush(pq, (offset, result, event))\n",
    "    \n",
    "    while True:\n",
    "        timestamp, result, event = heapq.heappop(pq)\n",
    "        offset, next_result = next(event)\n",
    "        heapq.heappush(pq, (timestamp + offset, next_result, event))\n",
    "        yield (timestamp, result)"
   ]
  },
  {
   "cell_type": "markdown",
   "metadata": {},
   "source": [
    "It may be easier to see how this works with an example.  In the next three cells, we \n",
    "\n",
    "1. define a generator for event streams, which samples interarrival times from a Poisson distribution and returns a predefined string as the result at each event,\n",
    "2. set up a simulation with four streams, each of which has a different distribution of interarrival times and value, and\n",
    "3. take the first twenty events from the simulation"
   ]
  },
  {
   "cell_type": "code",
   "execution_count": 2,
   "metadata": {},
   "outputs": [],
   "source": [
    "from scipy import stats\n",
    "\n",
    "def bedrockstream(mu, name):\n",
    "    while True:\n",
    "        offset, = stats.poisson.rvs(mu, size=1)\n",
    "        yield (offset, name)"
   ]
  },
  {
   "cell_type": "code",
   "execution_count": 3,
   "metadata": {},
   "outputs": [],
   "source": [
    "sim = simulate([bedrockstream(10, \"fred\"), \n",
    "                bedrockstream(12, \"betty\"), \n",
    "                bedrockstream(20, \"wilma\"), \n",
    "                bedrockstream(35, \"barney\")])"
   ]
  },
  {
   "cell_type": "code",
   "execution_count": 4,
   "metadata": {
    "scrolled": true
   },
   "outputs": [
    {
     "name": "stdout",
     "output_type": "stream",
     "text": [
      "(9, 'fred')\n",
      "(14, 'betty')\n",
      "(17, 'fred')\n",
      "(18, 'wilma')\n",
      "(23, 'betty')\n",
      "(24, 'fred')\n",
      "(30, 'wilma')\n",
      "(33, 'fred')\n",
      "(34, 'betty')\n",
      "(37, 'barney')\n",
      "(44, 'fred')\n",
      "(47, 'betty')\n",
      "(49, 'wilma')\n",
      "(62, 'fred')\n",
      "(65, 'betty')\n",
      "(73, 'wilma')\n",
      "(74, 'fred')\n",
      "(79, 'barney')\n",
      "(80, 'betty')\n",
      "(82, 'fred')\n"
     ]
    }
   ],
   "source": [
    "for i in range(20):\n",
    "    print(next(sim))"
   ]
  },
  {
   "cell_type": "markdown",
   "metadata": {},
   "source": [
    "## Modeling transactions\n",
    "\n",
    "The first problem we have to do is to decide what data we'll generate for each transaction.  Some interesting possibilities include:\n",
    "\n",
    "- user ID\n",
    "- merchant ID\n",
    "- merchant type\n",
    "- transaction amount (assuming a single currency)\n",
    "- card entry mode (e.g., contactless, chip and pin, swipe, card manually keyed, or online transaction)\n",
    "- foreign transaction (whether or not the user's home country matches the country in which the transaction is taking place)\n",
    "\n",
    "We'll also generate a label for each transaction (`legitimate` or `fraud`).  We'll start with a very basic user event stream generator:  all of the transactions we generate will be legitimate, and we won't do anything particularly interesting with most of the fields."
   ]
  },
  {
   "cell_type": "code",
   "execution_count": 5,
   "metadata": {},
   "outputs": [],
   "source": [
    "import numpy as np\n",
    "MERCHANT_COUNT = 20000\n",
    "\n",
    "# a small percentage of merchants account for most transactions\n",
    "COMMON_MERCHANT_COUNT = MERCHANT_COUNT // 7\n",
    "\n",
    "common_merchants = np.random.choice(MERCHANT_COUNT, \n",
    "                                    size=COMMON_MERCHANT_COUNT, \n",
    "                                    replace=True)\n",
    "\n",
    "def basic_user_stream(user_id, mu):\n",
    "    favorite_merchants = np.random.choice(common_merchants,\n",
    "                                         size=len(common_merchants) // 5)\n",
    "    while True:\n",
    "        amount = 100.00\n",
    "        entry = \"chip_and_pin\"\n",
    "        foreign = False\n",
    "        \n",
    "        merchant_id, = np.random.choice(favorite_merchants, size=1)\n",
    "        offset, = stats.poisson.rvs(mu, size=1)\n",
    "        result = {\n",
    "            \"user_id\": user_id,\n",
    "            \"amount\": amount,\n",
    "            \"merchant_id\": merchant_id,\n",
    "            \"entry\": entry,\n",
    "            \"foreign\": foreign\n",
    "        }\n",
    "        yield (offset, (\"legitimate\", result))"
   ]
  },
  {
   "cell_type": "code",
   "execution_count": 6,
   "metadata": {},
   "outputs": [],
   "source": [
    "sim = simulate([basic_user_stream(1, 700), basic_user_stream(2, 105), basic_user_stream(3, 40)])"
   ]
  },
  {
   "cell_type": "code",
   "execution_count": 7,
   "metadata": {},
   "outputs": [
    {
     "name": "stdout",
     "output_type": "stream",
     "text": [
      "(44, ('legitimate', {'user_id': 3, 'amount': 100.0, 'merchant_id': 10071, 'entry': 'chip_and_pin', 'foreign': False}))\n",
      "(80, ('legitimate', {'user_id': 3, 'amount': 100.0, 'merchant_id': 8545, 'entry': 'chip_and_pin', 'foreign': False}))\n",
      "(101, ('legitimate', {'user_id': 2, 'amount': 100.0, 'merchant_id': 15716, 'entry': 'chip_and_pin', 'foreign': False}))\n",
      "(117, ('legitimate', {'user_id': 3, 'amount': 100.0, 'merchant_id': 12719, 'entry': 'chip_and_pin', 'foreign': False}))\n",
      "(157, ('legitimate', {'user_id': 3, 'amount': 100.0, 'merchant_id': 10346, 'entry': 'chip_and_pin', 'foreign': False}))\n",
      "(198, ('legitimate', {'user_id': 3, 'amount': 100.0, 'merchant_id': 10816, 'entry': 'chip_and_pin', 'foreign': False}))\n",
      "(216, ('legitimate', {'user_id': 2, 'amount': 100.0, 'merchant_id': 4159, 'entry': 'chip_and_pin', 'foreign': False}))\n",
      "(245, ('legitimate', {'user_id': 3, 'amount': 100.0, 'merchant_id': 9330, 'entry': 'chip_and_pin', 'foreign': False}))\n",
      "(280, ('legitimate', {'user_id': 3, 'amount': 100.0, 'merchant_id': 1849, 'entry': 'chip_and_pin', 'foreign': False}))\n",
      "(308, ('legitimate', {'user_id': 2, 'amount': 100.0, 'merchant_id': 15202, 'entry': 'chip_and_pin', 'foreign': False}))\n",
      "(324, ('legitimate', {'user_id': 3, 'amount': 100.0, 'merchant_id': 16819, 'entry': 'chip_and_pin', 'foreign': False}))\n",
      "(370, ('legitimate', {'user_id': 3, 'amount': 100.0, 'merchant_id': 14394, 'entry': 'chip_and_pin', 'foreign': False}))\n",
      "(417, ('legitimate', {'user_id': 2, 'amount': 100.0, 'merchant_id': 14993, 'entry': 'chip_and_pin', 'foreign': False}))\n",
      "(425, ('legitimate', {'user_id': 3, 'amount': 100.0, 'merchant_id': 11897, 'entry': 'chip_and_pin', 'foreign': False}))\n",
      "(472, ('legitimate', {'user_id': 3, 'amount': 100.0, 'merchant_id': 14744, 'entry': 'chip_and_pin', 'foreign': False}))\n",
      "(510, ('legitimate', {'user_id': 3, 'amount': 100.0, 'merchant_id': 14744, 'entry': 'chip_and_pin', 'foreign': False}))\n",
      "(528, ('legitimate', {'user_id': 2, 'amount': 100.0, 'merchant_id': 1681, 'entry': 'chip_and_pin', 'foreign': False}))\n",
      "(546, ('legitimate', {'user_id': 3, 'amount': 100.0, 'merchant_id': 6114, 'entry': 'chip_and_pin', 'foreign': False}))\n",
      "(590, ('legitimate', {'user_id': 3, 'amount': 100.0, 'merchant_id': 3772, 'entry': 'chip_and_pin', 'foreign': False}))\n",
      "(635, ('legitimate', {'user_id': 2, 'amount': 100.0, 'merchant_id': 216, 'entry': 'chip_and_pin', 'foreign': False}))\n"
     ]
    }
   ],
   "source": [
    "for i in range(20):\n",
    "    print(next(sim))"
   ]
  },
  {
   "cell_type": "markdown",
   "metadata": {},
   "source": [
    "## Some quick improvements\n",
    "\n",
    "1.  Users don't always buy things from a few favorite merchants.  Change `basic_user_stream` so that they occasionally buy from any merchant.\n",
    "2.  Most people probably buy many inexpensive things and relatively few expensive things.  Use this insight to generate (more) realistic transaction amounts.\n",
    "3.  Some small percentage of online sales will be foreign transactions.  When a user is traveling abroad, nearly all of his or her transactions will be foreign transactions.  Add some state to `basic_user_stream` to model occasional international travel.\n",
    "\n",
    "## Simulating fraud\n",
    "\n",
    "WIP"
   ]
  },
  {
   "cell_type": "code",
   "execution_count": null,
   "metadata": {},
   "outputs": [],
   "source": []
  }
 ],
 "metadata": {
  "kernelspec": {
   "display_name": "Python 3",
   "language": "python",
   "name": "python3"
  },
  "language_info": {
   "codemirror_mode": {
    "name": "ipython",
    "version": 3
   },
   "file_extension": ".py",
   "mimetype": "text/x-python",
   "name": "python",
   "nbconvert_exporter": "python",
   "pygments_lexer": "ipython3",
   "version": "3.7.3"
  }
 },
 "nbformat": 4,
 "nbformat_minor": 2
}
