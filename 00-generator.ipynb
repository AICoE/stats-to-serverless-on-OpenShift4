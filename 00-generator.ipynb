{
 "cells": [
  {
   "cell_type": "markdown",
   "metadata": {},
   "source": [
    "# Generating synthetic payments data\n",
    "\n",
    "In this notebook, we'll build up a very simple simulator to generate payments data corresponding to legitimate and fraudulent transactions.  (There are many ways you could improve this generator and we'll call some of them out.)  We'll start by building up some functionality to run simulations in general.\n",
    "\n",
    "## An (extremely) basic discrete-event simulation framework\n",
    "\n",
    "The next function is all you need to run simple discrete-event simulations.  Here's how to use it:\n",
    "\n",
    "- you'll define several streams of events, each of which is modeled by a Python generator,\n",
    "- each event stream generator will `yield` a tuple consisting of *an offset* (the amount of time that has passed since the last event of that type) and *a result* (an arbitrary Python value associated with the event),\n",
    "- the generator produced by the `simulate` function will yield the next event from all event streams indefinitely."
   ]
  },
  {
   "cell_type": "code",
   "execution_count": 1,
   "metadata": {},
   "outputs": [],
   "source": [
    "import heapq\n",
    "\n",
    "def simulate(event_generators, initial_time=0):\n",
    "    pq = []\n",
    "    for event in event_generators:\n",
    "        offset, result = next(event)\n",
    "        heapq.heappush(pq, (offset + initial_time, result, event))\n",
    "    \n",
    "    while True:\n",
    "        timestamp, result, event = heapq.heappop(pq)\n",
    "        offset, next_result = event.send(timestamp)\n",
    "        heapq.heappush(pq, (timestamp + offset, next_result, event))\n",
    "        yield (timestamp, result)"
   ]
  },
  {
   "cell_type": "markdown",
   "metadata": {},
   "source": [
    "It may be easier to see how this works with an example.  In the next three cells, we \n",
    "\n",
    "1. define a generator for event streams, which samples interarrival times from a Poisson distribution and returns a predefined string as the result at each event,\n",
    "2. set up a simulation with four streams, each of which has a different distribution of interarrival times and value, and\n",
    "3. take the first twenty events from the simulation"
   ]
  },
  {
   "cell_type": "code",
   "execution_count": 2,
   "metadata": {},
   "outputs": [],
   "source": [
    "from scipy import stats\n",
    "\n",
    "def bedrockstream(mu, name):\n",
    "    while True:\n",
    "        offset, = stats.poisson.rvs(mu, size=1)\n",
    "        x = yield (offset, name)"
   ]
  },
  {
   "cell_type": "code",
   "execution_count": 3,
   "metadata": {},
   "outputs": [],
   "source": [
    "sim = simulate([bedrockstream(10, \"fred\"), \n",
    "                bedrockstream(12, \"betty\"), \n",
    "                bedrockstream(20, \"wilma\"), \n",
    "                bedrockstream(35, \"barney\")])"
   ]
  },
  {
   "cell_type": "code",
   "execution_count": 4,
   "metadata": {
    "scrolled": true
   },
   "outputs": [
    {
     "name": "stdout",
     "output_type": "stream",
     "text": [
      "(12, 'betty')\n",
      "(17, 'fred')\n",
      "(17, 'wilma')\n",
      "(19, 'betty')\n",
      "(20, 'fred')\n",
      "(25, 'barney')\n",
      "(33, 'betty')\n",
      "(36, 'fred')\n",
      "(40, 'betty')\n",
      "(45, 'wilma')\n",
      "(47, 'fred')\n",
      "(55, 'fred')\n",
      "(56, 'betty')\n",
      "(60, 'fred')\n",
      "(60, 'wilma')\n",
      "(62, 'barney')\n",
      "(67, 'betty')\n",
      "(71, 'fred')\n",
      "(80, 'wilma')\n",
      "(81, 'fred')\n"
     ]
    }
   ],
   "source": [
    "for i in range(20):\n",
    "    print(next(sim))"
   ]
  },
  {
   "cell_type": "markdown",
   "metadata": {},
   "source": [
    "### Sidebar:  repeatability and pseudorandom number generation\n",
    "\n",
    "There are a couple of small problems here:  \n",
    "\n",
    "1.  We aren't seeding our random number generator, which means that our results won't be deterministic (in general, we'd like simulations to be deterministic so we can replay them with different parameters or policies), and\n",
    "2.  we're using the same random number generator for every user in the stream, which means (among other things) that any long-period autocorrelations in our pseudorandom number stream will show up in our simulation results.  (It also means that the behavior of any given user will depend on how many users there are in the simulation!)\n",
    "\n",
    "We can solve both problems by using a separate generator for each user and seeding it.  Scipy will let us create a stream of numbers sampled from a given distribution as an object, but it won't let us pass in a seed to the constructor.  However, we can set the seed after we create the stream, like this:"
   ]
  },
  {
   "cell_type": "code",
   "execution_count": 5,
   "metadata": {},
   "outputs": [
    {
     "name": "stdout",
     "output_type": "stream",
     "text": [
      "(7, 'fred')\n",
      "(12, 'betty')\n",
      "(13, 'fred')\n",
      "(16, 'wilma')\n",
      "(23, 'fred')\n",
      "(25, 'betty')\n",
      "(31, 'wilma')\n",
      "(35, 'fred')\n",
      "(36, 'barney')\n",
      "(36, 'betty')\n",
      "(45, 'fred')\n",
      "(47, 'betty')\n",
      "(51, 'wilma')\n",
      "(56, 'fred')\n",
      "(68, 'betty')\n",
      "(68, 'fred')\n",
      "(73, 'barney')\n",
      "(73, 'wilma')\n",
      "(78, 'fred')\n",
      "(83, 'betty')\n"
     ]
    }
   ],
   "source": [
    "import numpy as np\n",
    "\n",
    "def det_bedrockstream(mu, name, seedpart=0xda7aba5e):\n",
    "    \n",
    "    # scipy doesn't let us specify a seed in the constructor...\n",
    "    poisson = stats.poisson(mu)\n",
    "    \n",
    "    # ...so we'll set one up after creating the object\n",
    "    seed = (hash(name) ^ seedpart) & (1 << 31 - 1)\n",
    "    poisson.random_state = np.random.RandomState(seed)\n",
    "    \n",
    "    while True:\n",
    "        offset, = poisson.rvs(size=1)\n",
    "        x = yield (offset, name)\n",
    "        \n",
    "sim = simulate([det_bedrockstream(10, \"fred\"), \n",
    "                det_bedrockstream(12, \"betty\"), \n",
    "                det_bedrockstream(20, \"wilma\"), \n",
    "                det_bedrockstream(35, \"barney\")])\n",
    "\n",
    "for i in range(20):\n",
    "    print(next(sim))"
   ]
  },
  {
   "cell_type": "markdown",
   "metadata": {},
   "source": [
    "## Modeling transactions\n",
    "\n",
    "The first thing we need to do is to decide what data we'll generate for each transaction.  Some interesting possibilities include:\n",
    "\n",
    "- user ID\n",
    "- merchant ID\n",
    "- merchant type\n",
    "- transaction amount (assuming a single currency)\n",
    "- card entry mode (e.g., contactless, chip and pin, swipe, card manually keyed, or online transaction)\n",
    "- foreign transaction (whether or not the user's home country matches the country in which the transaction is taking place)\n",
    "\n",
    "We'll also generate a label for each transaction (`legitimate` or `fraud`).  We'll start with a very basic user event stream generator:  all of the transactions we generate will be legitimate, and we won't do anything particularly interesting with most of the fields.  We also won't bother making this very basic simulation deterministic."
   ]
  },
  {
   "cell_type": "code",
   "execution_count": 6,
   "metadata": {},
   "outputs": [],
   "source": [
    "MERCHANT_COUNT = 20000\n",
    "\n",
    "# a small percentage of merchants account for most transactions\n",
    "COMMON_MERCHANT_COUNT = MERCHANT_COUNT // 21\n",
    "\n",
    "np.random.seed(0xda7aba5e)\n",
    "\n",
    "common_merchants = np.random.choice(MERCHANT_COUNT, \n",
    "                                    size=COMMON_MERCHANT_COUNT, \n",
    "                                    replace=True)\n",
    "\n",
    "def basic_user_stream(user_id, mu, seed=None):\n",
    "    \n",
    "    favorite_merchants = np.random.choice(common_merchants,\n",
    "                                         size=len(common_merchants) // 5)\n",
    "    while True:\n",
    "        amount = 100.00\n",
    "        entry = \"chip_and_pin\"\n",
    "        foreign = False\n",
    "        \n",
    "        merchant_id, = np.random.choice(favorite_merchants, size=1)\n",
    "        offset = stats.poisson.rvs(mu)\n",
    "        result = {\n",
    "            \"user_id\": user_id,\n",
    "            \"amount\": amount,\n",
    "            \"merchant_id\": merchant_id,\n",
    "            \"entry\": entry,\n",
    "            \"foreign\": foreign\n",
    "        }\n",
    "        yield (offset, (\"legitimate\", *result.values()))"
   ]
  },
  {
   "cell_type": "code",
   "execution_count": 7,
   "metadata": {},
   "outputs": [],
   "source": [
    "sim = simulate([basic_user_stream(1, 700), basic_user_stream(2, 105), basic_user_stream(3, 40)])"
   ]
  },
  {
   "cell_type": "code",
   "execution_count": 8,
   "metadata": {},
   "outputs": [
    {
     "name": "stdout",
     "output_type": "stream",
     "text": [
      "(43, ('legitimate', 3, 100.0, 19732, 'chip_and_pin', False))\n",
      "(81, ('legitimate', 3, 100.0, 3511, 'chip_and_pin', False))\n",
      "(112, ('legitimate', 3, 100.0, 4276, 'chip_and_pin', False))\n",
      "(113, ('legitimate', 2, 100.0, 13133, 'chip_and_pin', False))\n",
      "(154, ('legitimate', 3, 100.0, 17491, 'chip_and_pin', False))\n",
      "(207, ('legitimate', 3, 100.0, 16851, 'chip_and_pin', False))\n",
      "(210, ('legitimate', 2, 100.0, 18350, 'chip_and_pin', False))\n",
      "(245, ('legitimate', 3, 100.0, 8932, 'chip_and_pin', False))\n",
      "(296, ('legitimate', 3, 100.0, 8454, 'chip_and_pin', False))\n",
      "(324, ('legitimate', 2, 100.0, 5465, 'chip_and_pin', False))\n",
      "(330, ('legitimate', 3, 100.0, 16423, 'chip_and_pin', False))\n",
      "(386, ('legitimate', 3, 100.0, 6893, 'chip_and_pin', False))\n",
      "(430, ('legitimate', 2, 100.0, 10116, 'chip_and_pin', False))\n",
      "(430, ('legitimate', 3, 100.0, 13978, 'chip_and_pin', False))\n",
      "(481, ('legitimate', 3, 100.0, 16397, 'chip_and_pin', False))\n",
      "(522, ('legitimate', 3, 100.0, 811, 'chip_and_pin', False))\n",
      "(532, ('legitimate', 2, 100.0, 7870, 'chip_and_pin', False))\n",
      "(558, ('legitimate', 3, 100.0, 6259, 'chip_and_pin', False))\n",
      "(587, ('legitimate', 3, 100.0, 14732, 'chip_and_pin', False))\n",
      "(619, ('legitimate', 3, 100.0, 5045, 'chip_and_pin', False))\n"
     ]
    }
   ],
   "source": [
    "for i in range(20):\n",
    "    print(next(sim))"
   ]
  },
  {
   "cell_type": "markdown",
   "metadata": {},
   "source": [
    "## Exercise:  some quick improvements\n",
    "\n",
    "1.  Users don't always just buy things from a few favorite merchants.  Change `basic_user_stream` so that they occasionally buy from any merchant.\n",
    "2.  Most people buy many inexpensive things and relatively few expensive things.  Use this insight to generate (more) realistic transaction amounts.\n",
    "3.  Some small percentage of online sales will be foreign transactions.  When a user is traveling abroad, nearly all of his or her transactions will be foreign transactions.  Add some state to `basic_user_stream` to model occasional international travel."
   ]
  },
  {
   "cell_type": "markdown",
   "metadata": {},
   "source": [
    "## Building a better transaction stream\n",
    "\n",
    "We'll start by building a generator to build a mixture model we can use to make several kinds of transactions:  small, medium, and large.  We'll need to do a bit of extra work to make this generator deterministic, but we'll start by showing a nondeterministic version."
   ]
  },
  {
   "cell_type": "code",
   "execution_count": 9,
   "metadata": {},
   "outputs": [
    {
     "data": {
      "text/plain": [
       "<scipy.stats._distn_infrastructure.rv_frozen at 0x11ee53090>"
      ]
     },
     "execution_count": 9,
     "metadata": {},
     "output_type": "execute_result"
    }
   ],
   "source": [
    "g = stats.gamma(a=1.1, scale=min(5, 750), loc=5)\n",
    "g"
   ]
  },
  {
   "cell_type": "code",
   "execution_count": 10,
   "metadata": {},
   "outputs": [],
   "source": [
    "def nd_transaction_amounts(means, percentages, distribution=None):\n",
    "    size = 256\n",
    "    \n",
    "    if distribution is None:\n",
    "        distribution = lambda m, sz: stats.gamma.rvs(a=1.1, scale=min(m, 750), loc=m, size=sz)\n",
    "    \n",
    "    while True:\n",
    "        streams = [distribution(m * 100, size) for m in means]\n",
    "        stream = np.floor(np.choose(np.random.choice(len(means), p=percentages, size=size), streams)) / 100\n",
    "        \n",
    "        yield from stream"
   ]
  },
  {
   "cell_type": "code",
   "execution_count": 11,
   "metadata": {},
   "outputs": [
    {
     "name": "stderr",
     "output_type": "stream",
     "text": [
      "/Users/willb/.local/share/virtualenvs/fraud-data-generator-F_Q5KlT_/lib/python3.7/site-packages/altair/utils/core.py:294: FutureWarning: A future version of pandas will default to `skipna=True`. To silence this warning, pass `skipna=True|False` explicitly.\n",
      "  attrs['type'] = infer_vegalite_type(data[attrs['field']])\n"
     ]
    },
    {
     "data": {
      "application/javascript": [
       "var spec = {\"config\": {\"view\": {\"width\": 400, \"height\": 300}}, \"data\": {\"url\": \"altair-data-e2c3f481492ffc0a14cb6ceaf773484e.json\", \"format\": {\"type\": \"json\"}}, \"mark\": \"bar\", \"encoding\": {\"x\": {\"type\": \"quantitative\", \"bin\": {\"maxbins\": 100}, \"field\": \"amounts\"}, \"y\": {\"type\": \"quantitative\", \"aggregate\": \"count\"}}, \"$schema\": \"https://vega.github.io/schema/vega-lite/v2.6.0.json\"};\n",
       "var opt = {};\n",
       "var type = \"vega-lite\";\n",
       "var id = \"2b49fe9e-3f5f-4941-9522-aa81b11623ce\";\n",
       "\n",
       "var output_area = this;\n",
       "\n",
       "require([\"nbextensions/jupyter-vega/index\"], function(vega) {\n",
       "  var target = document.createElement(\"div\");\n",
       "  target.id = id;\n",
       "  target.className = \"vega-embed\";\n",
       "\n",
       "  var style = document.createElement(\"style\");\n",
       "  style.textContent = [\n",
       "    \".vega-embed .error p {\",\n",
       "    \"  color: firebrick;\",\n",
       "    \"  font-size: 14px;\",\n",
       "    \"}\",\n",
       "  ].join(\"\\\\n\");\n",
       "\n",
       "  // element is a jQuery wrapped DOM element inside the output area\n",
       "  // see http://ipython.readthedocs.io/en/stable/api/generated/\\\n",
       "  // IPython.display.html#IPython.display.Javascript.__init__\n",
       "  element[0].appendChild(target);\n",
       "  element[0].appendChild(style);\n",
       "\n",
       "  vega.render(\"#\" + id, spec, type, opt, output_area);\n",
       "}, function (err) {\n",
       "  if (err.requireType !== \"scripterror\") {\n",
       "    throw(err);\n",
       "  }\n",
       "});\n"
      ],
      "text/plain": [
       "<vega.vegalite.VegaLite at 0x12155b550>"
      ]
     },
     "metadata": {
      "jupyter-vega": "#2b49fe9e-3f5f-4941-9522-aa81b11623ce"
     },
     "output_type": "display_data"
    },
    {
     "data": {
      "text/plain": []
     },
     "execution_count": 11,
     "metadata": {},
     "output_type": "execute_result"
    },
    {
     "data": {
      "image/png": "[encoded data removed]"
     },
     "metadata": {
      "jupyter-vega": "#2b49fe9e-3f5f-4941-9522-aa81b11623ce"
     },
     "output_type": "display_data"
    }
   ],
   "source": [
    "import pandas as pd\n",
    "\n",
    "import altair as alt\n",
    "alt.renderers.enable('notebook')\n",
    "alt.data_transformers.enable('json')\n",
    "\n",
    "amt = nd_transaction_amounts([5, 15, 50], [0.5, 0.35, 0.15])\n",
    "amounts = [next(amt) for i in range(80000)]\n",
    "\n",
    "source = pd.DataFrame({\"amounts\": amounts})\n",
    "\n",
    "alt.Chart(source).mark_bar().encode(\n",
    "    alt.X(\"amounts\", bin=alt.Bin(maxbins=100)),\n",
    "    y='count()'\n",
    ")"
   ]
  },
  {
   "cell_type": "markdown",
   "metadata": {},
   "source": [
    "We can also plot a broader distribution of transactions:"
   ]
  },
  {
   "cell_type": "code",
   "execution_count": 12,
   "metadata": {},
   "outputs": [
    {
     "data": {
      "application/javascript": [
       "var spec = {\"config\": {\"view\": {\"width\": 400, \"height\": 300}}, \"data\": {\"url\": \"altair-data-88997a3b117d1363c004d4bfbea60e02.json\", \"format\": {\"type\": \"json\"}}, \"mark\": \"bar\", \"encoding\": {\"x\": {\"type\": \"quantitative\", \"bin\": {\"maxbins\": 100}, \"field\": \"amounts\"}, \"y\": {\"type\": \"quantitative\", \"aggregate\": \"count\"}}, \"$schema\": \"https://vega.github.io/schema/vega-lite/v2.6.0.json\"};\n",
       "var opt = {};\n",
       "var type = \"vega-lite\";\n",
       "var id = \"9c7e2ade-8681-424b-a37e-09f2bc3aa126\";\n",
       "\n",
       "var output_area = this;\n",
       "\n",
       "require([\"nbextensions/jupyter-vega/index\"], function(vega) {\n",
       "  var target = document.createElement(\"div\");\n",
       "  target.id = id;\n",
       "  target.className = \"vega-embed\";\n",
       "\n",
       "  var style = document.createElement(\"style\");\n",
       "  style.textContent = [\n",
       "    \".vega-embed .error p {\",\n",
       "    \"  color: firebrick;\",\n",
       "    \"  font-size: 14px;\",\n",
       "    \"}\",\n",
       "  ].join(\"\\\\n\");\n",
       "\n",
       "  // element is a jQuery wrapped DOM element inside the output area\n",
       "  // see http://ipython.readthedocs.io/en/stable/api/generated/\\\n",
       "  // IPython.display.html#IPython.display.Javascript.__init__\n",
       "  element[0].appendChild(target);\n",
       "  element[0].appendChild(style);\n",
       "\n",
       "  vega.render(\"#\" + id, spec, type, opt, output_area);\n",
       "}, function (err) {\n",
       "  if (err.requireType !== \"scripterror\") {\n",
       "    throw(err);\n",
       "  }\n",
       "});\n"
      ],
      "text/plain": [
       "<vega.vegalite.VegaLite at 0x12155acd0>"
      ]
     },
     "metadata": {
      "jupyter-vega": "#9c7e2ade-8681-424b-a37e-09f2bc3aa126"
     },
     "output_type": "display_data"
    },
    {
     "data": {
      "text/plain": []
     },
     "execution_count": 12,
     "metadata": {},
     "output_type": "execute_result"
    },
    {
     "data": {
      "image/png": "[encoded data removed]"
     },
     "metadata": {
      "jupyter-vega": "#9c7e2ade-8681-424b-a37e-09f2bc3aa126"
     },
     "output_type": "display_data"
    }
   ],
   "source": [
    "amt = nd_transaction_amounts([5, 10, 15, 20, 50, 100], \n",
    "                          [0.35, 0.25, 0.15, 0.1, 0.1, 0.05])\n",
    "amounts = [next(amt) for i in range(40000)]\n",
    "\n",
    "source = pd.DataFrame({\"amounts\": amounts})\n",
    "\n",
    "alt.Chart(source).mark_bar().encode(\n",
    "    alt.X(\"amounts\", bin=alt.Bin(maxbins=100)),\n",
    "    y='count()',\n",
    ")"
   ]
  },
  {
   "cell_type": "markdown",
   "metadata": {},
   "source": [
    "Let's make that transaction-amount generator deterministic."
   ]
  },
  {
   "cell_type": "code",
   "execution_count": 13,
   "metadata": {},
   "outputs": [],
   "source": [
    "import time\n",
    "\n",
    "def transaction_amounts(means, percentages, distributions=None, seed=None):\n",
    "    size = 256\n",
    "    \n",
    "    def mkgamma(m, s):\n",
    "        gamma = stats.gamma(a=1.1, scale=min(m, 750), loc=m)\n",
    "        gamma.random_state = s\n",
    "        return gamma\n",
    "    \n",
    "    if seed is None:\n",
    "        seed = int(time.time()) & ((1 << 32) - 1)\n",
    "        \n",
    "    prng = np.random.RandomState(seed)\n",
    "    \n",
    "    if distributions is None:\n",
    "        distributions = [mkgamma(m * 100, prng.randint((1 << 32) - 1)) for m in means]\n",
    "    \n",
    "    while True:\n",
    "        streams = [d.rvs(size=size) for d in distributions]\n",
    "        stream = np.floor(np.choose(prng.choice(len(means), p=percentages, size=size), streams)) / 100\n",
    "        \n",
    "        yield from stream"
   ]
  },
  {
   "cell_type": "markdown",
   "metadata": {},
   "source": [
    "Finally, we'll sanity-check the deterministic version to make sure it behaves the same way as the non-determinstic version."
   ]
  },
  {
   "cell_type": "code",
   "execution_count": 14,
   "metadata": {},
   "outputs": [
    {
     "data": {
      "application/javascript": [
       "var spec = {\"config\": {\"view\": {\"width\": 400, \"height\": 300}}, \"data\": {\"url\": \"altair-data-d4cf7b5bcfad3ea2b4ad8db4469a6769.json\", \"format\": {\"type\": \"json\"}}, \"mark\": \"bar\", \"encoding\": {\"x\": {\"type\": \"quantitative\", \"bin\": {\"maxbins\": 100}, \"field\": \"amounts\"}, \"y\": {\"type\": \"quantitative\", \"aggregate\": \"count\"}}, \"selection\": {\"selector001\": {\"type\": \"interval\", \"bind\": \"scales\", \"encodings\": [\"x\", \"y\"]}}, \"$schema\": \"https://vega.github.io/schema/vega-lite/v2.6.0.json\"};\n",
       "var opt = {};\n",
       "var type = \"vega-lite\";\n",
       "var id = \"1318b2f1-70ad-48c4-a61b-3291e5faee87\";\n",
       "\n",
       "var output_area = this;\n",
       "\n",
       "require([\"nbextensions/jupyter-vega/index\"], function(vega) {\n",
       "  var target = document.createElement(\"div\");\n",
       "  target.id = id;\n",
       "  target.className = \"vega-embed\";\n",
       "\n",
       "  var style = document.createElement(\"style\");\n",
       "  style.textContent = [\n",
       "    \".vega-embed .error p {\",\n",
       "    \"  color: firebrick;\",\n",
       "    \"  font-size: 14px;\",\n",
       "    \"}\",\n",
       "  ].join(\"\\\\n\");\n",
       "\n",
       "  // element is a jQuery wrapped DOM element inside the output area\n",
       "  // see http://ipython.readthedocs.io/en/stable/api/generated/\\\n",
       "  // IPython.display.html#IPython.display.Javascript.__init__\n",
       "  element[0].appendChild(target);\n",
       "  element[0].appendChild(style);\n",
       "\n",
       "  vega.render(\"#\" + id, spec, type, opt, output_area);\n",
       "}, function (err) {\n",
       "  if (err.requireType !== \"scripterror\") {\n",
       "    throw(err);\n",
       "  }\n",
       "});\n"
      ],
      "text/plain": [
       "<vega.vegalite.VegaLite at 0x11ee479d0>"
      ]
     },
     "metadata": {
      "jupyter-vega": "#1318b2f1-70ad-48c4-a61b-3291e5faee87"
     },
     "output_type": "display_data"
    },
    {
     "data": {
      "text/plain": []
     },
     "execution_count": 14,
     "metadata": {},
     "output_type": "execute_result"
    },
    {
     "data": {
      "image/png": "[encoded data removed]"
     },
     "metadata": {
      "jupyter-vega": "#1318b2f1-70ad-48c4-a61b-3291e5faee87"
     },
     "output_type": "display_data"
    }
   ],
   "source": [
    "amt = transaction_amounts([5, 10, 15, 20, 50, 100], \n",
    "                          [0.35, 0.25, 0.15, 0.1, 0.1, 0.05],\n",
    "                          seed=0x12341234)\n",
    "amounts = [next(amt) for i in range(40000)]\n",
    "\n",
    "source = pd.DataFrame({\"amounts\": amounts})\n",
    "\n",
    "alt.Chart(source).mark_bar().interactive().encode(\n",
    "    alt.X(\"amounts\", bin=alt.Bin(maxbins=100)),\n",
    "    y='count()',\n",
    ")"
   ]
  },
  {
   "cell_type": "markdown",
   "metadata": {},
   "source": [
    "Next up, we'll make a generator to create the entry types.  \n",
    "\n",
    "You may have noticed that we need to do some extra work at the beginning of each generator function to make it deterministic -- specifically, something like this:\n",
    "\n",
    "    if seed is None:\n",
    "        seed = int(time.time()) & ((1 << 32) - 1)\n",
    "    \n",
    "    prng = np.random.RandomState(seed)\n",
    "    \n",
    "This code sets up a pseudorandom number generator, either seeded with an explicit value (if supplied) or with the time (if no seed is supplied).  We shouldn't be writing this code more than once, so let's set up some code to automatically add this to every function that will need its own seeded PRNG.  We'll use Python's [decorator](https://www.python.org/dev/peps/pep-0318/) facility for this purpose."
   ]
  },
  {
   "cell_type": "code",
   "execution_count": 15,
   "metadata": {},
   "outputs": [],
   "source": [
    "def makeprng(func):\n",
    "    import time\n",
    "    def call_with_prng(*args, prng=None, seed=None, **kwargs):\n",
    "        if prng is None:\n",
    "            if seed is None:\n",
    "                seed = int(time.time()) & ((1 << 32) - 1)\n",
    "            prng = np.random.RandomState(seed)\n",
    "        return func(*args, prng=prng, seed=seed, **kwargs)\n",
    "    return call_with_prng"
   ]
  },
  {
   "cell_type": "markdown",
   "metadata": {},
   "source": [
    "Here's our decorator in action:"
   ]
  },
  {
   "cell_type": "code",
   "execution_count": 16,
   "metadata": {},
   "outputs": [],
   "source": [
    "@makeprng\n",
    "def legitimate_entry_types(prng=None, seed=None):    \n",
    "    size = 256\n",
    "    \n",
    "    entry_types = [\"contactless\", \"chip_and_pin\", \"swipe\", \"manual\", \"online\"]\n",
    "    entry_probs = [0.25,0.2,0.15,0.05,0.35]\n",
    "\n",
    "    while True:\n",
    "        stream = [entry_types[i] for i in prng.choice(len(entry_types), p=entry_probs, size=size)]\n",
    "        yield from stream"
   ]
  },
  {
   "cell_type": "markdown",
   "metadata": {},
   "source": [
    "We'll also declare a simple function to make it easy to generate an instance of a SciPy distribution class with a given seed:"
   ]
  },
  {
   "cell_type": "code",
   "execution_count": 17,
   "metadata": {},
   "outputs": [],
   "source": [
    "def makedist(dist_cls, seed=None, prng=None, **kwargs):\n",
    "    d = dist_cls(**kwargs)\n",
    "    d.random_state = (seed and seed) or prng.randint((1 << 32) - 1)\n",
    "    return d"
   ]
  },
  {
   "cell_type": "markdown",
   "metadata": {},
   "source": [
    "...and one for selecting merchants (primarily a user's favorite merchants):"
   ]
  },
  {
   "cell_type": "code",
   "execution_count": 18,
   "metadata": {},
   "outputs": [],
   "source": [
    "@makeprng\n",
    "def merchant_stream(common_merchants, all_merchants, fav_percentage=0.2, probs=[0.6,0.37,0.03], prng = None, seed=None):\n",
    "    favorite_merchants = prng.choice(common_merchants,\n",
    "                                          size=int(len(common_merchants) * fav_percentage))\n",
    "    merchants = [favorite_merchants, common_merchants, all_merchants]\n",
    "    while True:\n",
    "        pool = merchants[prng.choice(len(merchants), p=probs)]\n",
    "        yield int(prng.choice(pool))"
   ]
  },
  {
   "cell_type": "markdown",
   "metadata": {},
   "source": [
    "We can combine all of these to generate a stream of legitimate activity for a single user:"
   ]
  },
  {
   "cell_type": "code",
   "execution_count": 19,
   "metadata": {},
   "outputs": [],
   "source": [
    "@makeprng\n",
    "def legitimate_user_stream(user_id, transactions_per_day=12, start_timestamp=0, amount_means=[20,100,500], amount_probs=[0.9,0.075,0.025], prng=None, seed=None):\n",
    "    amounts = transaction_amounts(amount_means, amount_probs, seed=prng.randint((1<<32)-1))\n",
    "    entry_types = legitimate_entry_types(seed=prng.randint((1<<32)-1))\n",
    "    merchants = merchant_stream(common_merchants, np.arange(MERCHANT_COUNT), seed=prng.randint((1<<32)-1))\n",
    "    \n",
    "    SECONDS_PER_DAY = 86400\n",
    "    SECONDS_PER_HOUR = 60 * 60\n",
    "    loc = SECONDS_PER_DAY // transactions_per_day\n",
    "    p = 1 / (loc / 10)\n",
    "    \n",
    "    geom = makedist(stats.geom, prng=prng, p=p, loc=loc)\n",
    "    \n",
    "    # choose an arbitrary timezone offset (in seconds)\n",
    "    tz_offset = (user_id % 24) * SECONDS_PER_HOUR\n",
    "    WAKEUP_TIME = 7 * SECONDS_PER_HOUR\n",
    "    SLEEP_TIME = 21 * SECONDS_PER_HOUR\n",
    "    \n",
    "    ts = start_timestamp\n",
    "    snooze = False\n",
    "    \n",
    "    while True:\n",
    "        amount = next(amounts)\n",
    "        entry = next(entry_types)\n",
    "        foreign = entry == \"online\" and prng.choice([True, False], p=[0.4, 0.6])\n",
    "        \n",
    "        merchant_id = next(merchants)\n",
    "        \n",
    "        offset = geom.rvs()\n",
    "        \n",
    "        localtime = (ts + tz_offset) % SECONDS_PER_DAY\n",
    "        if localtime < WAKEUP_TIME or localtime > SLEEP_TIME:\n",
    "            snooze = True\n",
    "        \n",
    "        while snooze:\n",
    "            localtime = (ts + tz_offset + offset) % SECONDS_PER_DAY\n",
    "            if localtime > WAKEUP_TIME and localtime < SLEEP_TIME:\n",
    "                snooze = False\n",
    "            offset += geom.rvs()\n",
    "            \n",
    "        result = {\n",
    "            \"user_id\": user_id,\n",
    "            \"amount\": amount,\n",
    "            \"merchant_id\": merchant_id,\n",
    "            \"entry\": entry,\n",
    "            \"foreign\": foreign\n",
    "        }\n",
    "        ts = yield (offset, (\"legitimate\", *result.values()))\n",
    "        "
   ]
  },
  {
   "cell_type": "code",
   "execution_count": 20,
   "metadata": {
    "scrolled": false
   },
   "outputs": [
    {
     "name": "stdout",
     "output_type": "stream",
     "text": [
      "(7260, ('legitimate', 9, 25.0, 4079, 'chip_and_pin', False))\n",
      "(7260, ('legitimate', 14, 25.0, 4079, 'chip_and_pin', False))\n",
      "(17148, ('legitimate', 6, 25.0, 4079, 'chip_and_pin', False))\n",
      "(17148, ('legitimate', 9, 20.45, 14675, 'swipe', False))\n",
      "(17148, ('legitimate', 14, 20.45, 14675, 'swipe', False))\n",
      "(24707, ('legitimate', 6, 20.45, 14675, 'swipe', False))\n",
      "(24707, ('legitimate', 9, 32.49, 7246, 'swipe', False))\n",
      "(24707, ('legitimate', 14, 32.49, 7246, 'swipe', False))\n",
      "(32057, ('legitimate', 1, 25.0, 4079, 'chip_and_pin', False))\n",
      "(32057, ('legitimate', 6, 32.49, 7246, 'swipe', False))\n",
      "...\n",
      "(32057, ('legitimate', 9, 22.81, 10836, 'online', True))\n",
      "(32057, ('legitimate', 14, 22.81, 10836, 'online', True))\n",
      "(42191, ('legitimate', 1, 20.45, 14675, 'swipe', False))\n",
      "(42191, ('legitimate', 6, 22.81, 10836, 'online', True))\n",
      "(42191, ('legitimate', 9, 27.03, 12195, 'online', True))\n",
      "(50236, ('legitimate', 1, 32.49, 7246, 'swipe', False))\n",
      "(50236, ('legitimate', 6, 27.03, 12195, 'online', True))\n",
      "(50236, ('legitimate', 9, 20.95, 13512, 'online', False))\n",
      "(58031, ('legitimate', 1, 22.81, 10836, 'online', True))\n"
     ]
    }
   ],
   "source": [
    "sim = simulate([legitimate_user_stream(i) for i in [1,6,9,14]])\n",
    "\n",
    "for i in range(200):\n",
    "    if i < 10 or i > 190:\n",
    "        print(next(sim))\n",
    "    elif i == 10:\n",
    "        print(\"...\")"
   ]
  },
  {
   "cell_type": "markdown",
   "metadata": {},
   "source": [
    "We can visualize the behavior of users in each time zone to see when they're awake:"
   ]
  },
  {
   "cell_type": "code",
   "execution_count": 21,
   "metadata": {
    "scrolled": true
   },
   "outputs": [
    {
     "data": {
      "application/javascript": [
       "var spec = {\"config\": {\"view\": {\"width\": 400, \"height\": 300}}, \"data\": {\"url\": \"altair-data-e445663d1a2d74a7de49cfa81ba1e51d.json\", \"format\": {\"type\": \"json\"}}, \"mark\": \"area\", \"encoding\": {\"color\": {\"type\": \"quantitative\", \"field\": \"tzs\"}, \"x\": {\"type\": \"quantitative\", \"field\": \"hours\"}, \"y\": {\"type\": \"quantitative\", \"aggregate\": \"count\"}}, \"selection\": {\"selector002\": {\"type\": \"interval\", \"bind\": \"scales\", \"encodings\": [\"x\", \"y\"]}}, \"$schema\": \"https://vega.github.io/schema/vega-lite/v2.6.0.json\"};\n",
       "var opt = {};\n",
       "var type = \"vega-lite\";\n",
       "var id = \"24cdb774-8eed-4592-bfd4-0a701238dfcb\";\n",
       "\n",
       "var output_area = this;\n",
       "\n",
       "require([\"nbextensions/jupyter-vega/index\"], function(vega) {\n",
       "  var target = document.createElement(\"div\");\n",
       "  target.id = id;\n",
       "  target.className = \"vega-embed\";\n",
       "\n",
       "  var style = document.createElement(\"style\");\n",
       "  style.textContent = [\n",
       "    \".vega-embed .error p {\",\n",
       "    \"  color: firebrick;\",\n",
       "    \"  font-size: 14px;\",\n",
       "    \"}\",\n",
       "  ].join(\"\\\\n\");\n",
       "\n",
       "  // element is a jQuery wrapped DOM element inside the output area\n",
       "  // see http://ipython.readthedocs.io/en/stable/api/generated/\\\n",
       "  // IPython.display.html#IPython.display.Javascript.__init__\n",
       "  element[0].appendChild(target);\n",
       "  element[0].appendChild(style);\n",
       "\n",
       "  vega.render(\"#\" + id, spec, type, opt, output_area);\n",
       "}, function (err) {\n",
       "  if (err.requireType !== \"scripterror\") {\n",
       "    throw(err);\n",
       "  }\n",
       "});\n"
      ],
      "text/plain": [
       "<vega.vegalite.VegaLite at 0x12234bc10>"
      ]
     },
     "metadata": {
      "jupyter-vega": "#24cdb774-8eed-4592-bfd4-0a701238dfcb"
     },
     "output_type": "display_data"
    },
    {
     "data": {
      "text/plain": []
     },
     "execution_count": 21,
     "metadata": {},
     "output_type": "execute_result"
    },
    {
     "data": {
      "image/png": "[encoded data removed]"
     },
     "metadata": {
      "jupyter-vega": "#24cdb774-8eed-4592-bfd4-0a701238dfcb"
     },
     "output_type": "display_data"
    }
   ],
   "source": [
    "prng = np.random.RandomState(0xcfe1a77e)\n",
    "seeds = prng.randint((1<<32) - 1, size=24)\n",
    "\n",
    "sim = simulate([legitimate_user_stream(i, seed=seeds[i]) for i in range(24)])\n",
    "\n",
    "results = [(offset, tup[1]) for offset, tup in [next(sim) for _ in range(20000)]]\n",
    "    \n",
    "source = pd.DataFrame({\"hours\": [(t[0] % 86400) // 3600 for t in results], \n",
    "                       \"tzs\": [t[1] % 24 for t in results]})\n",
    "\n",
    "alt.Chart(source).mark_area().encode(\n",
    "    alt.X(\"hours\"),\n",
    "    y='count()', color=\"tzs\"\n",
    ").interactive()"
   ]
  },
  {
   "cell_type": "markdown",
   "metadata": {},
   "source": [
    "## Simulating fraud\n",
    "\n",
    "We'll start with some basic assumptions:  \n",
    "\n",
    "1. fraudulent transactions are equally likely to happen at any arbitrary merchant,\n",
    "2. fraudulent transactions are typically for small dollar amounts,\n",
    "3. fraudulent transactions are rare overall, but when they occur, several will occur close together,\n",
    "4. fraudulent transactions are far more likely to be certain entry types (manual or online) or foreign transactions, and\n",
    "5. fraudulent transactions occur without regard for the user's typical schedule.\n",
    "\n",
    "These will guide our design of a fraudulent transaction generator.  We'll simulate parallel and independent streams of legitimate and fraudulent transactions for each user."
   ]
  },
  {
   "cell_type": "code",
   "execution_count": 22,
   "metadata": {},
   "outputs": [],
   "source": [
    "@makeprng\n",
    "def fraud_entry_types(prng=None, seed=None):\n",
    "    size = 256\n",
    "    \n",
    "    entry_types = [\"contactless\", \"chip_and_pin\", \"swipe\", \"manual\", \"online\"]\n",
    "    entry_probs = [0.05,0.05,0.05,0.35,0.5]\n",
    "\n",
    "    while True:\n",
    "        stream = [entry_types[i] for i in prng.choice(len(entry_types), p=entry_probs, size=size)]\n",
    "        yield from stream\n",
    "\n",
    "@makeprng\n",
    "def fraudulent_user_stream(user_id, transactions_per_day = 12, transactions_per_burst=10, amount_means=[5,10,20], amount_probs=[0.2, 0.2, 0.6], prng=None, seed=None):\n",
    "    amounts = transaction_amounts(amount_means, amount_probs, seed=prng.randint((1<<32) - 1))\n",
    "    entry_types = fraud_entry_types(seed=prng.randint((1<<32) - 1))\n",
    "    \n",
    "    SECONDS_PER_DAY = 86400\n",
    "    loc = SECONDS_PER_DAY // (transactions_per_day * transactions_per_burst)\n",
    "    p = 1 / 10\n",
    "\n",
    "    poisson = makedist(stats.poisson, prng=prng, mu=transactions_per_burst)\n",
    "    foldnorm = makedist(stats.foldnorm, prng=prng, c=1.8, loc=SECONDS_PER_DAY * 30, scale=1 << 20)\n",
    "    geom = makedist(stats.geom, prng=prng, p=p, loc=loc)\n",
    "    while True:\n",
    "        # consider also np.floor(stats.gamma.rvs(a=6.4, loc=SECONDS_PER_DAY * 90, scale=SECONDS_PER_DAY, size=1))\n",
    "        fraud_delay = np.floor(foldnorm.rvs())\n",
    "        fraud_delay = int(fraud_delay)\n",
    "        \n",
    "        fraud_count = poisson.rvs()\n",
    "        \n",
    "        ams = [next(amounts) for _ in range(fraud_count)]\n",
    "        ens = [next(entry_types) for _ in range(fraud_count)]\n",
    "        fs = prng.choice([True, False], p=[0.3, 0.7], size=fraud_count)\n",
    "        \n",
    "        m_ids = prng.choice(MERCHANT_COUNT, size=fraud_count)\n",
    "        offsets = geom.rvs(size=fraud_count)\n",
    "        offsets[0] += fraud_delay\n",
    "        \n",
    "        for offset, amount, merchant_id, entry, foreign in zip(offsets, ams, m_ids, ens, fs):\n",
    "            result = {\n",
    "                \"user_id\": user_id,\n",
    "                \"amount\": amount,\n",
    "                \"merchant_id\": merchant_id,\n",
    "                \"entry\": entry,\n",
    "                \"foreign\": foreign\n",
    "            }\n",
    "            yield (offset, (\"fraud\", *result.values()))"
   ]
  },
  {
   "cell_type": "markdown",
   "metadata": {},
   "source": [
    "Let's sanity-check the output of our fraudulent transaction generator."
   ]
  },
  {
   "cell_type": "code",
   "execution_count": 23,
   "metadata": {},
   "outputs": [
    {
     "name": "stdout",
     "output_type": "stream",
     "text": [
      "(3680412, ('fraud', 2, 11.71, 834, 'manual', False))\n",
      "(3681133, ('fraud', 2, 17.6, 3947, 'manual', True))\n",
      "(3681854, ('fraud', 2, 23.51, 9320, 'manual', True))\n",
      "(3682592, ('fraud', 2, 21.56, 2564, 'online', False))\n",
      "(3683367, ('fraud', 2, 20.53, 15624, 'online', True))\n",
      "(3684096, ('fraud', 2, 23.02, 6462, 'online', False))\n",
      "(3684820, ('fraud', 2, 26.82, 10598, 'manual', True))\n",
      "(3685541, ('fraud', 2, 7.26, 6416, 'manual', False))\n",
      "(3686283, ('fraud', 2, 30.81, 15148, 'online', False))\n",
      "(3687012, ('fraud', 2, 6.94, 5618, 'online', False))\n",
      "...\n",
      "(3687735, ('fraud', 2, 47.58, 2083, 'online', False))\n",
      "(5743337, ('fraud', 1, 18.76, 12739, 'manual', False))\n",
      "(5744062, ('fraud', 1, 11.03, 6484, 'online', False))\n",
      "(5744788, ('fraud', 1, 5.3, 16423, 'online', False))\n",
      "(5745518, ('fraud', 1, 20.92, 17730, 'manual', False))\n",
      "(5746247, ('fraud', 1, 11.54, 6648, 'contactless', False))\n",
      "(5746972, ('fraud', 1, 31.15, 17543, 'online', False))\n",
      "(5747696, ('fraud', 1, 14.26, 4195, 'manual', True))\n",
      "(5748424, ('fraud', 1, 20.67, 2428, 'swipe', False))\n"
     ]
    }
   ],
   "source": [
    "sim = simulate([fraudulent_user_stream(1, seed=123), \n",
    "                fraudulent_user_stream(2, seed=456), \n",
    "                fraudulent_user_stream(3, seed=789)])\n",
    "\n",
    "for i in range(200):\n",
    "    if i < 10 or i > 190:\n",
    "        print(next(sim))\n",
    "    elif i == 10:\n",
    "        print(\"...\")"
   ]
  },
  {
   "cell_type": "code",
   "execution_count": 24,
   "metadata": {},
   "outputs": [
    {
     "name": "stdout",
     "output_type": "stream",
     "text": [
      "2.89% of transactions were fraudulent\n"
     ]
    }
   ],
   "source": [
    "sim = simulate([legitimate_user_stream(1, seed=123), \n",
    "                legitimate_user_stream(2, seed=456), \n",
    "                legitimate_user_stream(3, seed=789),\n",
    "                fraudulent_user_stream(1, seed=321), \n",
    "                fraudulent_user_stream(2, seed=654), \n",
    "                fraudulent_user_stream(3, seed=987)])\n",
    "count = 0\n",
    "STEPS = 50000\n",
    "\n",
    "for i in range(STEPS):\n",
    "    result = next(sim)\n",
    "    if result[1][0] == 'fraud':\n",
    "        count += 1\n",
    "\n",
    "print(\"%.02f%% of transactions were fraudulent\" % (count / STEPS * 100))"
   ]
  },
  {
   "cell_type": "code",
   "execution_count": null,
   "metadata": {},
   "outputs": [],
   "source": []
  }
 ],
 "metadata": {
  "kernelspec": {
   "display_name": "Python 3",
   "language": "python",
   "name": "python3"
  },
  "language_info": {
   "codemirror_mode": {
    "name": "ipython",
    "version": 3
   },
   "file_extension": ".py",
   "mimetype": "text/x-python",
   "name": "python",
   "nbconvert_exporter": "python",
   "pygments_lexer": "ipython3",
   "version": "3.7.5"
  }
 },
 "nbformat": 4,
 "nbformat_minor": 2
}
