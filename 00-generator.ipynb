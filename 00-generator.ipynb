{
 "cells": [
  {
   "cell_type": "markdown",
   "metadata": {},
   "source": [
    "# Generating synthetic payments data\n",
    "\n",
    "In this notebook, we'll build up a very simple simulator to generate payments data corresponding to legitimate and fraudulent transactions.  (There are many ways you could improve this generator and we'll call some of them out.)  We'll start by building up some functionality to run simulations in general.\n",
    "\n",
    "## An (extremely) basic discrete-event simulation framework\n",
    "\n",
    "The next function is all you need to run simple discrete-event simulations.  Here's how to use it:\n",
    "\n",
    "- you'll define several streams of events, each of which is modeled by a Python generator,\n",
    "- each event stream generator will `yield` a tuple consisting of *an offset* (the amount of time that has passed since the last event of that type) and *a result* (an arbitrary Python value associated with the event),\n",
    "- the generator produced by the `simulate` function will yield the next event from all event streams indefinitely."
   ]
  },
  {
   "cell_type": "code",
   "execution_count": 1,
   "metadata": {},
   "outputs": [],
   "source": [
    "import heapq\n",
    "\n",
    "def simulate(event_generators, initial_time=0):\n",
    "    pq = []\n",
    "    for event in event_generators:\n",
    "        offset, result = next(event)\n",
    "        heapq.heappush(pq, (offset + initial_time, result, event))\n",
    "    \n",
    "    while True:\n",
    "        timestamp, result, event = heapq.heappop(pq)\n",
    "        offset, next_result = event.send(timestamp)\n",
    "        heapq.heappush(pq, (timestamp + offset, next_result, event))\n",
    "        yield (timestamp, result)"
   ]
  },
  {
   "cell_type": "markdown",
   "metadata": {},
   "source": [
    "It may be easier to see how this works with an example.  In the next three cells, we \n",
    "\n",
    "1. define a generator for event streams, which samples interarrival times from a Poisson distribution and returns a predefined string as the result at each event,\n",
    "2. set up a simulation with four streams, each of which has a different distribution of interarrival times and value, and\n",
    "3. take the first twenty events from the simulation"
   ]
  },
  {
   "cell_type": "code",
   "execution_count": 2,
   "metadata": {},
   "outputs": [],
   "source": [
    "from scipy import stats\n",
    "\n",
    "def bedrockstream(mu, name):\n",
    "    while True:\n",
    "        offset, = stats.poisson.rvs(mu, size=1)\n",
    "        x = yield (offset, name)"
   ]
  },
  {
   "cell_type": "code",
   "execution_count": 3,
   "metadata": {},
   "outputs": [],
   "source": [
    "sim = simulate([bedrockstream(10, \"fred\"), \n",
    "                bedrockstream(12, \"betty\"), \n",
    "                bedrockstream(20, \"wilma\"), \n",
    "                bedrockstream(35, \"barney\")])"
   ]
  },
  {
   "cell_type": "code",
   "execution_count": 4,
   "metadata": {
    "scrolled": true
   },
   "outputs": [
    {
     "name": "stdout",
     "output_type": "stream",
     "text": [
      "(13, 'fred')\n",
      "(14, 'betty')\n",
      "(16, 'wilma')\n",
      "(21, 'betty')\n",
      "(24, 'fred')\n",
      "(26, 'barney')\n",
      "(36, 'betty')\n",
      "(36, 'fred')\n",
      "(39, 'wilma')\n",
      "(44, 'betty')\n",
      "(51, 'fred')\n",
      "(56, 'betty')\n",
      "(63, 'wilma')\n",
      "(64, 'fred')\n",
      "(65, 'barney')\n",
      "(73, 'betty')\n",
      "(79, 'fred')\n",
      "(79, 'wilma')\n",
      "(87, 'betty')\n",
      "(93, 'barney')\n"
     ]
    }
   ],
   "source": [
    "for i in range(20):\n",
    "    print(next(sim))"
   ]
  },
  {
   "cell_type": "markdown",
   "metadata": {},
   "source": [
    "## Modeling transactions\n",
    "\n",
    "The first problem we have to do is to decide what data we'll generate for each transaction.  Some interesting possibilities include:\n",
    "\n",
    "- user ID\n",
    "- merchant ID\n",
    "- merchant type\n",
    "- transaction amount (assuming a single currency)\n",
    "- card entry mode (e.g., contactless, chip and pin, swipe, card manually keyed, or online transaction)\n",
    "- foreign transaction (whether or not the user's home country matches the country in which the transaction is taking place)\n",
    "\n",
    "We'll also generate a label for each transaction (`legitimate` or `fraud`).  We'll start with a very basic user event stream generator:  all of the transactions we generate will be legitimate, and we won't do anything particularly interesting with most of the fields."
   ]
  },
  {
   "cell_type": "code",
   "execution_count": 5,
   "metadata": {},
   "outputs": [],
   "source": [
    "import numpy as np\n",
    "MERCHANT_COUNT = 20000\n",
    "\n",
    "# a small percentage of merchants account for most transactions\n",
    "COMMON_MERCHANT_COUNT = MERCHANT_COUNT // 21\n",
    "\n",
    "common_merchants = np.random.choice(MERCHANT_COUNT, \n",
    "                                    size=COMMON_MERCHANT_COUNT, \n",
    "                                    replace=True)\n",
    "\n",
    "def basic_user_stream(user_id, mu):\n",
    "    favorite_merchants = np.random.choice(common_merchants,\n",
    "                                         size=len(common_merchants) // 5)\n",
    "    while True:\n",
    "        amount = 100.00\n",
    "        entry = \"chip_and_pin\"\n",
    "        foreign = False\n",
    "        \n",
    "        merchant_id, = np.random.choice(favorite_merchants, size=1)\n",
    "        offset, = stats.poisson.rvs(mu, size=1)\n",
    "        result = {\n",
    "            \"user_id\": user_id,\n",
    "            \"amount\": amount,\n",
    "            \"merchant_id\": merchant_id,\n",
    "            \"entry\": entry,\n",
    "            \"foreign\": foreign\n",
    "        }\n",
    "        yield (offset, (\"legitimate\", *result.values()))"
   ]
  },
  {
   "cell_type": "code",
   "execution_count": 6,
   "metadata": {},
   "outputs": [],
   "source": [
    "sim = simulate([basic_user_stream(1, 700), basic_user_stream(2, 105), basic_user_stream(3, 40)])"
   ]
  },
  {
   "cell_type": "code",
   "execution_count": 7,
   "metadata": {},
   "outputs": [
    {
     "name": "stdout",
     "output_type": "stream",
     "text": [
      "(43, ('legitimate', 3, 100.0, 4725, 'chip_and_pin', False))\n",
      "(75, ('legitimate', 3, 100.0, 7556, 'chip_and_pin', False))\n",
      "(87, ('legitimate', 2, 100.0, 14126, 'chip_and_pin', False))\n",
      "(106, ('legitimate', 3, 100.0, 16455, 'chip_and_pin', False))\n",
      "(138, ('legitimate', 3, 100.0, 18371, 'chip_and_pin', False))\n",
      "(178, ('legitimate', 3, 100.0, 6854, 'chip_and_pin', False))\n",
      "(180, ('legitimate', 2, 100.0, 7121, 'chip_and_pin', False))\n",
      "(220, ('legitimate', 3, 100.0, 4866, 'chip_and_pin', False))\n",
      "(248, ('legitimate', 3, 100.0, 1624, 'chip_and_pin', False))\n",
      "(287, ('legitimate', 3, 100.0, 17899, 'chip_and_pin', False))\n",
      "(288, ('legitimate', 2, 100.0, 17266, 'chip_and_pin', False))\n",
      "(320, ('legitimate', 3, 100.0, 4866, 'chip_and_pin', False))\n",
      "(367, ('legitimate', 3, 100.0, 11751, 'chip_and_pin', False))\n",
      "(392, ('legitimate', 2, 100.0, 3161, 'chip_and_pin', False))\n",
      "(408, ('legitimate', 3, 100.0, 6032, 'chip_and_pin', False))\n",
      "(434, ('legitimate', 3, 100.0, 15398, 'chip_and_pin', False))\n",
      "(472, ('legitimate', 3, 100.0, 15743, 'chip_and_pin', False))\n",
      "(496, ('legitimate', 2, 100.0, 5346, 'chip_and_pin', False))\n",
      "(517, ('legitimate', 3, 100.0, 3493, 'chip_and_pin', False))\n",
      "(551, ('legitimate', 3, 100.0, 13339, 'chip_and_pin', False))\n"
     ]
    }
   ],
   "source": [
    "for i in range(20):\n",
    "    print(next(sim))"
   ]
  },
  {
   "cell_type": "markdown",
   "metadata": {},
   "source": [
    "## Exercise:  some quick improvements\n",
    "\n",
    "1.  Users don't always just buy things from a few favorite merchants.  Change `basic_user_stream` so that they occasionally buy from any merchant.\n",
    "2.  Most people buy many inexpensive things and relatively few expensive things.  Use this insight to generate (more) realistic transaction amounts.\n",
    "3.  Some small percentage of online sales will be foreign transactions.  When a user is traveling abroad, nearly all of his or her transactions will be foreign transactions.  Add some state to `basic_user_stream` to model occasional international travel."
   ]
  },
  {
   "cell_type": "markdown",
   "metadata": {},
   "source": [
    "## Building a better transaction stream\n",
    "\n",
    "We'll start by building a generator to build a mixture model we can use to make several kinds of transactions:  small, medium, and large."
   ]
  },
  {
   "cell_type": "code",
   "execution_count": 8,
   "metadata": {},
   "outputs": [],
   "source": [
    "def transaction_amounts(means, percentages, distribution=None):\n",
    "    size = 256\n",
    "    \n",
    "    if distribution is None:\n",
    "        distribution = lambda m, sz: stats.gamma.rvs(a=1.1, scale=min(m, 750), loc=m, size=sz)\n",
    "    \n",
    "    while True:\n",
    "        streams = [distribution(m * 100, size) for m in means]\n",
    "        stream = np.floor(np.choose(np.random.choice(len(means), p=percentages, size=size), streams)) / 100\n",
    "        \n",
    "        yield from stream"
   ]
  },
  {
   "cell_type": "code",
   "execution_count": 9,
   "metadata": {},
   "outputs": [
    {
     "data": {
      "text/plain": [
       "array([1., 2., 3.])"
      ]
     },
     "execution_count": 9,
     "metadata": {},
     "output_type": "execute_result"
    }
   ],
   "source": [
    "a = np.array([1.1,2.1,3.5])\n",
    "np.floor(a)"
   ]
  },
  {
   "cell_type": "markdown",
   "metadata": {},
   "source": [
    "Let's plot a histogram of some simulated transaction amounts sampled from three distributions with means corresponding to three kinds of purchases:  a latte, take-out for lunch, and a pair of Levi's."
   ]
  },
  {
   "cell_type": "code",
   "execution_count": 10,
   "metadata": {},
   "outputs": [
    {
     "data": {
      "application/javascript": [
       "const spec = {\"config\": {\"view\": {\"width\": 400, \"height\": 300}, \"mark\": {\"tooltip\": null}}, \"data\": {\"url\": \"altair-data-8d12bf44df389c011236b5a8fadf65e9.json\", \"format\": {\"type\": \"json\"}}, \"mark\": \"bar\", \"encoding\": {\"x\": {\"type\": \"quantitative\", \"bin\": {\"maxbins\": 100}, \"field\": \"amounts\"}, \"y\": {\"type\": \"quantitative\", \"aggregate\": \"count\"}}, \"$schema\": \"https://vega.github.io/schema/vega-lite/v3.4.0.json\"};\n",
       "const opt = {};\n",
       "const type = \"vega-lite\";\n",
       "const id = \"d72b45dc-fd07-4732-a0dd-24c16fd705f5\";\n",
       "\n",
       "const output_area = this;\n",
       "\n",
       "require([\"nbextensions/jupyter-vega/index\"], function(vega) {\n",
       "  const target = document.createElement(\"div\");\n",
       "  target.id = id;\n",
       "  target.className = \"vega-embed\";\n",
       "\n",
       "  const style = document.createElement(\"style\");\n",
       "  style.textContent = [\n",
       "    \".vega-embed .error p {\",\n",
       "    \"  color: firebrick;\",\n",
       "    \"  font-size: 14px;\",\n",
       "    \"}\",\n",
       "  ].join(\"\\\\n\");\n",
       "\n",
       "  // element is a jQuery wrapped DOM element inside the output area\n",
       "  // see http://ipython.readthedocs.io/en/stable/api/generated/\\\n",
       "  // IPython.display.html#IPython.display.Javascript.__init__\n",
       "  element[0].appendChild(target);\n",
       "  element[0].appendChild(style);\n",
       "\n",
       "  vega.render(\"#\" + id, spec, type, opt, output_area);\n",
       "}, function (err) {\n",
       "  if (err.requireType !== \"scripterror\") {\n",
       "    throw(err);\n",
       "  }\n",
       "});\n"
      ],
      "text/plain": [
       "<vega.vegalite.VegaLite at 0x7fba2876de80>"
      ]
     },
     "metadata": {
      "jupyter-vega": "#d72b45dc-fd07-4732-a0dd-24c16fd705f5"
     },
     "output_type": "display_data"
    },
    {
     "data": {
      "text/plain": []
     },
     "execution_count": 10,
     "metadata": {},
     "output_type": "execute_result"
    },
    {
     "data": {
      "image/png": "[encoded data removed]"
     },
     "metadata": {
      "jupyter-vega": "#d72b45dc-fd07-4732-a0dd-24c16fd705f5"
     },
     "output_type": "display_data"
    }
   ],
   "source": [
    "import pandas as pd\n",
    "\n",
    "import altair as alt\n",
    "alt.renderers.enable('notebook')\n",
    "alt.data_transformers.enable('json')\n",
    "\n",
    "amt = transaction_amounts([5, 15, 50], [0.5, 0.35, 0.15])\n",
    "amounts = [next(amt) for i in range(80000)]\n",
    "\n",
    "source = pd.DataFrame({\"amounts\": amounts})\n",
    "\n",
    "alt.Chart(source).mark_bar().encode(\n",
    "    alt.X(\"amounts\", bin=alt.Bin(maxbins=100)),\n",
    "    y='count()'\n",
    ")"
   ]
  },
  {
   "cell_type": "markdown",
   "metadata": {},
   "source": [
    "We can also plot a broader distribution of transactions:"
   ]
  },
  {
   "cell_type": "code",
   "execution_count": 11,
   "metadata": {},
   "outputs": [
    {
     "data": {
      "application/javascript": [
       "const spec = {\"config\": {\"view\": {\"width\": 400, \"height\": 300}, \"mark\": {\"tooltip\": null}}, \"data\": {\"url\": \"altair-data-48e702f27198e2623acac3ecbf21d3bf.json\", \"format\": {\"type\": \"json\"}}, \"mark\": \"bar\", \"encoding\": {\"x\": {\"type\": \"quantitative\", \"bin\": {\"maxbins\": 100}, \"field\": \"amounts\"}, \"y\": {\"type\": \"quantitative\", \"aggregate\": \"count\"}}, \"$schema\": \"https://vega.github.io/schema/vega-lite/v3.4.0.json\"};\n",
       "const opt = {};\n",
       "const type = \"vega-lite\";\n",
       "const id = \"6c1753c0-4cb7-483b-a601-286c3ea3fc4a\";\n",
       "\n",
       "const output_area = this;\n",
       "\n",
       "require([\"nbextensions/jupyter-vega/index\"], function(vega) {\n",
       "  const target = document.createElement(\"div\");\n",
       "  target.id = id;\n",
       "  target.className = \"vega-embed\";\n",
       "\n",
       "  const style = document.createElement(\"style\");\n",
       "  style.textContent = [\n",
       "    \".vega-embed .error p {\",\n",
       "    \"  color: firebrick;\",\n",
       "    \"  font-size: 14px;\",\n",
       "    \"}\",\n",
       "  ].join(\"\\\\n\");\n",
       "\n",
       "  // element is a jQuery wrapped DOM element inside the output area\n",
       "  // see http://ipython.readthedocs.io/en/stable/api/generated/\\\n",
       "  // IPython.display.html#IPython.display.Javascript.__init__\n",
       "  element[0].appendChild(target);\n",
       "  element[0].appendChild(style);\n",
       "\n",
       "  vega.render(\"#\" + id, spec, type, opt, output_area);\n",
       "}, function (err) {\n",
       "  if (err.requireType !== \"scripterror\") {\n",
       "    throw(err);\n",
       "  }\n",
       "});\n"
      ],
      "text/plain": [
       "<vega.vegalite.VegaLite at 0x7fb9e811e2e8>"
      ]
     },
     "metadata": {
      "jupyter-vega": "#6c1753c0-4cb7-483b-a601-286c3ea3fc4a"
     },
     "output_type": "display_data"
    },
    {
     "data": {
      "text/plain": []
     },
     "execution_count": 11,
     "metadata": {},
     "output_type": "execute_result"
    },
    {
     "data": {
      "image/png": "[encoded data removed]"
     },
     "metadata": {
      "jupyter-vega": "#6c1753c0-4cb7-483b-a601-286c3ea3fc4a"
     },
     "output_type": "display_data"
    }
   ],
   "source": [
    "amt = transaction_amounts([5, 10, 15, 20, 50, 100], \n",
    "                          [0.35, 0.25, 0.15, 0.1, 0.1, 0.05])\n",
    "amounts = [next(amt) for i in range(40000)]\n",
    "\n",
    "source = pd.DataFrame({\"amounts\": amounts})\n",
    "\n",
    "alt.Chart(source).mark_bar().encode(\n",
    "    alt.X(\"amounts\", bin=alt.Bin(maxbins=100)),\n",
    "    y='count()',\n",
    ")"
   ]
  },
  {
   "cell_type": "markdown",
   "metadata": {},
   "source": [
    "Next up, we'll make a generator to create the entry types:"
   ]
  },
  {
   "cell_type": "code",
   "execution_count": 12,
   "metadata": {},
   "outputs": [],
   "source": [
    "def legitimate_entry_types():\n",
    "    size = 256\n",
    "    \n",
    "    entry_types = [\"contactless\", \"chip_and_pin\", \"swipe\", \"manual\", \"online\"]\n",
    "    entry_probs = [0.25,0.2,0.15,0.05,0.35]\n",
    "\n",
    "    while True:\n",
    "        stream = [entry_types[i] for i in np.random.choice(len(entry_types), p=entry_probs, size=size)]\n",
    "        yield from stream"
   ]
  },
  {
   "cell_type": "markdown",
   "metadata": {},
   "source": [
    "...and one for selecting merchants (primarily a user's favorite merchants):"
   ]
  },
  {
   "cell_type": "code",
   "execution_count": 13,
   "metadata": {},
   "outputs": [],
   "source": [
    "def merchant_stream(common_merchants, all_merchants, fav_percentage=0.2, probs=[0.6,0.37,0.03]):\n",
    "    favorite_merchants = np.random.choice(common_merchants,\n",
    "                                          size=int(len(common_merchants) * fav_percentage))\n",
    "    merchants = [favorite_merchants, common_merchants, all_merchants]\n",
    "    while True:\n",
    "        pool = merchants[np.random.choice(len(merchants), p=probs)]\n",
    "        yield int(np.random.choice(pool))"
   ]
  },
  {
   "cell_type": "markdown",
   "metadata": {},
   "source": [
    "We can combine all of these to generate a stream of legitimate activity for a single user:"
   ]
  },
  {
   "cell_type": "code",
   "execution_count": 14,
   "metadata": {},
   "outputs": [],
   "source": [
    "def legitimate_user_stream(user_id, transactions_per_day=12, start_timestamp=0, amount_means=[20,100,500], amount_probs=[0.9,0.075,0.025]):\n",
    "    amounts = transaction_amounts(amount_means, amount_probs)\n",
    "    entry_types = legitimate_entry_types()\n",
    "    merchants = merchant_stream(common_merchants, np.arange(MERCHANT_COUNT))\n",
    "    \n",
    "    SECONDS_PER_DAY = 86400\n",
    "    SECONDS_PER_HOUR = 60 * 60\n",
    "    loc = SECONDS_PER_DAY // transactions_per_day\n",
    "    p = 1 / (loc / 10)\n",
    "    \n",
    "    # choose an arbitrary timezone offset (in seconds)\n",
    "    tz_offset = (user_id % 24) * SECONDS_PER_HOUR\n",
    "    WAKEUP_TIME = 7 * SECONDS_PER_HOUR\n",
    "    SLEEP_TIME = 21 * SECONDS_PER_HOUR\n",
    "    \n",
    "    ts = start_timestamp\n",
    "    snooze = False\n",
    "    \n",
    "    while True:\n",
    "        amount = next(amounts)\n",
    "        entry = next(entry_types)\n",
    "        foreign = entry == \"online\" and np.random.choice([True, False], p=[0.4, 0.6])\n",
    "        \n",
    "        merchant_id = next(merchants)\n",
    "        \n",
    "        offset, = stats.geom.rvs(p=p, loc=loc, size=1)\n",
    "        \n",
    "        localtime = (ts + tz_offset) % SECONDS_PER_DAY\n",
    "        if localtime < WAKEUP_TIME or localtime > SLEEP_TIME:\n",
    "            snooze = True\n",
    "        \n",
    "        while snooze:\n",
    "            localtime = (ts + tz_offset + offset) % SECONDS_PER_DAY\n",
    "            if localtime > WAKEUP_TIME and localtime < SLEEP_TIME:\n",
    "                snooze = False\n",
    "            offset += stats.geom.rvs(p=p, loc=loc)\n",
    "            \n",
    "        result = {\n",
    "            \"user_id\": user_id,\n",
    "            \"amount\": amount,\n",
    "            \"merchant_id\": merchant_id,\n",
    "            \"entry\": entry,\n",
    "            \"foreign\": foreign\n",
    "        }\n",
    "        ts = yield (offset, (\"legitimate\", *result.values()))\n",
    "        "
   ]
  },
  {
   "cell_type": "code",
   "execution_count": 15,
   "metadata": {
    "scrolled": false
   },
   "outputs": [
    {
     "name": "stdout",
     "output_type": "stream",
     "text": [
      "(7343, ('legitimate', 9, 23.11, 178, 'contactless', False))\n",
      "(9243, ('legitimate', 14, 510.55, 14613, 'contactless', False))\n",
      "(14802, ('legitimate', 9, 29.03, 11038, 'contactless', False))\n",
      "(14843, ('legitimate', 6, 29.88, 9690, 'contactless', False))\n",
      "(18338, ('legitimate', 14, 101.87, 5346, 'swipe', False))\n",
      "(22027, ('legitimate', 9, 27.89, 8182, 'contactless', False))\n",
      "(22158, ('legitimate', 6, 22.66, 9527, 'contactless', False))\n",
      "(25586, ('legitimate', 14, 23.8, 11167, 'manual', False))\n",
      "(29275, ('legitimate', 9, 24.83, 5628, 'manual', False))\n",
      "(29541, ('legitimate', 6, 20.57, 2510, 'chip_and_pin', False))\n",
      "(29738, ('legitimate', 1, 26.59, 9692, 'chip_and_pin', False))\n",
      "(36757, ('legitimate', 9, 26.63, 12861, 'chip_and_pin', False))\n",
      "(36792, ('legitimate', 6, 20.48, 4854, 'online', False))\n",
      "(37389, ('legitimate', 1, 43.79, 19540, 'contactless', False))\n",
      "(44449, ('legitimate', 6, 26.82, 19589, 'online', False))\n",
      "(44664, ('legitimate', 9, 34.23, 3916, 'contactless', False))\n",
      "(45784, ('legitimate', 1, 26.24, 17899, 'online', False))\n",
      "(52190, ('legitimate', 6, 25.78, 18542, 'chip_and_pin', False))\n",
      "(53548, ('legitimate', 1, 25.16, 3215, 'online', False))\n",
      "(60434, ('legitimate', 6, 20.33, 17822, 'online', True))\n",
      "(61289, ('legitimate', 1, 28.81, 14413, 'chip_and_pin', False))\n",
      "(68673, ('legitimate', 1, 29.83, 16481, 'chip_and_pin', False))\n",
      "(72307, ('legitimate', 14, 22.42, 5662, 'online', True))\n",
      "(76135, ('legitimate', 1, 29.6, 2601, 'swipe', False))\n",
      "(79589, ('legitimate', 14, 22.22, 7576, 'contactless', False))\n",
      "(87625, ('legitimate', 14, 38.15, 11167, 'online', False))\n",
      "(94255, ('legitimate', 9, 28.2, 17234, 'contactless', False))\n",
      "(94927, ('legitimate', 14, 25.89, 19487, 'contactless', False))\n",
      "(101548, ('legitimate', 6, 31.86, 6822, 'online', False))\n",
      "(101578, ('legitimate', 9, 20.59, 2023, 'online', True))\n",
      "(104663, ('legitimate', 14, 31.27, 239, 'chip_and_pin', False))\n",
      "(109441, ('legitimate', 9, 23.36, 11347, 'swipe', False))\n",
      "(111183, ('legitimate', 6, 44.53, 19589, 'online', False))\n",
      "(112028, ('legitimate', 14, 24.68, 19422, 'online', False))\n",
      "(116780, ('legitimate', 9, 20.21, 16443, 'chip_and_pin', False))\n",
      "(118310, ('legitimate', 1, 21.67, 3647, 'contactless', False))\n",
      "(118923, ('legitimate', 6, 22.13, 1992, 'online', True))\n",
      "(124580, ('legitimate', 9, 25.34, 3916, 'chip_and_pin', False))\n",
      "(126402, ('legitimate', 1, 20.58, 9483, 'contactless', False))\n",
      "(127453, ('legitimate', 6, 27.86, 18710, 'online', False))\n",
      "(132343, ('legitimate', 9, 21.31, 15316, 'swipe', False))\n",
      "(133724, ('legitimate', 1, 24.78, 7958, 'online', False))\n",
      "(134979, ('legitimate', 6, 26.35, 5906, 'online', False))\n",
      "(141211, ('legitimate', 1, 21.94, 19094, 'swipe', False))\n",
      "(142186, ('legitimate', 6, 43.15, 17081, 'contactless', False))\n",
      "(149661, ('legitimate', 1, 21.48, 17159, 'chip_and_pin', False))\n",
      "(157949, ('legitimate', 1, 25.99, 2601, 'online', False))\n",
      "(159522, ('legitimate', 14, 43.11, 10736, 'chip_and_pin', False))\n",
      "(165902, ('legitimate', 1, 21.91, 11934, 'contactless', False))\n",
      "(168209, ('legitimate', 14, 34.45, 5364, 'chip_and_pin', False))\n",
      "(175684, ('legitimate', 14, 23.32, 5590, 'contactless', False))\n",
      "(178635, ('legitimate', 9, 21.97, 13679, 'online', True))\n",
      "(183118, ('legitimate', 14, 27.07, 14164, 'swipe', False))\n",
      "(186116, ('legitimate', 9, 35.79, 12237, 'contactless', False))\n",
      "(187271, ('legitimate', 6, 33.34, 6159, 'contactless', False))\n",
      "(190678, ('legitimate', 14, 24.85, 11751, 'online', False))\n",
      "(194153, ('legitimate', 9, 28.08, 17234, 'online', False))\n",
      "(194685, ('legitimate', 6, 33.63, 11824, 'online', False))\n",
      "(197883, ('legitimate', 14, 22.88, 17753, 'online', False))\n",
      "(202149, ('legitimate', 9, 25.83, 10713, 'manual', False))\n",
      "(202408, ('legitimate', 6, 24.39, 11227, 'manual', False))\n",
      "(205580, ('legitimate', 14, 31.28, 6515, 'swipe', False))\n",
      "(207267, ('legitimate', 1, 32.08, 9483, 'online', False))\n",
      "(209668, ('legitimate', 9, 21.87, 14, 'swipe', False))\n",
      "(210496, ('legitimate', 6, 23.2, 18133, 'chip_and_pin', False))\n",
      "(215119, ('legitimate', 1, 24.13, 3297, 'online', False))\n",
      "(216886, ('legitimate', 9, 500.85, 6949, 'online', True))\n",
      "(218593, ('legitimate', 6, 31.09, 916, 'online', False))\n",
      "(223119, ('legitimate', 1, 33.49, 17265, 'chip_and_pin', False))\n",
      "(225803, ('legitimate', 6, 20.73, 4866, 'online', True))\n",
      "(230759, ('legitimate', 1, 45.77, 7585, 'online', True))\n",
      "(233730, ('legitimate', 6, 22.9, 19446, 'contactless', False))\n",
      "(239428, ('legitimate', 1, 27.85, 18594, 'online', True))\n",
      "(244534, ('legitimate', 14, 24.44, 13409, 'swipe', False))\n",
      "(247433, ('legitimate', 1, 27.21, 5805, 'swipe', False))\n",
      "(252048, ('legitimate', 14, 22.41, 12183, 'online', False))\n",
      "(259782, ('legitimate', 14, 120.34, 2356, 'online', False))\n",
      "(265230, ('legitimate', 9, 31.32, 14202, 'online', False))\n",
      "(267202, ('legitimate', 14, 23.36, 13339, 'online', False))\n",
      "(272772, ('legitimate', 6, 28.51, 9107, 'contactless', False))\n",
      "(274697, ('legitimate', 9, 121.66, 19144, 'contactless', False))\n",
      "(275852, ('legitimate', 14, 24.15, 15046, 'contactless', False))\n",
      "(280077, ('legitimate', 6, 20.45, 13183, 'online', True))\n",
      "(283142, ('legitimate', 9, 22.09, 17839, 'contactless', False))\n",
      "(284537, ('legitimate', 14, 21.43, 4054, 'online', True))\n",
      "(287304, ('legitimate', 6, 20.4, 16747, 'swipe', False))\n",
      "(291209, ('legitimate', 9, 35.02, 15756, 'online', True))\n",
      "(294193, ('legitimate', 1, 24.73, 8429, 'online', True))\n",
      "(295495, ('legitimate', 6, 502.11, 9951, 'online', True))\n",
      "(298799, ('legitimate', 9, 518.38, 13994, 'online', True))\n",
      "(301599, ('legitimate', 1, 43.16, 17868, 'contactless', False))\n",
      "(303486, ('legitimate', 6, 522.64, 17782, 'chip_and_pin', False))\n",
      "(306240, ('legitimate', 9, 21.37, 5700, 'contactless', False))\n",
      "(309249, ('legitimate', 1, 27.43, 1980, 'online', False))\n",
      "(311736, ('legitimate', 6, 27.14, 870, 'contactless', False))\n",
      "(317520, ('legitimate', 1, 22.67, 19952, 'chip_and_pin', False))\n",
      "(319142, ('legitimate', 6, 24.15, 2182, 'contactless', False))\n",
      "(324794, ('legitimate', 1, 21.23, 12762, 'contactless', False))\n",
      "(331406, ('legitimate', 14, 29.3, 594, 'chip_and_pin', False))\n",
      "(332110, ('legitimate', 1, 23.27, 10514, 'chip_and_pin', False))\n",
      "(338949, ('legitimate', 14, 20.64, 2477, 'online', False))\n",
      "(346565, ('legitimate', 14, 35.52, 597, 'swipe', False))\n",
      "(346809, ('legitimate', 9, 102.43, 1134, 'manual', False))\n",
      "(353844, ('legitimate', 14, 29.14, 17753, 'swipe', False))\n",
      "(354117, ('legitimate', 9, 28.18, 5700, 'contactless', False))\n",
      "(357728, ('legitimate', 6, 25.64, 6753, 'online', True))\n",
      "(361446, ('legitimate', 9, 33.11, 16779, 'online', True))\n",
      "(361450, ('legitimate', 14, 31.23, 205, 'manual', False))\n",
      "(364984, ('legitimate', 6, 505.21, 11138, 'online', False))\n",
      "(369686, ('legitimate', 14, 44.55, 13504, 'online', True))\n",
      "(369731, ('legitimate', 9, 23.79, 11494, 'online', False))\n",
      "(372449, ('legitimate', 6, 26.5, 17430, 'contactless', False))\n",
      "(377333, ('legitimate', 9, 29.36, 3916, 'online', False))\n",
      "(377429, ('legitimate', 14, 29.34, 16425, 'swipe', False))\n",
      "(380640, ('legitimate', 6, 35.13, 12309, 'chip_and_pin', False))\n",
      "(381829, ('legitimate', 1, 27.11, 13339, 'contactless', False))\n",
      "(384806, ('legitimate', 9, 58.8, 8075, 'online', False))\n",
      "(388820, ('legitimate', 6, 21.26, 6201, 'contactless', False))\n",
      "(389200, ('legitimate', 1, 26.09, 18083, 'chip_and_pin', False))\n",
      "(392392, ('legitimate', 9, 20.58, 13049, 'contactless', False))\n",
      "(396210, ('legitimate', 6, 22.51, 15456, 'online', False))\n",
      "(397825, ('legitimate', 1, 34.36, 1022, 'chip_and_pin', False))\n",
      "(405068, ('legitimate', 1, 33.99, 6137, 'online', False))\n",
      "(405628, ('legitimate', 6, 34.91, 15909, 'chip_and_pin', False))\n",
      "(413051, ('legitimate', 1, 31.02, 12610, 'swipe', False))\n",
      "(416601, ('legitimate', 14, 24.25, 16690, 'online', False))\n",
      "(421234, ('legitimate', 1, 32.32, 12416, 'contactless', False))\n",
      "(423866, ('legitimate', 14, 29.67, 2269, 'online', True))\n",
      "(431219, ('legitimate', 14, 20.16, 19699, 'contactless', False))\n",
      "(438592, ('legitimate', 14, 21.16, 3291, 'online', False))\n",
      "(440935, ('legitimate', 9, 34.82, 11782, 'online', True))\n",
      "(444298, ('legitimate', 6, 26.11, 13194, 'manual', False))\n",
      "(445883, ('legitimate', 14, 22.73, 5589, 'online', True))\n",
      "(448802, ('legitimate', 9, 75.69, 5700, 'chip_and_pin', False))\n",
      "(452200, ('legitimate', 6, 24.85, 3591, 'online', True))\n",
      "(453180, ('legitimate', 14, 25.52, 2001, 'swipe', False))\n",
      "(456299, ('legitimate', 9, 36.46, 1026, 'contactless', False))\n",
      "(459688, ('legitimate', 6, 22.59, 2470, 'contactless', False))\n",
      "(461661, ('legitimate', 14, 26.23, 15580, 'online', True))\n",
      "(463617, ('legitimate', 9, 25.63, 6379, 'online', False))\n",
      "(467210, ('legitimate', 6, 20.96, 19196, 'swipe', False))\n",
      "(468838, ('legitimate', 1, 24.93, 4725, 'online', True))\n",
      "(470876, ('legitimate', 9, 42.11, 13712, 'online', True))\n",
      "(474951, ('legitimate', 6, 35.19, 19589, 'chip_and_pin', False))\n",
      "(476483, ('legitimate', 1, 32.78, 19446, 'online', False))\n",
      "(480450, ('legitimate', 9, 29.23, 10460, 'swipe', False))\n",
      "(484950, ('legitimate', 1, 23.98, 9141, 'chip_and_pin', False))\n",
      "(485217, ('legitimate', 6, 22.96, 17054, 'chip_and_pin', False))\n",
      "(492906, ('legitimate', 1, 36.91, 6139, 'manual', False))\n",
      "(493074, ('legitimate', 6, 21.46, 1457, 'swipe', False))\n",
      "(501201, ('legitimate', 1, 20.41, 11797, 'manual', False))\n",
      "(503106, ('legitimate', 14, 22.48, 6854, 'online', False))\n",
      "(510406, ('legitimate', 14, 21.77, 4432, 'contactless', False))\n",
      "(511121, ('legitimate', 1, 20.71, 13978, 'online', True))\n",
      "(518558, ('legitimate', 14, 23.96, 6139, 'swipe', False))\n",
      "(522034, ('legitimate', 9, 500.97, 720, 'online', True))\n",
      "(525974, ('legitimate', 14, 106.72, 597, 'online', False))\n",
      "(529335, ('legitimate', 9, 114.94, 19446, 'chip_and_pin', False))\n",
      "(532820, ('legitimate', 6, 38.26, 17248, 'online', False))\n",
      "(535243, ('legitimate', 14, 31.38, 16752, 'online', False))\n",
      "(536584, ('legitimate', 9, 42.88, 4734, 'swipe', False))\n",
      "(540151, ('legitimate', 6, 20.19, 18692, 'online', False))\n",
      "(543215, ('legitimate', 14, 30.0, 6844, 'online', False))\n",
      "(543904, ('legitimate', 9, 23.67, 2658, 'swipe', False))\n",
      "(547733, ('legitimate', 6, 20.89, 3606, 'chip_and_pin', False))\n",
      "(550826, ('legitimate', 14, 23.97, 4734, 'contactless', False))\n",
      "(551175, ('legitimate', 1, 24.73, 17322, 'swipe', False))\n",
      "(551758, ('legitimate', 9, 21.51, 1134, 'online', True))\n",
      "(555287, ('legitimate', 6, 20.79, 7886, 'online', False))\n",
      "(558508, ('legitimate', 1, 25.06, 19998, 'online', False))\n",
      "(559815, ('legitimate', 9, 42.96, 6601, 'online', False))\n",
      "(562725, ('legitimate', 6, 28.73, 3990, 'chip_and_pin', False))\n",
      "(567841, ('legitimate', 9, 22.05, 597, 'online', True))\n",
      "(568173, ('legitimate', 1, 43.94, 3698, 'manual', False))\n",
      "(570143, ('legitimate', 6, 20.22, 7194, 'manual', False))\n",
      "(575495, ('legitimate', 1, 24.28, 16920, 'chip_and_pin', False))\n",
      "(578453, ('legitimate', 6, 58.63, 11347, 'chip_and_pin', False))\n",
      "(582772, ('legitimate', 1, 36.3, 11266, 'chip_and_pin', False))\n",
      "(590135, ('legitimate', 1, 21.71, 678, 'online', False))\n",
      "(591142, ('legitimate', 14, 27.04, 8497, 'online', False))\n",
      "(597615, ('legitimate', 1, 22.89, 4696, 'contactless', False))\n",
      "(599752, ('legitimate', 14, 25.83, 7400, 'chip_and_pin', False))\n",
      "(607712, ('legitimate', 14, 21.82, 6601, 'contactless', False))\n",
      "(609223, ('legitimate', 9, 28.16, 18428, 'chip_and_pin', False))\n",
      "(616385, ('legitimate', 14, 23.64, 6844, 'swipe', False))\n",
      "(616598, ('legitimate', 9, 101.95, 597, 'swipe', False))\n",
      "(620047, ('legitimate', 6, 24.49, 7772, 'contactless', False))\n",
      "(623756, ('legitimate', 14, 30.4, 16570, 'contactless', False))\n",
      "(623972, ('legitimate', 9, 28.46, 13653, 'chip_and_pin', False))\n",
      "(627415, ('legitimate', 6, 22.72, 6773, 'swipe', False))\n",
      "(631061, ('legitimate', 14, 29.88, 18692, 'swipe', False))\n",
      "(631763, ('legitimate', 9, 104.28, 3459, 'contactless', False))\n",
      "(634986, ('legitimate', 1, 21.67, 11512, 'chip_and_pin', False))\n",
      "(635577, ('legitimate', 6, 24.1, 8994, 'online', True))\n",
      "(639118, ('legitimate', 9, 30.09, 9385, 'contactless', False))\n",
      "(643024, ('legitimate', 1, 21.6, 7409, 'contactless', False))\n",
      "(643899, ('legitimate', 6, 23.07, 7183, 'chip_and_pin', False))\n",
      "(646623, ('legitimate', 9, 25.27, 6514, 'manual', False))\n",
      "(651095, ('legitimate', 1, 20.9, 12698, 'online', False))\n",
      "(651123, ('legitimate', 6, 24.72, 1829, 'swipe', False))\n"
     ]
    }
   ],
   "source": [
    "sim = simulate([legitimate_user_stream(i) for i in [1,6,9,14]])\n",
    "\n",
    "for i in range(200):\n",
    "    print(next(sim))"
   ]
  },
  {
   "cell_type": "markdown",
   "metadata": {},
   "source": [
    "We can visualize the behavior of users in each time zone to see when they're awake:"
   ]
  },
  {
   "cell_type": "code",
   "execution_count": 21,
   "metadata": {
    "scrolled": true
   },
   "outputs": [
    {
     "data": {
      "application/javascript": [
       "const spec = {\"config\": {\"view\": {\"width\": 400, \"height\": 300}, \"mark\": {\"tooltip\": null}}, \"data\": {\"url\": \"altair-data-51f161686f3fa4405f849b99b334c6b2.json\", \"format\": {\"type\": \"json\"}}, \"mark\": \"area\", \"encoding\": {\"color\": {\"type\": \"quantitative\", \"field\": \"tzs\"}, \"x\": {\"type\": \"quantitative\", \"field\": \"hours\"}, \"y\": {\"type\": \"quantitative\", \"aggregate\": \"count\"}}, \"selection\": {\"selector001\": {\"type\": \"interval\", \"bind\": \"scales\", \"encodings\": [\"x\", \"y\"]}}, \"$schema\": \"https://vega.github.io/schema/vega-lite/v3.4.0.json\"};\n",
       "const opt = {};\n",
       "const type = \"vega-lite\";\n",
       "const id = \"71c5478c-eb4a-4893-99df-54d60074394c\";\n",
       "\n",
       "const output_area = this;\n",
       "\n",
       "require([\"nbextensions/jupyter-vega/index\"], function(vega) {\n",
       "  const target = document.createElement(\"div\");\n",
       "  target.id = id;\n",
       "  target.className = \"vega-embed\";\n",
       "\n",
       "  const style = document.createElement(\"style\");\n",
       "  style.textContent = [\n",
       "    \".vega-embed .error p {\",\n",
       "    \"  color: firebrick;\",\n",
       "    \"  font-size: 14px;\",\n",
       "    \"}\",\n",
       "  ].join(\"\\\\n\");\n",
       "\n",
       "  // element is a jQuery wrapped DOM element inside the output area\n",
       "  // see http://ipython.readthedocs.io/en/stable/api/generated/\\\n",
       "  // IPython.display.html#IPython.display.Javascript.__init__\n",
       "  element[0].appendChild(target);\n",
       "  element[0].appendChild(style);\n",
       "\n",
       "  vega.render(\"#\" + id, spec, type, opt, output_area);\n",
       "}, function (err) {\n",
       "  if (err.requireType !== \"scripterror\") {\n",
       "    throw(err);\n",
       "  }\n",
       "});\n"
      ],
      "text/plain": [
       "<vega.vegalite.VegaLite at 0x7fba28a13da0>"
      ]
     },
     "metadata": {
      "jupyter-vega": "#71c5478c-eb4a-4893-99df-54d60074394c"
     },
     "output_type": "display_data"
    },
    {
     "data": {
      "text/plain": []
     },
     "execution_count": 21,
     "metadata": {},
     "output_type": "execute_result"
    },
    {
     "data": {
      "image/png": "[encoded data removed]"
     },
     "metadata": {
      "jupyter-vega": "#71c5478c-eb4a-4893-99df-54d60074394c"
     },
     "output_type": "display_data"
    }
   ],
   "source": [
    "sim = simulate([legitimate_user_stream(i) for i in range(24)])\n",
    "\n",
    "results = [(offset, tup[1]) for offset, tup in [next(sim) for _ in range(20000)]]\n",
    "    \n",
    "source = pd.DataFrame({\"hours\": [(t[0] % 86400) // 3600 for t in results], \n",
    "                       \"tzs\": [t[1] % 24 for t in results]})\n",
    "\n",
    "alt.Chart(source).mark_area().encode(\n",
    "    alt.X(\"hours\"),\n",
    "    y='count()', color=\"tzs\"\n",
    ").interactive()"
   ]
  },
  {
   "cell_type": "markdown",
   "metadata": {},
   "source": [
    "## Simulating fraud\n",
    "\n",
    "We'll start with some basic assumptions:  \n",
    "\n",
    "1. fraudulent transactions are equally likely to happen at any arbitrary merchant,\n",
    "2. fraudulent transactions are typically for small dollar amounts,\n",
    "3. fraudulent transactions are rare overall, but when they occur, several will occur close together,\n",
    "4. fraudulent transactions are far more likely to be certain entry types (manual or online) or foreign transactions, and\n",
    "5. fraudulent transactions occur without regard for the user's typical schedule.\n",
    "\n",
    "These will guide our design of a fraudulent transaction generator.  We'll simulate parallel and independent streams of legitimate and fraudulent transactions for each user."
   ]
  },
  {
   "cell_type": "code",
   "execution_count": 17,
   "metadata": {},
   "outputs": [],
   "source": [
    "def fraud_entry_types():\n",
    "    size = 256\n",
    "    \n",
    "    entry_types = [\"contactless\", \"chip_and_pin\", \"swipe\", \"manual\", \"online\"]\n",
    "    entry_probs = [0.05,0.05,0.05,0.35,0.5]\n",
    "\n",
    "    while True:\n",
    "        stream = [entry_types[i] for i in np.random.choice(len(entry_types), p=entry_probs, size=size)]\n",
    "        yield from stream\n",
    "\n",
    "def fraudulent_user_stream(user_id, transactions_per_day = 12, transactions_per_burst=10, amount_means=[5,10,20], amount_probs=[0.2, 0.2, 0.6]):\n",
    "    amounts = transaction_amounts(amount_means, amount_probs)\n",
    "    entry_types = fraud_entry_types()\n",
    "    \n",
    "    SECONDS_PER_DAY = 86400\n",
    "    loc = SECONDS_PER_DAY // (transactions_per_day * transactions_per_burst)\n",
    "    p = 1 / 10\n",
    "\n",
    "    while True:\n",
    "        # consider also np.floor(stats.gamma.rvs(a=6.4, loc=SECONDS_PER_DAY * 90, scale=SECONDS_PER_DAY, size=1))\n",
    "        fraud_delay, = np.floor(stats.foldnorm.rvs(c=1.8, loc=SECONDS_PER_DAY * 30, scale=1 << 20, size=1))\n",
    "        fraud_delay = int(fraud_delay)\n",
    "        \n",
    "        fraud_count = stats.poisson.rvs(mu=transactions_per_burst)\n",
    "        \n",
    "        ams = [next(amounts) for _ in range(fraud_count)]\n",
    "        ens = [next(entry_types) for _ in range(fraud_count)]\n",
    "        fs = np.random.choice([True, False], p=[0.3, 0.7], size=fraud_count)\n",
    "        \n",
    "        m_ids = np.random.choice(MERCHANT_COUNT, size=fraud_count)\n",
    "        offsets = stats.geom.rvs(p=p, loc=loc, size=fraud_count)\n",
    "        offsets[0] += fraud_delay\n",
    "        \n",
    "        for offset, amount, merchant_id, entry, foreign in zip(offsets, ams, m_ids, ens, fs):\n",
    "            result = {\n",
    "                \"user_id\": user_id,\n",
    "                \"amount\": amount,\n",
    "                \"merchant_id\": merchant_id,\n",
    "                \"entry\": entry,\n",
    "                \"foreign\": foreign\n",
    "            }\n",
    "            yield (offset, (\"fraud\", *result.values()))"
   ]
  },
  {
   "cell_type": "markdown",
   "metadata": {},
   "source": [
    "Let's sanity-check the output of our fraudulent transaction generator."
   ]
  },
  {
   "cell_type": "code",
   "execution_count": 18,
   "metadata": {},
   "outputs": [
    {
     "name": "stdout",
     "output_type": "stream",
     "text": [
      "(2883562, ('fraud', 1, 23.26, 19482, 'manual', True))\n",
      "(2884296, ('fraud', 1, 5.78, 8312, 'manual', False))\n",
      "(2885025, ('fraud', 1, 29.03, 14637, 'online', False))\n",
      "(2885751, ('fraud', 1, 9.17, 1175, 'online', False))\n",
      "(2886480, ('fraud', 1, 30.93, 8721, 'online', False))\n",
      "(2887218, ('fraud', 1, 21.6, 13541, 'online', False))\n",
      "(2887948, ('fraud', 1, 37.96, 15090, 'online', False))\n",
      "(2888683, ('fraud', 1, 21.71, 9616, 'swipe', True))\n",
      "(2889405, ('fraud', 1, 23.11, 6373, 'manual', False))\n",
      "(2890129, ('fraud', 1, 7.54, 10844, 'manual', False))\n",
      "(4743550, ('fraud', 3, 27.63, 2907, 'online', True))\n",
      "(4744277, ('fraud', 3, 24.11, 963, 'online', False))\n",
      "(4744998, ('fraud', 3, 20.48, 277, 'manual', True))\n",
      "(4745722, ('fraud', 3, 16.33, 17194, 'online', True))\n",
      "(4746444, ('fraud', 3, 33.26, 8197, 'online', False))\n",
      "(4747165, ('fraud', 3, 36.03, 15349, 'manual', False))\n",
      "(4747913, ('fraud', 3, 22.08, 14872, 'online', True))\n",
      "(4748651, ('fraud', 3, 12.27, 15642, 'online', True))\n",
      "(5410679, ('fraud', 2, 22.55, 14496, 'online', True))\n",
      "(5411401, ('fraud', 2, 21.49, 13709, 'online', False))\n",
      "(5412144, ('fraud', 2, 37.41, 9785, 'online', False))\n",
      "(5412871, ('fraud', 2, 13.59, 5476, 'manual', False))\n",
      "(5413618, ('fraud', 2, 39.65, 5276, 'online', False))\n",
      "(5414343, ('fraud', 2, 29.6, 12751, 'online', False))\n",
      "(5415069, ('fraud', 2, 31.3, 2446, 'online', True))\n",
      "(5415793, ('fraud', 2, 33.33, 857, 'online', False))\n",
      "(5416535, ('fraud', 2, 14.15, 2932, 'online', False))\n",
      "(6802671, ('fraud', 1, 10.72, 3170, 'online', False))\n",
      "(6803392, ('fraud', 1, 20.28, 1072, 'manual', False))\n",
      "(6804115, ('fraud', 1, 12.98, 1720, 'online', False))\n",
      "(6804837, ('fraud', 1, 33.38, 4817, 'manual', False))\n",
      "(6805562, ('fraud', 1, 23.69, 17785, 'online', True))\n",
      "(6806303, ('fraud', 1, 28.76, 4857, 'chip_and_pin', True))\n",
      "(6807034, ('fraud', 1, 20.73, 6976, 'online', False))\n",
      "(6807756, ('fraud', 1, 36.21, 8753, 'online', False))\n",
      "(6808492, ('fraud', 1, 22.72, 19197, 'manual', False))\n",
      "(6809213, ('fraud', 1, 22.42, 6187, 'online', False))\n",
      "(6809943, ('fraud', 1, 28.75, 1739, 'online', False))\n",
      "(6810669, ('fraud', 1, 23.75, 9436, 'chip_and_pin', False))\n",
      "(6811396, ('fraud', 1, 50.68, 12863, 'online', False))\n",
      "(6812142, ('fraud', 1, 10.29, 14238, 'manual', False))\n",
      "(9360145, ('fraud', 2, 14.31, 11661, 'swipe', False))\n",
      "(9360868, ('fraud', 2, 13.72, 7812, 'manual', False))\n",
      "(9361604, ('fraud', 2, 36.09, 7798, 'online', True))\n",
      "(9362341, ('fraud', 2, 21.4, 8392, 'manual', False))\n",
      "(9363062, ('fraud', 2, 18.02, 18592, 'online', True))\n",
      "(9363792, ('fraud', 2, 32.9, 10720, 'manual', False))\n",
      "(9364522, ('fraud', 2, 20.08, 5831, 'online', False))\n",
      "(9365254, ('fraud', 2, 43.98, 8545, 'manual', False))\n",
      "(9365983, ('fraud', 2, 11.78, 11441, 'online', False))\n"
     ]
    }
   ],
   "source": [
    "sim = simulate([fraudulent_user_stream(1), \n",
    "                fraudulent_user_stream(2), \n",
    "                fraudulent_user_stream(3)])\n",
    "\n",
    "for i in range(50):\n",
    "    print(next(sim))"
   ]
  },
  {
   "cell_type": "code",
   "execution_count": 19,
   "metadata": {},
   "outputs": [
    {
     "name": "stdout",
     "output_type": "stream",
     "text": [
      "2.81% of transactions were fraudulent\n"
     ]
    }
   ],
   "source": [
    "sim = simulate([legitimate_user_stream(1), \n",
    "                legitimate_user_stream(2), \n",
    "                legitimate_user_stream(3),\n",
    "                fraudulent_user_stream(1), \n",
    "                fraudulent_user_stream(2), \n",
    "                fraudulent_user_stream(3)])\n",
    "count = 0\n",
    "STEPS = 50000\n",
    "\n",
    "for i in range(STEPS):\n",
    "    result = next(sim)\n",
    "    if result[1][0] == 'fraud':\n",
    "        count += 1\n",
    "\n",
    "print(\"%.02f%% of transactions were fraudulent\" % (count / STEPS * 100))"
   ]
  },
  {
   "cell_type": "code",
   "execution_count": null,
   "metadata": {},
   "outputs": [],
   "source": []
  }
 ],
 "metadata": {
  "kernelspec": {
   "display_name": "Python 3",
   "language": "python",
   "name": "python3"
  },
  "language_info": {
   "codemirror_mode": {
    "name": "ipython",
    "version": 3
   },
   "file_extension": ".py",
   "mimetype": "text/x-python",
   "name": "python",
   "nbconvert_exporter": "python",
   "pygments_lexer": "ipython3",
   "version": "3.7.3"
  }
 },
 "nbformat": 4,
 "nbformat_minor": 2
}
