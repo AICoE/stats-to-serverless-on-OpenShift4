{
 "cells": [
  {
   "cell_type": "markdown",
   "metadata": {},
   "source": [
    "# Generating synthetic payments data\n",
    "\n",
    "In this notebook, we'll build up a very simple simulator to generate payments data corresponding to legitimate and fraudulent transactions.  (There are many ways you could improve this generator and we'll call some of them out.)  We'll start by building up some functionality to run simulations in general.\n",
    "\n",
    "## An (extremely) basic discrete-event simulation framework\n",
    "\n",
    "The next function is all you need to run simple discrete-event simulations.  Here's how to use it:\n",
    "\n",
    "- you'll define several streams of events, each of which is modeled by a Python generator,\n",
    "- each event stream generator will `yield` a tuple consisting of *an offset* (the amount of time that has passed since the last event of that type) and *a result* (an arbitrary Python value associated with the event),\n",
    "- the generator produced by the `simulate` function will yield the next event from all event streams indefinitely."
   ]
  },
  {
   "cell_type": "code",
   "execution_count": 1,
   "metadata": {},
   "outputs": [],
   "source": [
    "import heapq\n",
    "\n",
    "def simulate(event_generators, initial_time=0):    \n",
    "    def setup_e(e, i):\n",
    "        offset, result = next(e)\n",
    "        return ((offset + i), result, e)\n",
    "    \n",
    "    pq = [setup_e(event, initial_time) for event in event_generators]\n",
    "    heapq.heapify(pq)\n",
    "    \n",
    "    while True:\n",
    "        timestamp, result, event = pq[0]\n",
    "        offset, next_result = event.send(timestamp)\n",
    "        heapq.heappushpop(pq, (timestamp + offset, next_result, event))\n",
    "        yield (timestamp, result)"
   ]
  },
  {
   "cell_type": "markdown",
   "metadata": {},
   "source": [
    "It may be easier to see how this works with an example.  In the next three cells, we \n",
    "\n",
    "1. define a generator for event streams, which samples interarrival times from a Poisson distribution and returns a predefined string as the result at each event,\n",
    "2. set up a simulation with four streams, each of which has a different distribution of interarrival times and value, and\n",
    "3. take the first twenty events from the simulation"
   ]
  },
  {
   "cell_type": "code",
   "execution_count": 2,
   "metadata": {},
   "outputs": [],
   "source": [
    "from scipy import stats\n",
    "\n",
    "def bedrockstream(mu, name):\n",
    "    while True:\n",
    "        offset, = stats.poisson.rvs(mu, size=1)\n",
    "        x = yield (offset, name)"
   ]
  },
  {
   "cell_type": "code",
   "execution_count": 3,
   "metadata": {},
   "outputs": [],
   "source": [
    "sim = simulate([bedrockstream(10, \"fred\"), \n",
    "                bedrockstream(12, \"betty\"), \n",
    "                bedrockstream(20, \"wilma\"), \n",
    "                bedrockstream(35, \"barney\")])"
   ]
  },
  {
   "cell_type": "code",
   "execution_count": 4,
   "metadata": {
    "scrolled": true
   },
   "outputs": [
    {
     "name": "stdout",
     "output_type": "stream",
     "text": [
      "(6, 'fred')\n",
      "(12, 'betty')\n",
      "(16, 'fred')\n",
      "(17, 'wilma')\n",
      "(23, 'betty')\n",
      "(27, 'fred')\n",
      "(33, 'fred')\n",
      "(38, 'barney')\n",
      "(39, 'wilma')\n",
      "(40, 'betty')\n",
      "(44, 'fred')\n",
      "(48, 'fred')\n",
      "(50, 'wilma')\n",
      "(51, 'betty')\n",
      "(59, 'fred')\n",
      "(63, 'wilma')\n",
      "(66, 'betty')\n",
      "(67, 'fred')\n",
      "(79, 'barney')\n",
      "(80, 'betty')\n"
     ]
    }
   ],
   "source": [
    "for i in range(20):\n",
    "    print(next(sim))"
   ]
  },
  {
   "cell_type": "markdown",
   "metadata": {},
   "source": [
    "### Sidebar:  repeatability and pseudorandom number generation\n",
    "\n",
    "There are a couple of small problems here:  \n",
    "\n",
    "1.  We aren't seeding our random number generator, which means that our results won't be deterministic (in general, we'd like simulations to be deterministic so we can replay them with different parameters or policies), and\n",
    "2.  we're using the same random number generator for every user in the stream, which means (among other things) that any long-period autocorrelations in our pseudorandom number stream will show up in our simulation results.  (It also means that the behavior of any given user will depend on how many users there are in the simulation!)\n",
    "\n",
    "We can solve both problems by using a separate generator for each user and seeding it.  Scipy will let us create a stream of numbers sampled from a given distribution as an object, but it won't let us pass in a seed to the constructor.  However, we can set the seed after we create the stream, like this:"
   ]
  },
  {
   "cell_type": "code",
   "execution_count": 5,
   "metadata": {},
   "outputs": [
    {
     "name": "stdout",
     "output_type": "stream",
     "text": [
      "(7, 'fred')\n",
      "(9, 'betty')\n",
      "(13, 'fred')\n",
      "(17, 'betty')\n",
      "(21, 'wilma')\n",
      "(23, 'fred')\n",
      "(29, 'betty')\n",
      "(35, 'fred')\n",
      "(36, 'barney')\n",
      "(42, 'wilma')\n",
      "(43, 'betty')\n",
      "(45, 'fred')\n",
      "(55, 'betty')\n",
      "(56, 'fred')\n",
      "(61, 'wilma')\n",
      "(68, 'betty')\n",
      "(68, 'fred')\n",
      "(73, 'barney')\n",
      "(78, 'fred')\n",
      "(80, 'wilma')\n"
     ]
    }
   ],
   "source": [
    "import numpy as np\n",
    "\n",
    "def det_bedrockstream(mu, name, seedpart=0xda7aba5e):\n",
    "    \n",
    "    # scipy doesn't let us specify a seed in the constructor...\n",
    "    poisson = stats.poisson(mu)\n",
    "    \n",
    "    # ...so we'll set one up after creating the object\n",
    "    seed = (hash(name) ^ seedpart) & (1 << 31 - 1)\n",
    "    poisson.random_state = np.random.RandomState(seed)\n",
    "    \n",
    "    while True:\n",
    "        offset, = poisson.rvs(size=1)\n",
    "        x = yield (offset, name)\n",
    "        \n",
    "sim = simulate([det_bedrockstream(10, \"fred\"), \n",
    "                det_bedrockstream(12, \"betty\"), \n",
    "                det_bedrockstream(20, \"wilma\"), \n",
    "                det_bedrockstream(35, \"barney\")])\n",
    "\n",
    "for i in range(20):\n",
    "    print(next(sim))"
   ]
  },
  {
   "cell_type": "markdown",
   "metadata": {},
   "source": [
    "## Modeling transactions\n",
    "\n",
    "The first thing we need to do is to decide what data we'll generate for each transaction.  Some interesting possibilities include:\n",
    "\n",
    "- user ID\n",
    "- merchant ID\n",
    "- merchant type\n",
    "- transaction amount (assuming a single currency)\n",
    "- card entry mode (e.g., contactless, chip and pin, swipe, card manually keyed, or online transaction)\n",
    "- foreign transaction (whether or not the user's home country matches the country in which the transaction is taking place)\n",
    "\n",
    "We'll also generate a label for each transaction (`legitimate` or `fraud`).  We'll start with a very basic user event stream generator:  all of the transactions we generate will be legitimate, and we won't do anything particularly interesting with most of the fields.  We also won't bother making this very basic simulation deterministic."
   ]
  },
  {
   "cell_type": "code",
   "execution_count": 6,
   "metadata": {},
   "outputs": [],
   "source": [
    "MERCHANT_COUNT = 20000\n",
    "\n",
    "# a small percentage of merchants account for most transactions\n",
    "COMMON_MERCHANT_COUNT = MERCHANT_COUNT // 21\n",
    "\n",
    "np.random.seed(0xda7aba5e)\n",
    "\n",
    "common_merchants = np.random.choice(MERCHANT_COUNT, \n",
    "                                    size=COMMON_MERCHANT_COUNT, \n",
    "                                    replace=True)\n",
    "\n",
    "def basic_user_stream(user_id, mu, seed=None):\n",
    "    \n",
    "    favorite_merchants = np.random.choice(common_merchants,\n",
    "                                         size=len(common_merchants) // 5)\n",
    "    while True:\n",
    "        amount = 100.00\n",
    "        entry = \"chip_and_pin\"\n",
    "        foreign = False\n",
    "        \n",
    "        merchant_id, = np.random.choice(favorite_merchants, size=1)\n",
    "        offset = stats.poisson.rvs(mu)\n",
    "        result = {\n",
    "            \"user_id\": user_id,\n",
    "            \"amount\": amount,\n",
    "            \"merchant_id\": merchant_id,\n",
    "            \"entry\": entry,\n",
    "            \"foreign\": foreign\n",
    "        }\n",
    "        yield (offset, (\"legitimate\", *result.values()))"
   ]
  },
  {
   "cell_type": "code",
   "execution_count": 7,
   "metadata": {},
   "outputs": [],
   "source": [
    "sim = simulate([basic_user_stream(1, 700), basic_user_stream(2, 105), basic_user_stream(3, 40)])"
   ]
  },
  {
   "cell_type": "code",
   "execution_count": 8,
   "metadata": {},
   "outputs": [
    {
     "name": "stdout",
     "output_type": "stream",
     "text": [
      "(43, ('legitimate', 3, 100.0, 19732, 'chip_and_pin', False))\n",
      "(81, ('legitimate', 3, 100.0, 3511, 'chip_and_pin', False))\n",
      "(112, ('legitimate', 3, 100.0, 4276, 'chip_and_pin', False))\n",
      "(113, ('legitimate', 2, 100.0, 13133, 'chip_and_pin', False))\n",
      "(154, ('legitimate', 3, 100.0, 17491, 'chip_and_pin', False))\n",
      "(207, ('legitimate', 3, 100.0, 16851, 'chip_and_pin', False))\n",
      "(210, ('legitimate', 2, 100.0, 18350, 'chip_and_pin', False))\n",
      "(245, ('legitimate', 3, 100.0, 8932, 'chip_and_pin', False))\n",
      "(296, ('legitimate', 3, 100.0, 8454, 'chip_and_pin', False))\n",
      "(324, ('legitimate', 2, 100.0, 5465, 'chip_and_pin', False))\n",
      "(330, ('legitimate', 3, 100.0, 16423, 'chip_and_pin', False))\n",
      "(386, ('legitimate', 3, 100.0, 6893, 'chip_and_pin', False))\n",
      "(430, ('legitimate', 2, 100.0, 10116, 'chip_and_pin', False))\n",
      "(430, ('legitimate', 3, 100.0, 13978, 'chip_and_pin', False))\n",
      "(481, ('legitimate', 3, 100.0, 16397, 'chip_and_pin', False))\n",
      "(522, ('legitimate', 3, 100.0, 811, 'chip_and_pin', False))\n",
      "(532, ('legitimate', 2, 100.0, 7870, 'chip_and_pin', False))\n",
      "(558, ('legitimate', 3, 100.0, 6259, 'chip_and_pin', False))\n",
      "(587, ('legitimate', 3, 100.0, 14732, 'chip_and_pin', False))\n",
      "(619, ('legitimate', 3, 100.0, 5045, 'chip_and_pin', False))\n"
     ]
    }
   ],
   "source": [
    "for i in range(20):\n",
    "    print(next(sim))"
   ]
  },
  {
   "cell_type": "markdown",
   "metadata": {},
   "source": [
    "## Exercise:  some quick improvements\n",
    "\n",
    "1.  Users don't always just buy things from a few favorite merchants.  Change `basic_user_stream` so that they occasionally buy from any merchant.\n",
    "2.  Most people buy many inexpensive things and relatively few expensive things.  Use this insight to generate (more) realistic transaction amounts.\n",
    "3.  Some small percentage of online sales will be foreign transactions.  When a user is traveling abroad, nearly all of his or her transactions will be foreign transactions.  Add some state to `basic_user_stream` to model occasional international travel."
   ]
  },
  {
   "cell_type": "markdown",
   "metadata": {},
   "source": [
    "## Building a better transaction stream\n",
    "\n",
    "We'll start by building a generator to build a mixture model we can use to make several kinds of transactions:  small, medium, and large.  We'll need to do a bit of extra work to make this generator deterministic, but we'll start by showing a nondeterministic version."
   ]
  },
  {
   "cell_type": "code",
   "execution_count": 9,
   "metadata": {},
   "outputs": [],
   "source": [
    "def nd_transaction_amounts(means, percentages, distribution=None):\n",
    "    size = 256\n",
    "    \n",
    "    if distribution is None:\n",
    "        distribution = lambda m, sz: stats.gamma.rvs(a=1.1, scale=min(m, 750), loc=m, size=sz)\n",
    "    \n",
    "    while True:\n",
    "        streams = [distribution(m * 100, size) for m in means]\n",
    "        stream = np.floor(np.choose(np.random.choice(len(means), p=percentages, size=size), streams)) / 100\n",
    "        \n",
    "        yield from stream"
   ]
  },
  {
   "cell_type": "code",
   "execution_count": 10,
   "metadata": {},
   "outputs": [
    {
     "name": "stderr",
     "output_type": "stream",
     "text": [
      "/Users/willb/.local/share/virtualenvs/fraud-data-generator-F_Q5KlT_/lib/python3.7/site-packages/altair/utils/core.py:294: FutureWarning: A future version of pandas will default to `skipna=True`. To silence this warning, pass `skipna=True|False` explicitly.\n",
      "  attrs['type'] = infer_vegalite_type(data[attrs['field']])\n"
     ]
    },
    {
     "data": {
      "application/javascript": [
       "var spec = {\"config\": {\"view\": {\"width\": 400, \"height\": 300}}, \"data\": {\"url\": \"altair-data-e2c3f481492ffc0a14cb6ceaf773484e.json\", \"format\": {\"type\": \"json\"}}, \"mark\": \"bar\", \"encoding\": {\"x\": {\"type\": \"quantitative\", \"bin\": {\"maxbins\": 100}, \"field\": \"amounts\"}, \"y\": {\"type\": \"quantitative\", \"aggregate\": \"count\"}}, \"$schema\": \"https://vega.github.io/schema/vega-lite/v2.6.0.json\"};\n",
       "var opt = {};\n",
       "var type = \"vega-lite\";\n",
       "var id = \"6584ca61-23b5-49cf-a629-bb6fef14620c\";\n",
       "\n",
       "var output_area = this;\n",
       "\n",
       "require([\"nbextensions/jupyter-vega/index\"], function(vega) {\n",
       "  var target = document.createElement(\"div\");\n",
       "  target.id = id;\n",
       "  target.className = \"vega-embed\";\n",
       "\n",
       "  var style = document.createElement(\"style\");\n",
       "  style.textContent = [\n",
       "    \".vega-embed .error p {\",\n",
       "    \"  color: firebrick;\",\n",
       "    \"  font-size: 14px;\",\n",
       "    \"}\",\n",
       "  ].join(\"\\\\n\");\n",
       "\n",
       "  // element is a jQuery wrapped DOM element inside the output area\n",
       "  // see http://ipython.readthedocs.io/en/stable/api/generated/\\\n",
       "  // IPython.display.html#IPython.display.Javascript.__init__\n",
       "  element[0].appendChild(target);\n",
       "  element[0].appendChild(style);\n",
       "\n",
       "  vega.render(\"#\" + id, spec, type, opt, output_area);\n",
       "}, function (err) {\n",
       "  if (err.requireType !== \"scripterror\") {\n",
       "    throw(err);\n",
       "  }\n",
       "});\n"
      ],
      "text/plain": [
       "<vega.vegalite.VegaLite at 0x1193ccbd0>"
      ]
     },
     "metadata": {
      "jupyter-vega": "#6584ca61-23b5-49cf-a629-bb6fef14620c"
     },
     "output_type": "display_data"
    },
    {
     "data": {
      "text/plain": []
     },
     "execution_count": 10,
     "metadata": {},
     "output_type": "execute_result"
    },
    {
     "data": {
      "image/png": "[encoded data removed]"
     },
     "metadata": {
      "jupyter-vega": "#6584ca61-23b5-49cf-a629-bb6fef14620c"
     },
     "output_type": "display_data"
    }
   ],
   "source": [
    "import pandas as pd\n",
    "\n",
    "import altair as alt\n",
    "alt.renderers.enable('notebook')\n",
    "alt.data_transformers.enable('json')\n",
    "\n",
    "amt = nd_transaction_amounts([5, 15, 50], [0.5, 0.35, 0.15])\n",
    "amounts = [next(amt) for i in range(80000)]\n",
    "\n",
    "source = pd.DataFrame({\"amounts\": amounts})\n",
    "\n",
    "alt.Chart(source).mark_bar().encode(\n",
    "    alt.X(\"amounts\", bin=alt.Bin(maxbins=100)),\n",
    "    y='count()'\n",
    ")"
   ]
  },
  {
   "cell_type": "markdown",
   "metadata": {},
   "source": [
    "We can also plot a broader distribution of transactions:"
   ]
  },
  {
   "cell_type": "code",
   "execution_count": 11,
   "metadata": {},
   "outputs": [
    {
     "name": "stdout",
     "output_type": "stream",
     "text": [
      "CPU times: user 212 ms, sys: 8.08 ms, total: 221 ms\n",
      "Wall time: 480 ms\n"
     ]
    },
    {
     "data": {
      "application/javascript": [
       "var spec = {\"config\": {\"view\": {\"width\": 400, \"height\": 300}}, \"data\": {\"url\": \"altair-data-88997a3b117d1363c004d4bfbea60e02.json\", \"format\": {\"type\": \"json\"}}, \"mark\": \"bar\", \"encoding\": {\"x\": {\"type\": \"quantitative\", \"bin\": {\"maxbins\": 100}, \"field\": \"amounts\"}, \"y\": {\"type\": \"quantitative\", \"aggregate\": \"count\"}}, \"$schema\": \"https://vega.github.io/schema/vega-lite/v2.6.0.json\"};\n",
       "var opt = {};\n",
       "var type = \"vega-lite\";\n",
       "var id = \"c1533768-1ce2-4703-9fda-3a5529ac9e4d\";\n",
       "\n",
       "var output_area = this;\n",
       "\n",
       "require([\"nbextensions/jupyter-vega/index\"], function(vega) {\n",
       "  var target = document.createElement(\"div\");\n",
       "  target.id = id;\n",
       "  target.className = \"vega-embed\";\n",
       "\n",
       "  var style = document.createElement(\"style\");\n",
       "  style.textContent = [\n",
       "    \".vega-embed .error p {\",\n",
       "    \"  color: firebrick;\",\n",
       "    \"  font-size: 14px;\",\n",
       "    \"}\",\n",
       "  ].join(\"\\\\n\");\n",
       "\n",
       "  // element is a jQuery wrapped DOM element inside the output area\n",
       "  // see http://ipython.readthedocs.io/en/stable/api/generated/\\\n",
       "  // IPython.display.html#IPython.display.Javascript.__init__\n",
       "  element[0].appendChild(target);\n",
       "  element[0].appendChild(style);\n",
       "\n",
       "  vega.render(\"#\" + id, spec, type, opt, output_area);\n",
       "}, function (err) {\n",
       "  if (err.requireType !== \"scripterror\") {\n",
       "    throw(err);\n",
       "  }\n",
       "});\n"
      ],
      "text/plain": [
       "<vega.vegalite.VegaLite at 0x116bda790>"
      ]
     },
     "metadata": {
      "jupyter-vega": "#c1533768-1ce2-4703-9fda-3a5529ac9e4d"
     },
     "output_type": "display_data"
    },
    {
     "data": {
      "text/plain": []
     },
     "execution_count": 11,
     "metadata": {},
     "output_type": "execute_result"
    },
    {
     "data": {
      "image/png": "[encoded data removed]"
     },
     "metadata": {
      "jupyter-vega": "#c1533768-1ce2-4703-9fda-3a5529ac9e4d"
     },
     "output_type": "display_data"
    }
   ],
   "source": [
    "%%time\n",
    "amt = nd_transaction_amounts([5, 10, 15, 20, 50, 100], \n",
    "                          [0.35, 0.25, 0.15, 0.1, 0.1, 0.05])\n",
    "amounts = [next(amt) for i in range(40000)]\n",
    "\n",
    "source = pd.DataFrame({\"amounts\": amounts})\n",
    "\n",
    "alt.Chart(source).mark_bar().encode(\n",
    "    alt.X(\"amounts\", bin=alt.Bin(maxbins=100)),\n",
    "    y='count()',\n",
    ")"
   ]
  },
  {
   "cell_type": "markdown",
   "metadata": {},
   "source": [
    "Let's make that transaction-amount generator deterministic."
   ]
  },
  {
   "cell_type": "code",
   "execution_count": 12,
   "metadata": {},
   "outputs": [],
   "source": [
    "import time\n",
    "\n",
    "def transaction_amounts(means, percentages, seed=None):\n",
    "    def mkgamma(m, rng):\n",
    "        while True:\n",
    "            yield from stats.gamma.ppf(rng.uniform(size=1024), a=1.1, scale=min(m, 750), loc=m)\n",
    "    \n",
    "    if seed is None:\n",
    "        seed = int(time.time()) & ((1 << 32) - 1)\n",
    "        \n",
    "    prng = np.random.RandomState(seed)\n",
    "    \n",
    "    distributions = [mkgamma(m * 100, prng) for m in means]\n",
    "    \n",
    "    while True:\n",
    "        streams = [next(d) for d in distributions]\n",
    "        yield (np.floor(np.choose(prng.choice(len(means), p=percentages), streams)) / 100)"
   ]
  },
  {
   "cell_type": "markdown",
   "metadata": {},
   "source": [
    "Finally, we'll sanity-check the deterministic version to make sure it behaves the same way as the non-determinstic version."
   ]
  },
  {
   "cell_type": "code",
   "execution_count": 13,
   "metadata": {},
   "outputs": [
    {
     "name": "stdout",
     "output_type": "stream",
     "text": [
      "CPU times: user 2.5 s, sys: 31.9 ms, total: 2.54 s\n",
      "Wall time: 3.42 s\n"
     ]
    },
    {
     "data": {
      "application/javascript": [
       "var spec = {\"config\": {\"view\": {\"width\": 400, \"height\": 300}}, \"data\": {\"url\": \"altair-data-060edf819f013a71d7e1b3f86b86a321.json\", \"format\": {\"type\": \"json\"}}, \"mark\": \"bar\", \"encoding\": {\"x\": {\"type\": \"quantitative\", \"bin\": {\"maxbins\": 100}, \"field\": \"amounts\"}, \"y\": {\"type\": \"quantitative\", \"aggregate\": \"count\"}}, \"selection\": {\"selector001\": {\"type\": \"interval\", \"bind\": \"scales\", \"encodings\": [\"x\", \"y\"]}}, \"$schema\": \"https://vega.github.io/schema/vega-lite/v2.6.0.json\"};\n",
       "var opt = {};\n",
       "var type = \"vega-lite\";\n",
       "var id = \"dda6c49b-452a-4943-ad97-192235b99080\";\n",
       "\n",
       "var output_area = this;\n",
       "\n",
       "require([\"nbextensions/jupyter-vega/index\"], function(vega) {\n",
       "  var target = document.createElement(\"div\");\n",
       "  target.id = id;\n",
       "  target.className = \"vega-embed\";\n",
       "\n",
       "  var style = document.createElement(\"style\");\n",
       "  style.textContent = [\n",
       "    \".vega-embed .error p {\",\n",
       "    \"  color: firebrick;\",\n",
       "    \"  font-size: 14px;\",\n",
       "    \"}\",\n",
       "  ].join(\"\\\\n\");\n",
       "\n",
       "  // element is a jQuery wrapped DOM element inside the output area\n",
       "  // see http://ipython.readthedocs.io/en/stable/api/generated/\\\n",
       "  // IPython.display.html#IPython.display.Javascript.__init__\n",
       "  element[0].appendChild(target);\n",
       "  element[0].appendChild(style);\n",
       "\n",
       "  vega.render(\"#\" + id, spec, type, opt, output_area);\n",
       "}, function (err) {\n",
       "  if (err.requireType !== \"scripterror\") {\n",
       "    throw(err);\n",
       "  }\n",
       "});\n"
      ],
      "text/plain": [
       "<vega.vegalite.VegaLite at 0x119993210>"
      ]
     },
     "metadata": {
      "jupyter-vega": "#dda6c49b-452a-4943-ad97-192235b99080"
     },
     "output_type": "display_data"
    },
    {
     "data": {
      "text/plain": []
     },
     "execution_count": 13,
     "metadata": {},
     "output_type": "execute_result"
    },
    {
     "data": {
      "image/png": "[encoded data removed]"
     },
     "metadata": {
      "jupyter-vega": "#dda6c49b-452a-4943-ad97-192235b99080"
     },
     "output_type": "display_data"
    }
   ],
   "source": [
    "%%time\n",
    "\n",
    "amt = transaction_amounts([5, 10, 15, 20, 50, 100], \n",
    "                          [0.35, 0.25, 0.15, 0.1, 0.1, 0.05],\n",
    "                          seed=0x12341234)\n",
    "amounts = [next(amt) for i in range(40000)]\n",
    "\n",
    "source = pd.DataFrame({\"amounts\": amounts})\n",
    "\n",
    "alt.Chart(source).mark_bar().interactive().encode(\n",
    "    alt.X(\"amounts\", bin=alt.Bin(maxbins=100)),\n",
    "    y='count()',\n",
    ")"
   ]
  },
  {
   "cell_type": "markdown",
   "metadata": {},
   "source": [
    "Next up, we'll make a generator to create the entry types.  \n",
    "\n",
    "You may have noticed that we need to do some extra work at the beginning of each generator function to make it deterministic -- specifically, something like this:\n",
    "\n",
    "    if seed is None:\n",
    "        seed = int(time.time()) & ((1 << 32) - 1)\n",
    "    \n",
    "    prng = np.random.RandomState(seed)\n",
    "    \n",
    "This code sets up a pseudorandom number generator, either seeded with an explicit value (if supplied) or with the time (if no seed is supplied).  We shouldn't be writing this code more than once, so let's set up some code to automatically add this to every function that will need its own seeded PRNG.  We'll use Python's [decorator](https://www.python.org/dev/peps/pep-0318/) facility for this purpose."
   ]
  },
  {
   "cell_type": "code",
   "execution_count": 14,
   "metadata": {},
   "outputs": [],
   "source": [
    "def makeprng(func):\n",
    "    import time\n",
    "    def call_with_prng(*args, prng=None, seed=None, **kwargs):\n",
    "        if prng is None:\n",
    "            if seed is None:\n",
    "                seed = int(time.time()) & ((1 << 32) - 1)\n",
    "            prng = np.random.RandomState(seed)\n",
    "        return func(*args, prng=prng, seed=seed, **kwargs)\n",
    "    return call_with_prng"
   ]
  },
  {
   "cell_type": "markdown",
   "metadata": {},
   "source": [
    "Here's our decorator in action:"
   ]
  },
  {
   "cell_type": "code",
   "execution_count": 15,
   "metadata": {},
   "outputs": [],
   "source": [
    "@makeprng\n",
    "def legitimate_entry_types(prng=None, seed=None):    \n",
    "    entry_types = [\"contactless\", \"chip_and_pin\", \"swipe\", \"manual\", \"online\"]\n",
    "    entry_probs = [0.25,0.2,0.15,0.05,0.35]\n",
    "\n",
    "    while True:\n",
    "        yield entry_types[prng.choice(len(entry_types), p=entry_probs)]"
   ]
  },
  {
   "cell_type": "markdown",
   "metadata": {},
   "source": [
    "We'll also declare a simple function to make it easy to generate an instance of a SciPy distribution class with a given seed:"
   ]
  },
  {
   "cell_type": "code",
   "execution_count": 16,
   "metadata": {},
   "outputs": [],
   "source": [
    "def makedist(dist_cls, seed=None, prng=None, **kwargs):\n",
    "    d = dist_cls(**kwargs)\n",
    "    d.random_state = (seed and seed) or prng.randint((1 << 32) - 1)\n",
    "    return d"
   ]
  },
  {
   "cell_type": "markdown",
   "metadata": {},
   "source": [
    "...and one for selecting merchants (primarily a user's favorite merchants):"
   ]
  },
  {
   "cell_type": "code",
   "execution_count": 17,
   "metadata": {},
   "outputs": [],
   "source": [
    "@makeprng\n",
    "def merchant_stream(common_merchants, all_merchants, fav_percentage=0.2, probs=[0.6,0.37,0.03], prng = None, seed=None):\n",
    "    favorite_merchants = prng.choice(common_merchants,\n",
    "                                          size=int(len(common_merchants) * fav_percentage))\n",
    "    merchants = [favorite_merchants, common_merchants, all_merchants]\n",
    "    while True:\n",
    "        pool = merchants[prng.choice(len(merchants), p=probs)]\n",
    "        yield int(prng.choice(pool))"
   ]
  },
  {
   "cell_type": "markdown",
   "metadata": {},
   "source": [
    "We can combine all of these to generate a stream of legitimate activity for a single user:"
   ]
  },
  {
   "cell_type": "code",
   "execution_count": 18,
   "metadata": {},
   "outputs": [],
   "source": [
    "@makeprng\n",
    "def legitimate_user_stream(user_id, transactions_per_day=12, start_timestamp=0, amount_means=[20,100,500], amount_probs=[0.9,0.075,0.025], prng=None, seed=None, common_merchants=None, merchant_count=20000):\n",
    "    if common_merchants is None:\n",
    "        # this case means that \"common\" merchants are unique to each user\n",
    "        common_merchants = prng.choice(merchant_count, size=merchant_count // 21)\n",
    "    \n",
    "    amounts = transaction_amounts(amount_means, amount_probs, seed=prng.randint((1<<32)-1))\n",
    "    entry_types = legitimate_entry_types(seed=prng.randint((1<<32)-1))\n",
    "    merchants = merchant_stream(common_merchants, np.arange(merchant_count), seed=prng.randint((1<<32)-1))\n",
    "    \n",
    "    SECONDS_PER_DAY = 86400\n",
    "    SECONDS_PER_HOUR = 60 * 60\n",
    "    loc = SECONDS_PER_DAY // transactions_per_day\n",
    "    p = 1 / (loc / 10)\n",
    "    \n",
    "    geom = makedist(stats.geom, prng=prng, p=p, loc=loc)\n",
    "    \n",
    "    # choose an arbitrary timezone offset (in seconds)\n",
    "    tz_offset = (user_id % 24) * SECONDS_PER_HOUR\n",
    "    WAKEUP_TIME = 7 * SECONDS_PER_HOUR\n",
    "    SLEEP_TIME = 21 * SECONDS_PER_HOUR\n",
    "    \n",
    "    ts = start_timestamp\n",
    "    snooze = False\n",
    "    \n",
    "    while True:\n",
    "        amount = next(amounts)\n",
    "        entry = next(entry_types)\n",
    "        foreign = entry == \"online\" and prng.choice([True, False], p=[0.4, 0.6])\n",
    "        \n",
    "        merchant_id = next(merchants)\n",
    "        \n",
    "        offset = geom.rvs()\n",
    "        \n",
    "        localtime = (ts + tz_offset) % SECONDS_PER_DAY\n",
    "        if localtime < WAKEUP_TIME or localtime > SLEEP_TIME:\n",
    "            snooze = True\n",
    "        \n",
    "        while snooze:\n",
    "            localtime = (ts + tz_offset + offset) % SECONDS_PER_DAY\n",
    "            if localtime > WAKEUP_TIME and localtime < SLEEP_TIME:\n",
    "                snooze = False\n",
    "            offset += geom.rvs()\n",
    "            \n",
    "        result = {\n",
    "            \"user_id\": user_id,\n",
    "            \"amount\": amount,\n",
    "            \"merchant_id\": merchant_id,\n",
    "            \"entry\": entry,\n",
    "            \"foreign\": foreign\n",
    "        }\n",
    "        ts = yield (offset, (\"legitimate\", *result.values()))\n",
    "        "
   ]
  },
  {
   "cell_type": "code",
   "execution_count": 19,
   "metadata": {
    "scrolled": false
   },
   "outputs": [
    {
     "name": "stdout",
     "output_type": "stream",
     "text": [
      "(7686, ('legitimate', 9, 24.98, 14207, 'contactless', False))\n",
      "(7686, ('legitimate', 14, 24.98, 14207, 'contactless', False))\n",
      "(16569, ('legitimate', 6, 24.98, 14207, 'contactless', False))\n",
      "(16569, ('legitimate', 9, 23.79, 9462, 'contactless', False))\n",
      "(16569, ('legitimate', 14, 23.79, 9462, 'contactless', False))\n",
      "(26806, ('legitimate', 6, 23.79, 9462, 'contactless', False))\n",
      "(26806, ('legitimate', 9, 102.08, 1674, 'contactless', False))\n",
      "(26806, ('legitimate', 14, 102.08, 1674, 'contactless', False))\n",
      "(34133, ('legitimate', 1, 24.98, 14207, 'contactless', False))\n",
      "(34133, ('legitimate', 6, 102.08, 1674, 'contactless', False))\n",
      "...\n",
      "(34133, ('legitimate', 9, 27.9, 6314, 'online', False))\n",
      "(41877, ('legitimate', 1, 23.79, 9462, 'contactless', False))\n",
      "(41877, ('legitimate', 6, 27.9, 6314, 'online', False))\n",
      "(41877, ('legitimate', 9, 24.98, 16397, 'chip_and_pin', False))\n",
      "(49463, ('legitimate', 1, 102.08, 1674, 'contactless', False))\n",
      "(49463, ('legitimate', 6, 24.98, 16397, 'chip_and_pin', False))\n",
      "(49463, ('legitimate', 9, 40.48, 11644, 'online', False))\n",
      "(57159, ('legitimate', 1, 27.9, 6314, 'online', False))\n",
      "(57159, ('legitimate', 6, 40.48, 11644, 'online', False))\n"
     ]
    }
   ],
   "source": [
    "sim = simulate([legitimate_user_stream(i, common_merchants=common_merchants) for i in [1,6,9,14]])\n",
    "\n",
    "for i in range(200):\n",
    "    if i < 10 or i > 190:\n",
    "        print(next(sim))\n",
    "    elif i == 10:\n",
    "        print(\"...\")"
   ]
  },
  {
   "cell_type": "markdown",
   "metadata": {},
   "source": [
    "We can visualize the behavior of users in each time zone to see when they're awake:"
   ]
  },
  {
   "cell_type": "code",
   "execution_count": 20,
   "metadata": {
    "scrolled": true
   },
   "outputs": [
    {
     "data": {
      "application/javascript": [
       "var spec = {\"config\": {\"view\": {\"width\": 400, \"height\": 300}}, \"data\": {\"url\": \"altair-data-8e98fd186f6241ed907341c18d22c029.json\", \"format\": {\"type\": \"json\"}}, \"mark\": \"area\", \"encoding\": {\"color\": {\"type\": \"quantitative\", \"field\": \"tzs\"}, \"x\": {\"type\": \"quantitative\", \"field\": \"hours\"}, \"y\": {\"type\": \"quantitative\", \"aggregate\": \"count\"}}, \"selection\": {\"selector002\": {\"type\": \"interval\", \"bind\": \"scales\", \"encodings\": [\"x\", \"y\"]}}, \"$schema\": \"https://vega.github.io/schema/vega-lite/v2.6.0.json\"};\n",
       "var opt = {};\n",
       "var type = \"vega-lite\";\n",
       "var id = \"ecfbab51-bdc8-4e38-82bc-f98628208c52\";\n",
       "\n",
       "var output_area = this;\n",
       "\n",
       "require([\"nbextensions/jupyter-vega/index\"], function(vega) {\n",
       "  var target = document.createElement(\"div\");\n",
       "  target.id = id;\n",
       "  target.className = \"vega-embed\";\n",
       "\n",
       "  var style = document.createElement(\"style\");\n",
       "  style.textContent = [\n",
       "    \".vega-embed .error p {\",\n",
       "    \"  color: firebrick;\",\n",
       "    \"  font-size: 14px;\",\n",
       "    \"}\",\n",
       "  ].join(\"\\\\n\");\n",
       "\n",
       "  // element is a jQuery wrapped DOM element inside the output area\n",
       "  // see http://ipython.readthedocs.io/en/stable/api/generated/\\\n",
       "  // IPython.display.html#IPython.display.Javascript.__init__\n",
       "  element[0].appendChild(target);\n",
       "  element[0].appendChild(style);\n",
       "\n",
       "  vega.render(\"#\" + id, spec, type, opt, output_area);\n",
       "}, function (err) {\n",
       "  if (err.requireType !== \"scripterror\") {\n",
       "    throw(err);\n",
       "  }\n",
       "});\n"
      ],
      "text/plain": [
       "<vega.vegalite.VegaLite at 0x1193d8710>"
      ]
     },
     "metadata": {
      "jupyter-vega": "#ecfbab51-bdc8-4e38-82bc-f98628208c52"
     },
     "output_type": "display_data"
    },
    {
     "data": {
      "text/plain": []
     },
     "execution_count": 20,
     "metadata": {},
     "output_type": "execute_result"
    },
    {
     "data": {
      "image/png": "[encoded data removed]"
     },
     "metadata": {
      "jupyter-vega": "#ecfbab51-bdc8-4e38-82bc-f98628208c52"
     },
     "output_type": "display_data"
    }
   ],
   "source": [
    "prng = np.random.RandomState(0xcfe1a77e)\n",
    "seeds = prng.randint((1<<32) - 1, size=24)\n",
    "\n",
    "sim = simulate([legitimate_user_stream(i, seed=seeds[i]) for i in range(24)])\n",
    "\n",
    "results = [(offset, tup[1]) for offset, tup in [next(sim) for _ in range(20000)]]\n",
    "    \n",
    "source = pd.DataFrame({\"hours\": [(t[0] % 86400) // 3600 for t in results], \n",
    "                       \"tzs\": [t[1] % 24 for t in results]})\n",
    "\n",
    "alt.Chart(source).mark_area().encode(\n",
    "    alt.X(\"hours\"),\n",
    "    y='count()', color=\"tzs\"\n",
    ").interactive()"
   ]
  },
  {
   "cell_type": "markdown",
   "metadata": {},
   "source": [
    "## Simulating fraud\n",
    "\n",
    "We'll start with some basic assumptions:  \n",
    "\n",
    "1. fraudulent transactions are equally likely to happen at any arbitrary merchant,\n",
    "2. fraudulent transactions are typically for small dollar amounts,\n",
    "3. fraudulent transactions are rare overall, but when they occur, several will occur close together,\n",
    "4. fraudulent transactions are far more likely to be certain entry types (manual or online) or foreign transactions, and\n",
    "5. fraudulent transactions occur without regard for the user's typical schedule.\n",
    "\n",
    "These will guide our design of a fraudulent transaction generator.  We'll simulate parallel and independent streams of legitimate and fraudulent transactions for each user."
   ]
  },
  {
   "cell_type": "code",
   "execution_count": 21,
   "metadata": {},
   "outputs": [],
   "source": [
    "@makeprng\n",
    "def fraud_entry_types(prng=None, seed=None):\n",
    "    entry_types = [\"contactless\", \"chip_and_pin\", \"swipe\", \"manual\", \"online\"]\n",
    "    entry_probs = [0.05,0.05,0.05,0.35,0.5]\n",
    "\n",
    "    while True:\n",
    "        yield entry_types[prng.choice(len(entry_types), p=entry_probs)]\n",
    "        \n",
    "@makeprng\n",
    "def fraudulent_user_stream(user_id, transactions_per_day = 12, transactions_per_burst=10, amount_means=[5,10,20], amount_probs=[0.2, 0.2, 0.6], prng=None, seed=None, merchant_count=20000):\n",
    "    amounts = transaction_amounts(amount_means, amount_probs, seed=prng.randint((1<<32) - 1))\n",
    "    entry_types = fraud_entry_types(seed=prng.randint((1<<32) - 1))\n",
    "    \n",
    "    SECONDS_PER_DAY = 86400\n",
    "    loc = SECONDS_PER_DAY // (transactions_per_day * transactions_per_burst)\n",
    "    p = 1 / 10\n",
    "\n",
    "    poisson = makedist(stats.poisson, prng=prng, mu=transactions_per_burst)\n",
    "    foldnorm = makedist(stats.foldnorm, prng=prng, c=1.8, loc=SECONDS_PER_DAY * 30, scale=1 << 20)\n",
    "    geom = makedist(stats.geom, prng=prng, p=p, loc=loc)\n",
    "    while True:\n",
    "        # consider also np.floor(stats.gamma.rvs(a=6.4, loc=SECONDS_PER_DAY * 90, scale=SECONDS_PER_DAY, size=1))\n",
    "        fraud_delay = np.floor(foldnorm.rvs())\n",
    "        fraud_delay = max(int(fraud_delay), 1)\n",
    "        \n",
    "        fraud_count = max(poisson.rvs(), 1)\n",
    "        \n",
    "        ams = [next(amounts) for _ in range(fraud_count)]\n",
    "        ens = [next(entry_types) for _ in range(fraud_count)]\n",
    "        fs = prng.choice([True, False], p=[0.3, 0.7], size=fraud_count)\n",
    "        \n",
    "        m_ids = prng.choice(merchant_count, size=fraud_count)\n",
    "        offsets = geom.rvs(size=fraud_count)\n",
    "        offsets[0] += fraud_delay\n",
    "        \n",
    "        for offset, amount, merchant_id, entry, foreign in zip(offsets, ams, m_ids, ens, fs):\n",
    "            result = {\n",
    "                \"user_id\": user_id,\n",
    "                \"amount\": amount,\n",
    "                \"merchant_id\": merchant_id,\n",
    "                \"entry\": entry,\n",
    "                \"foreign\": foreign\n",
    "            }\n",
    "            yield (offset, (\"fraud\", *result.values()))"
   ]
  },
  {
   "cell_type": "markdown",
   "metadata": {},
   "source": [
    "Let's sanity-check the output of our fraudulent transaction generator."
   ]
  },
  {
   "cell_type": "code",
   "execution_count": 22,
   "metadata": {},
   "outputs": [
    {
     "name": "stdout",
     "output_type": "stream",
     "text": [
      "(3680412, ('fraud', 2, 22.83, 834, 'manual', False))\n",
      "(3681133, ('fraud', 2, 14.47, 3947, 'manual', True))\n",
      "(3681854, ('fraud', 2, 15.64, 9320, 'manual', True))\n",
      "(3682592, ('fraud', 2, 27.75, 2564, 'online', False))\n",
      "(3683367, ('fraud', 2, 22.29, 15624, 'online', True))\n",
      "(3684096, ('fraud', 2, 17.03, 6462, 'online', False))\n",
      "(3684820, ('fraud', 2, 11.55, 10598, 'manual', True))\n",
      "(3685541, ('fraud', 2, 31.09, 6416, 'manual', False))\n",
      "(3686283, ('fraud', 2, 20.74, 15148, 'online', False))\n",
      "(3687012, ('fraud', 2, 8.91, 5618, 'online', False))\n",
      "...\n",
      "(30566045, ('fraud', 1, 21.56, 18115, 'online', False))\n",
      "(30566769, ('fraud', 1, 26.65, 18059, 'manual', True))\n",
      "(30567507, ('fraud', 1, 20.95, 10332, 'online', False))\n",
      "(33425130, ('fraud', 3, 20.35, 5101, 'online', False))\n",
      "(33425863, ('fraud', 3, 30.15, 18944, 'manual', False))\n",
      "(33426598, ('fraud', 3, 28.38, 4614, 'swipe', False))\n",
      "(33427329, ('fraud', 3, 23.11, 3631, 'manual', False))\n",
      "(33428062, ('fraud', 3, 31.46, 1338, 'online', False))\n",
      "(33428789, ('fraud', 3, 25.41, 11917, 'online', True))\n"
     ]
    }
   ],
   "source": [
    "sim = simulate([fraudulent_user_stream(1, seed=123, merchant_count=MERCHANT_COUNT), \n",
    "                fraudulent_user_stream(2, seed=456, merchant_count=MERCHANT_COUNT), \n",
    "                fraudulent_user_stream(3, seed=789, merchant_count=MERCHANT_COUNT)])\n",
    "\n",
    "for i in range(200):\n",
    "    v = next(sim)\n",
    "    if i < 10 or i > 190:\n",
    "        print(v)\n",
    "    elif i == 10:\n",
    "        print(\"...\")"
   ]
  },
  {
   "cell_type": "code",
   "execution_count": 23,
   "metadata": {},
   "outputs": [
    {
     "name": "stdout",
     "output_type": "stream",
     "text": [
      "2.89% of transactions were fraudulent\n"
     ]
    }
   ],
   "source": [
    "sim = simulate([legitimate_user_stream(1, seed=123, common_merchants=common_merchants, merchant_count=MERCHANT_COUNT), \n",
    "                legitimate_user_stream(2, seed=456, common_merchants=common_merchants, merchant_count=MERCHANT_COUNT), \n",
    "                legitimate_user_stream(3, seed=789, common_merchants=common_merchants, merchant_count=MERCHANT_COUNT),\n",
    "                fraudulent_user_stream(1, seed=321, merchant_count=MERCHANT_COUNT), \n",
    "                fraudulent_user_stream(2, seed=654, merchant_count=MERCHANT_COUNT), \n",
    "                fraudulent_user_stream(3, seed=987, merchant_count=MERCHANT_COUNT)])\n",
    "count = 0\n",
    "STEPS = 50000\n",
    "\n",
    "for i in range(STEPS):\n",
    "    result = next(sim)\n",
    "    if result[1][0] == 'fraud':\n",
    "        count += 1\n",
    "\n",
    "print(\"%.02f%% of transactions were fraudulent\" % (count / STEPS * 100))"
   ]
  },
  {
   "cell_type": "markdown",
   "metadata": {},
   "source": [
    "# Generating a file of synthetic transactions\n",
    "\n"
   ]
  },
  {
   "cell_type": "code",
   "execution_count": 24,
   "metadata": {},
   "outputs": [],
   "source": [
    "import time\n",
    "import itertools\n",
    "\n",
    "def setup(user_count = 10000, merchant_count = 20000, common_fraction = 21, seed = None):\n",
    "    # a small percentage of merchants account for most transactions\n",
    "    common_merchant_count = merchant_count // common_fraction\n",
    "    prng = np.random.RandomState(seed or 0xda7aba5e)\n",
    "\n",
    "    common_merchants = prng.choice(merchant_count,\n",
    "                                   size=common_merchant_count,\n",
    "                                   replace=True)\n",
    "\n",
    "    legitimate_user_seeds = prng.randint(1<<32, size=user_count)\n",
    "    fraud_user_seeds = prng.randint(1<<32, size=user_count)\n",
    "    \n",
    "    legitimate_streams = [legitimate_user_stream(uid, seed=seed, transactions_per_day=5 + prng.randint(13),\n",
    "                                                 common_merchants=common_merchants, \n",
    "                                                 merchant_count=merchant_count,\n",
    "                                                 amount_means=[3 * (prng.randint(7) + 1), \n",
    "                                                               5 * (prng.randint(20) + 4), \n",
    "                                                               20 * (prng.randint(35) + 4)]) \n",
    "                          for uid, seed in enumerate(legitimate_user_seeds)]\n",
    "    fraud_streams = [fraudulent_user_stream(uid, seed=seed, merchant_count=merchant_count) \n",
    "                     for uid, seed in enumerate(fraud_user_seeds) if prng.randint(10) < 6]\n",
    "    print(\"%d legitimate users and %d fraud streams\" % (len(legitimate_streams), len(fraud_streams)))\n",
    "    return simulate(itertools.chain(legitimate_streams, fraud_streams), initial_time=int(time.time()))"
   ]
  },
  {
   "cell_type": "code",
   "execution_count": 25,
   "metadata": {},
   "outputs": [
    {
     "name": "stdout",
     "output_type": "stream",
     "text": [
      "10000 legitimate users and 5954 fraud streams\n"
     ]
    },
    {
     "ename": "IndexError",
     "evalue": "index 0 is out of bounds for axis 0 with size 0",
     "output_type": "error",
     "traceback": [
      "\u001b[0;31m---------------------------------------------------------------------------\u001b[0m",
      "\u001b[0;31mIndexError\u001b[0m                                Traceback (most recent call last)",
      "\u001b[0;32m<ipython-input-25-bc5d8ba84ba7>\u001b[0m in \u001b[0;36m<module>\u001b[0;34m\u001b[0m\n\u001b[1;32m      4\u001b[0m     \u001b[0mf\u001b[0m\u001b[0;34m.\u001b[0m\u001b[0mwrite\u001b[0m\u001b[0;34m(\u001b[0m\u001b[0;34m\"timestamp, user_id, amount, merchant_id, trans_type, foreign\\n\"\u001b[0m\u001b[0;34m)\u001b[0m\u001b[0;34m\u001b[0m\u001b[0;34m\u001b[0m\u001b[0m\n\u001b[1;32m      5\u001b[0m     \u001b[0;32mfor\u001b[0m \u001b[0mi\u001b[0m \u001b[0;32min\u001b[0m \u001b[0mrange\u001b[0m\u001b[0;34m(\u001b[0m\u001b[0;36m50000000\u001b[0m\u001b[0;34m)\u001b[0m\u001b[0;34m:\u001b[0m\u001b[0;34m\u001b[0m\u001b[0;34m\u001b[0m\u001b[0m\n\u001b[0;32m----> 6\u001b[0;31m         \u001b[0mv\u001b[0m \u001b[0;34m=\u001b[0m \u001b[0mnext\u001b[0m\u001b[0;34m(\u001b[0m\u001b[0msimulation\u001b[0m\u001b[0;34m)\u001b[0m\u001b[0;34m\u001b[0m\u001b[0;34m\u001b[0m\u001b[0m\n\u001b[0m\u001b[1;32m      7\u001b[0m         \u001b[0mf\u001b[0m\u001b[0;34m.\u001b[0m\u001b[0mwrite\u001b[0m\u001b[0;34m(\u001b[0m\u001b[0;34m(\u001b[0m\u001b[0;34m\"%d,\"\u001b[0m \u001b[0;34m%\u001b[0m \u001b[0mv\u001b[0m\u001b[0;34m[\u001b[0m\u001b[0;36m0\u001b[0m\u001b[0;34m]\u001b[0m\u001b[0;34m)\u001b[0m \u001b[0;34m+\u001b[0m \u001b[0;34m\",\"\u001b[0m\u001b[0;34m.\u001b[0m\u001b[0mjoin\u001b[0m\u001b[0;34m(\u001b[0m\u001b[0;34m[\u001b[0m\u001b[0mstr\u001b[0m\u001b[0;34m(\u001b[0m\u001b[0mval\u001b[0m\u001b[0;34m)\u001b[0m \u001b[0;32mfor\u001b[0m \u001b[0mval\u001b[0m \u001b[0;32min\u001b[0m \u001b[0mv\u001b[0m\u001b[0;34m[\u001b[0m\u001b[0;36m1\u001b[0m\u001b[0;34m]\u001b[0m\u001b[0;34m]\u001b[0m\u001b[0;34m)\u001b[0m \u001b[0;34m+\u001b[0m \u001b[0;34m\"\\n\"\u001b[0m\u001b[0;34m)\u001b[0m\u001b[0;34m\u001b[0m\u001b[0;34m\u001b[0m\u001b[0m\n",
      "\u001b[0;32m<ipython-input-1-88389a313318>\u001b[0m in \u001b[0;36msimulate\u001b[0;34m(event_generators, initial_time)\u001b[0m\n\u001b[1;32m     11\u001b[0m     \u001b[0;32mwhile\u001b[0m \u001b[0;32mTrue\u001b[0m\u001b[0;34m:\u001b[0m\u001b[0;34m\u001b[0m\u001b[0;34m\u001b[0m\u001b[0m\n\u001b[1;32m     12\u001b[0m         \u001b[0mtimestamp\u001b[0m\u001b[0;34m,\u001b[0m \u001b[0mresult\u001b[0m\u001b[0;34m,\u001b[0m \u001b[0mevent\u001b[0m \u001b[0;34m=\u001b[0m \u001b[0mpq\u001b[0m\u001b[0;34m[\u001b[0m\u001b[0;36m0\u001b[0m\u001b[0;34m]\u001b[0m\u001b[0;34m\u001b[0m\u001b[0;34m\u001b[0m\u001b[0m\n\u001b[0;32m---> 13\u001b[0;31m         \u001b[0moffset\u001b[0m\u001b[0;34m,\u001b[0m \u001b[0mnext_result\u001b[0m \u001b[0;34m=\u001b[0m \u001b[0mevent\u001b[0m\u001b[0;34m.\u001b[0m\u001b[0msend\u001b[0m\u001b[0;34m(\u001b[0m\u001b[0mtimestamp\u001b[0m\u001b[0;34m)\u001b[0m\u001b[0;34m\u001b[0m\u001b[0;34m\u001b[0m\u001b[0m\n\u001b[0m\u001b[1;32m     14\u001b[0m         \u001b[0mheapq\u001b[0m\u001b[0;34m.\u001b[0m\u001b[0mheappushpop\u001b[0m\u001b[0;34m(\u001b[0m\u001b[0mpq\u001b[0m\u001b[0;34m,\u001b[0m \u001b[0;34m(\u001b[0m\u001b[0mtimestamp\u001b[0m \u001b[0;34m+\u001b[0m \u001b[0moffset\u001b[0m\u001b[0;34m,\u001b[0m \u001b[0mnext_result\u001b[0m\u001b[0;34m,\u001b[0m \u001b[0mevent\u001b[0m\u001b[0;34m)\u001b[0m\u001b[0;34m)\u001b[0m\u001b[0;34m\u001b[0m\u001b[0;34m\u001b[0m\u001b[0m\n\u001b[1;32m     15\u001b[0m         \u001b[0;32myield\u001b[0m \u001b[0;34m(\u001b[0m\u001b[0mtimestamp\u001b[0m\u001b[0;34m,\u001b[0m \u001b[0mresult\u001b[0m\u001b[0;34m)\u001b[0m\u001b[0;34m\u001b[0m\u001b[0;34m\u001b[0m\u001b[0m\n",
      "\u001b[0;32m<ipython-input-21-b1229497db65>\u001b[0m in \u001b[0;36mfraudulent_user_stream\u001b[0;34m(user_id, transactions_per_day, transactions_per_burst, amount_means, amount_probs, prng, seed, merchant_count)\u001b[0m\n\u001b[1;32m     35\u001b[0m         \u001b[0mm_ids\u001b[0m \u001b[0;34m=\u001b[0m \u001b[0mprng\u001b[0m\u001b[0;34m.\u001b[0m\u001b[0mchoice\u001b[0m\u001b[0;34m(\u001b[0m\u001b[0mmerchant_count\u001b[0m\u001b[0;34m,\u001b[0m \u001b[0msize\u001b[0m\u001b[0;34m=\u001b[0m\u001b[0mfraud_count\u001b[0m\u001b[0;34m)\u001b[0m\u001b[0;34m\u001b[0m\u001b[0;34m\u001b[0m\u001b[0m\n\u001b[1;32m     36\u001b[0m         \u001b[0moffsets\u001b[0m \u001b[0;34m=\u001b[0m \u001b[0mgeom\u001b[0m\u001b[0;34m.\u001b[0m\u001b[0mrvs\u001b[0m\u001b[0;34m(\u001b[0m\u001b[0msize\u001b[0m\u001b[0;34m=\u001b[0m\u001b[0mfraud_count\u001b[0m\u001b[0;34m)\u001b[0m\u001b[0;34m\u001b[0m\u001b[0;34m\u001b[0m\u001b[0m\n\u001b[0;32m---> 37\u001b[0;31m         \u001b[0moffsets\u001b[0m\u001b[0;34m[\u001b[0m\u001b[0;36m0\u001b[0m\u001b[0;34m]\u001b[0m \u001b[0;34m+=\u001b[0m \u001b[0mfraud_delay\u001b[0m\u001b[0;34m\u001b[0m\u001b[0;34m\u001b[0m\u001b[0m\n\u001b[0m\u001b[1;32m     38\u001b[0m \u001b[0;34m\u001b[0m\u001b[0m\n\u001b[1;32m     39\u001b[0m         \u001b[0;32mfor\u001b[0m \u001b[0moffset\u001b[0m\u001b[0;34m,\u001b[0m \u001b[0mamount\u001b[0m\u001b[0;34m,\u001b[0m \u001b[0mmerchant_id\u001b[0m\u001b[0;34m,\u001b[0m \u001b[0mentry\u001b[0m\u001b[0;34m,\u001b[0m \u001b[0mforeign\u001b[0m \u001b[0;32min\u001b[0m \u001b[0mzip\u001b[0m\u001b[0;34m(\u001b[0m\u001b[0moffsets\u001b[0m\u001b[0;34m,\u001b[0m \u001b[0mams\u001b[0m\u001b[0;34m,\u001b[0m \u001b[0mm_ids\u001b[0m\u001b[0;34m,\u001b[0m \u001b[0mens\u001b[0m\u001b[0;34m,\u001b[0m \u001b[0mfs\u001b[0m\u001b[0;34m)\u001b[0m\u001b[0;34m:\u001b[0m\u001b[0;34m\u001b[0m\u001b[0;34m\u001b[0m\u001b[0m\n",
      "\u001b[0;31mIndexError\u001b[0m: index 0 is out of bounds for axis 0 with size 0"
     ]
    }
   ],
   "source": [
    "simulation = setup(seed=0x20200213)\n",
    "\n",
    "with open(\"fraud.csv\", \"w\") as f:\n",
    "    f.write(\"timestamp,label,user_id,amount,merchant_id,trans_type,foreign\\n\")\n",
    "    for i in range(50000000):\n",
    "        v = next(simulation)\n",
    "        f.write((\"%d,\" % v[0]) + \",\".join([str(val) for val in v[1]]) + \"\\n\")"
   ]
  }
 ],
 "metadata": {
  "kernelspec": {
   "display_name": "Python 3",
   "language": "python",
   "name": "python3"
  },
  "language_info": {
   "codemirror_mode": {
    "name": "ipython",
    "version": 3
   },
   "file_extension": ".py",
   "mimetype": "text/x-python",
   "name": "python",
   "nbconvert_exporter": "python",
   "pygments_lexer": "ipython3",
   "version": "3.7.5"
  }
 },
 "nbformat": 4,
 "nbformat_minor": 2
}
